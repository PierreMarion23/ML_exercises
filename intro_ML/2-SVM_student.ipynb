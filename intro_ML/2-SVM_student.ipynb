{
 "cells": [
  {
   "cell_type": "markdown",
   "metadata": {},
   "source": [
    "# Introduction to machine learning\n",
    "\n",
    "*Maxime Sangnier*\n",
    "\n",
    "Fall, 2019\n",
    "\n",
    "## Practical session 2: kernel methods for classification and regression"
   ]
  },
  {
   "cell_type": "markdown",
   "metadata": {},
   "source": [
    "# Table of contents\n",
    "1. [Intuitive approach to SVM](#part1)\n",
    "1. [Classification](#part2)\n",
    "1. [Regression](#part3)\n",
    "1. [Regression with precomputed kernel](#part4)\n",
    "1. [Duality gap](#part5)\n"
   ]
  },
  {
   "cell_type": "code",
   "execution_count": 1,
   "metadata": {},
   "outputs": [
    {
     "name": "stdout",
     "output_type": "stream",
     "text": [
      "\n",
      "Packages:\n",
      "\tnympy as np\n",
      "\tmatplotlib.pyplot as plt\n",
      "\tseaborn as sns\n",
      "\n",
      "Functions:\n",
      "\tplotXY\n",
      "\tplot_frontiere\n",
      "\tmap_regions\n",
      "\tcovariance\n",
      "\tplot_cov\n",
      "\tsample_gmm\n",
      "\tscatter\n",
      "\tplot_level_set\n",
      "\tgaussian_sample\n",
      "\n"
     ]
    }
   ],
   "source": [
    "from mllab import *"
   ]
  },
  {
   "cell_type": "markdown",
   "metadata": {},
   "source": [
    "# Intuitive approach to SVM <a id=\"part1\"></a>\n"
   ]
  },
  {
   "cell_type": "markdown",
   "metadata": {},
   "source": [
    ">The following expression enables to assess, in real time, the impact of a kernel and of the tradeoff parameter $C = \\frac{1}{n\\lambda}$."
   ]
  },
  {
   "cell_type": "code",
   "execution_count": 2,
   "metadata": {},
   "outputs": [
    {
     "name": "stdout",
     "output_type": "stream",
     "text": [
      "\n",
      "==========\n",
      "Libsvm GUI\n",
      "==========\n",
      "\n",
      "A simple graphical frontend for Libsvm mainly intended for didactic\n",
      "purposes. You can create data points by point and click and visualize\n",
      "the decision region induced by different kernels and parameter settings.\n",
      "\n",
      "To create positive examples click the left mouse button; to create\n",
      "negative examples click the right button.\n",
      "\n",
      "If all examples are from the same class, it uses a one-class SVM.\n",
      "\n",
      "\n"
     ]
    }
   ],
   "source": [
    "!python3 svm_gui.py"
   ]
  },
  {
   "cell_type": "markdown",
   "metadata": {},
   "source": [
    ">Make some tests with this GUI.\n",
    "In particular, design\n",
    "- linearly separable data / or not;\n",
    "- unimodal classes / or not,\n",
    "\n",
    ">and compare\n",
    "- different kernels;\n",
    "- different values for C and for hyperparameters (kernel parameters).\n",
    "\n",
    ">For unimodal classes (first, linearly separable, then not), how do the margin and the frontiere behave with respect to $C$ (for a linear kernel) and to $\\gamma$ (for a Gaussian kernel)?\n",
    "\n",
    ">Are the values for these two parameters decisive for obtaining good classification rates?"
   ]
  },
  {
   "cell_type": "markdown",
   "metadata": {},
   "source": [
    "**Answer:**\n",
    "\n",
    "For a linearly separable class, the margin and the frontiere don't depend on $C$ for a linear kernel. For the Gaussian kernel, the lesser $\\gamma$, the more the decision ressembles a linear kernel.\n",
    "\n",
    "For a non-linearly separable class, the margin grows when $C$ shrinks for a linear kernel. For a Gaussian kernel, if $\\gamma$ is too large, the model overfits. If $\\gamma$ is too small, the decision is similar to a linear kernel.\n",
    "\n",
    "The values of these two parameters are indeed decivise for obtaining good classification rates."
   ]
  },
  {
   "cell_type": "markdown",
   "metadata": {},
   "source": [
    ">Fit a linear classifier on unimodal (but not linearly separable) classes. Add some points one at a time.\n",
    "\n",
    ">Determine three particular areas for the classifier.\n",
    "How does the classifier react when adding a point in each area?\n",
    "\n",
    ">What can we say about the dual variable $\\alpha_i$ (associated to each point $X_i$) for each area?"
   ]
  },
  {
   "cell_type": "markdown",
   "metadata": {},
   "source": [
    "**Answer:**\n",
    "\n",
    "The three areas are:\n",
    "+ on the \"good side\" of the classifier beyond the margin. The classifier does not change when adding a point. $\\alpha_i=0$ \n",
    "+ on the \"good side\" of the classifier, between the margin and the frontier: the classifier changes, and the margin slightly decreases. $0 \\leq \\alpha_i \\leq C$ \n",
    "+ on the \"bad side\" of the classifier: the classifier changes, and the margin increases. $\\alpha_i=C$ "
   ]
  },
  {
   "cell_type": "markdown",
   "metadata": {},
   "source": [
    ">Design a very unbalanced dataset (really more points in a class than in the other).\n",
    "With a linear kernel, decrease gradually the value of $C$. What do you observe?\n",
    "\n",
    ">This penomenon can be avoided with a class-dependent weighting of the data-fitting term (parameter `class_weight` of [sklearn.svm.SVC](http://scikit-learn.org/stable/modules/generated/sklearn.svm.SVC.html))."
   ]
  },
  {
   "cell_type": "markdown",
   "metadata": {},
   "source": [
    "**Answer:**\n",
    "\n",
    "When $C$ decreases, the classifier classifies all points in the largest class."
   ]
  },
  {
   "cell_type": "markdown",
   "metadata": {},
   "source": [
    "# Classification <a id=\"part2\"></a>\n",
    ">Let us consider the dataset defined below."
   ]
  },
  {
   "cell_type": "code",
   "execution_count": 3,
   "metadata": {},
   "outputs": [
    {
     "data": {
      "image/png": "[encoded data removed]",
      "text/plain": [
       "<Figure size 432x288 with 1 Axes>"
      ]
     },
     "metadata": {
      "needs_background": "light"
     },
     "output_type": "display_data"
    }
   ],
   "source": [
    "# Classification dataset\n",
    "from sklearn.datasets import make_classification\n",
    "\n",
    "X, y = make_classification(n_samples=500, n_classes=2,\n",
    "                           n_features=2, n_redundant=0, n_clusters_per_class=1)\n",
    "\n",
    "plotXY(X, y)"
   ]
  },
  {
   "cell_type": "markdown",
   "metadata": {},
   "source": [
    ">For $C \\in \\{10^{-3}, \\dots, 10^{2}\\}$, fit a [linear support vector classifier](http://scikit-learn.org/stable/modules/generated/sklearn.svm.SVC.html) and store its classification accuray (also known as score).\n",
    "\n",
    ">Plot the score vs the values of $C$."
   ]
  },
  {
   "cell_type": "code",
   "execution_count": 4,
   "metadata": {},
   "outputs": [
    {
     "data": {
      "image/png": "[encoded data removed]",
      "text/plain": [
       "<Figure size 432x288 with 1 Axes>"
      ]
     },
     "metadata": {
      "needs_background": "light"
     },
     "output_type": "display_data"
    }
   ],
   "source": [
    "from sklearn.svm import SVC\n",
    "scores = []\n",
    "Cs = [1e-3, 1e-2, 1e-1, 1, 1e1, 1e2]\n",
    "n_train = 250\n",
    "\n",
    "for C in Cs:\n",
    "    clf = SVC(C=C)\n",
    "    clf.fit(X[:n_train], y[:n_train])\n",
    "    scores.append(clf.score(X[n_train:], y[n_train:]))\n",
    "    \n",
    "plt.xscale('log')\n",
    "plt.plot(Cs, scores)\n",
    "plt.title('Score de classification en entrainement en fct de C')\n",
    "plt.show()"
   ]
  },
  {
   "cell_type": "markdown",
   "metadata": {},
   "source": [
    ">Determine the value of $C$ leading to the best score."
   ]
  },
  {
   "cell_type": "code",
   "execution_count": 5,
   "metadata": {},
   "outputs": [
    {
     "name": "stdout",
     "output_type": "stream",
     "text": [
      "Best C: 1\n"
     ]
    }
   ],
   "source": [
    "print('Best C: ' +str(Cs[np.argmax(np.array(scores))]))"
   ]
  },
  {
   "cell_type": "markdown",
   "metadata": {},
   "source": [
    "# Regression <a id=\"part3\"></a>\n",
    ">What about for this dataset?"
   ]
  },
  {
   "cell_type": "code",
   "execution_count": 6,
   "metadata": {},
   "outputs": [
    {
     "data": {
      "text/plain": [
       "<matplotlib.collections.PathCollection at 0x7f772fbe6f28>"
      ]
     },
     "execution_count": 6,
     "metadata": {},
     "output_type": "execute_result"
    },
    {
     "data": {
      "image/png": "[encoded data removed]",
      "text/plain": [
       "<Figure size 432x288 with 1 Axes>"
      ]
     },
     "metadata": {
      "needs_background": "light"
     },
     "output_type": "display_data"
    }
   ],
   "source": [
    "# Regression dataset\n",
    "n = 100\n",
    "X_train = np.sort(5 * np.random.rand(n))\n",
    "y_train = np.sin(X_train)\n",
    "y_train[::5] += 1 * (0.5 - np.random.rand(n//5))\n",
    "\n",
    "X_test = np.arange(0, 5, step=1e-2)\n",
    "y_test = np.sin(X_test)\n",
    "\n",
    "# Make 2d-arrays\n",
    "X_train = X_train[:, np.newaxis]\n",
    "X_test = X_test[:, np.newaxis]\n",
    "\n",
    "plt.scatter(X_train, y_train)"
   ]
  },
  {
   "cell_type": "code",
   "execution_count": 7,
   "metadata": {},
   "outputs": [
    {
     "name": "stdout",
     "output_type": "stream",
     "text": [
      "Best C: 10.0\n"
     ]
    },
    {
     "data": {
      "image/png": "[encoded data removed]",
      "text/plain": [
       "<Figure size 432x288 with 1 Axes>"
      ]
     },
     "metadata": {
      "needs_background": "light"
     },
     "output_type": "display_data"
    }
   ],
   "source": [
    "from sklearn.svm import SVR\n",
    "scores = []\n",
    "Cs = [1e-3, 1e-2, 1e-1, 1, 1e1, 1e2]\n",
    "\n",
    "for C in Cs:\n",
    "    reg = SVR(C=C)\n",
    "    reg.fit(X_train, y_train)\n",
    "    scores.append(reg.score(X_test, y_test))\n",
    "\n",
    "best_C = Cs[np.argmax(np.array(scores))]\n",
    "print('Best C: ' +str(best_C))\n",
    "\n",
    "plt.xscale('log')\n",
    "plt.plot(Cs, scores)\n",
    "plt.title('Score de régression en entrainement en fct de C')\n",
    "plt.show()"
   ]
  },
  {
   "cell_type": "markdown",
   "metadata": {},
   "source": [
    "**Answer:**\n",
    "…"
   ]
  },
  {
   "cell_type": "markdown",
   "metadata": {},
   "source": [
    ">Plot on the same figure the training points and the prediction for the test set."
   ]
  },
  {
   "cell_type": "code",
   "execution_count": 8,
   "metadata": {},
   "outputs": [
    {
     "data": {
      "image/png": "[encoded data removed]",
      "text/plain": [
       "<Figure size 432x288 with 1 Axes>"
      ]
     },
     "metadata": {
      "needs_background": "light"
     },
     "output_type": "display_data"
    }
   ],
   "source": [
    "plt.scatter(X_train, y_train)\n",
    "reg = SVR(C=best_C)\n",
    "reg.fit(X_train, y_train)\n",
    "plt.scatter(X_test, reg.predict(X_test))\n",
    "plt.show()"
   ]
  },
  {
   "cell_type": "markdown",
   "metadata": {},
   "source": [
    "# Regression with precomputed kernel <a id=\"part4\"></a>\n"
   ]
  },
  {
   "cell_type": "markdown",
   "metadata": {},
   "source": [
    ">We focus here on molecule activity prediction.\n",
    "For this purpose, we consider a molecule to be a graph, represented by a set of relations between its nodes (the atoms of the molecule).\n",
    "Following these relations in a molecule $x$, we go over a path $p$ in the corresponding graph.\n",
    "Let $\\mathcal P_d$ be the set of all possible paths of length less than $d$ for the family of graph considered.\n",
    "Let also $I(x, p)$ being $1$ if the path $p$ is in the molecule $x$ and $0$ otherwise.\n",
    "Then, for two molecules $x$ and $x'$, we can define the similarity measure\n",
    "$$\n",
    "    u(x, x') = \\sum_{p \\in \\mathcal P_d} I(x, p) I(x', p).\n",
    "$$\n",
    "The *Tanimoto kernel* is then defined by\n",
    "$$\n",
    "    k(x, x') = \\frac{u(x, x')}{u(x, x) + u(x', x') - u(x, x')}.\n",
    "$$\n",
    "\n",
    ">Please, download the [dataset](https://drive.google.com/file/d/0B6VyRTVgbDFeWFFUUVRidUR3MFE/view?usp=sharing) in the directory `./data/` and run the following script to build the train and test kernel matrices."
   ]
  },
  {
   "cell_type": "code",
   "execution_count": 9,
   "metadata": {},
   "outputs": [
    {
     "name": "stdout",
     "output_type": "stream",
     "text": [
      "Number of training examples: 576\n",
      "Number of test examples: 1729\n"
     ]
    }
   ],
   "source": [
    "path = \"data_ncicancer/\"\n",
    "\n",
    "# Load the data\n",
    "K = np.loadtxt(path + \"/ncicancer_kernel_hf_ex0.txt\") # Load the kernel\n",
    "y = np.loadtxt(path + \"/ncicancer_targets_ex0.txt\")[:, 0] # Load the targets\n",
    "y = (y-np.min(y)) / (np.max(y)-np.min(y)) # Scale the targets\n",
    "\n",
    "# Split train/test sets\n",
    "indices = np.random.permutation(K.shape[0])\n",
    "train_idx, test_idx = indices[:K.shape[0]//4], indices[K.shape[0]//4:]\n",
    "K_train = K[train_idx][:, train_idx]\n",
    "y_train = y[train_idx]\n",
    "K_test = K[test_idx][:, train_idx]\n",
    "y_test = y[test_idx]\n",
    "\n",
    "print(\"Number of training examples:\", K_train.shape[0])\n",
    "print(\"Number of test examples:\", K_test.shape[0])"
   ]
  },
  {
   "cell_type": "markdown",
   "metadata": {},
   "source": [
    ">We would like to apply support vector regression.\n",
    "Plot the training and test accuracies for $C=10^{-1}$ and different values of $\\epsilon$ in $[10^{-3}, 10^{-1}]$."
   ]
  },
  {
   "cell_type": "code",
   "execution_count": 10,
   "metadata": {},
   "outputs": [
    {
     "name": "stdout",
     "output_type": "stream",
     "text": [
      "Best eps: 0.0069519279617756054\n",
      "Best accuracy: 0.3077957444692869\n"
     ]
    },
    {
     "data": {
      "image/png": "[encoded data removed]",
      "text/plain": [
       "<Figure size 432x288 with 1 Axes>"
      ]
     },
     "metadata": {
      "needs_background": "light"
     },
     "output_type": "display_data"
    }
   ],
   "source": [
    "from sklearn.svm import SVR\n",
    "scores_train = []\n",
    "scores_test = []\n",
    "epsilons = np.logspace(-3, -1, 20, base=10)\n",
    "\n",
    "for eps in epsilons:\n",
    "    reg = SVR(kernel='precomputed', C=0.1, epsilon=eps)\n",
    "    reg.fit(K_train, y_train)\n",
    "    scores_train.append(reg.score(K_train, y_train))\n",
    "    scores_test.append(reg.score(K_test, y_test))\n",
    "\n",
    "best_eps = epsilons[np.argmax(np.array(scores_test))]\n",
    "print('Best eps: ' +str(best_eps))\n",
    "print('Best accuracy: ' + str(np.max(scores_test)))\n",
    "\n",
    "plt.xscale('log')\n",
    "plt.plot(epsilons, scores_train, label='Score train')\n",
    "plt.plot(epsilons, scores_test, label='Score test')\n",
    "plt.title('Score du SVR en fct de eps')\n",
    "plt.legend()\n",
    "plt.show()"
   ]
  },
  {
   "cell_type": "markdown",
   "metadata": {},
   "source": [
    ">Do the same with kernel regularized regression."
   ]
  },
  {
   "cell_type": "code",
   "execution_count": 11,
   "metadata": {},
   "outputs": [
    {
     "name": "stdout",
     "output_type": "stream",
     "text": [
      "Best eps: 0.5455594781168517\n",
      "Best accuracy: 0.2918848477457855\n"
     ]
    },
    {
     "data": {
      "image/png": "[encoded data removed]",
      "text/plain": [
       "<Figure size 432x288 with 1 Axes>"
      ]
     },
     "metadata": {
      "needs_background": "light"
     },
     "output_type": "display_data"
    }
   ],
   "source": [
    "from sklearn.kernel_ridge import KernelRidge\n",
    "scores_train = []\n",
    "scores_test = []\n",
    "alphas = np.logspace(-2, 1, 20, base=10)\n",
    "\n",
    "for alpha in alphas:\n",
    "    reg = KernelRidge(kernel='precomputed', alpha=alpha)\n",
    "    reg.fit(K_train, y_train)\n",
    "    scores_train.append(reg.score(K_train, y_train))\n",
    "    scores_test.append(reg.score(K_test, y_test))\n",
    "\n",
    "best_alphas = alphas[np.argmax(np.array(scores_test))]\n",
    "print('Best eps: ' +str(best_alphas))\n",
    "print('Best accuracy: ' + str(np.max(scores_test)))\n",
    "\n",
    "plt.xscale('log')\n",
    "plt.plot(alphas, scores_train, label='Score train')\n",
    "plt.plot(alphas, scores_test, label='Score test')\n",
    "plt.title('Score du KernelRidge en fct de alpha')\n",
    "plt.legend()\n",
    "plt.show()"
   ]
  },
  {
   "cell_type": "markdown",
   "metadata": {},
   "source": [
    ">Given the kernel matrices for training and testing, give the best possible accuracy on the test sample with a kernel machine.\n",
    "The testing data should not intervene in fitting the model."
   ]
  },
  {
   "cell_type": "code",
   "execution_count": 12,
   "metadata": {},
   "outputs": [
    {
     "name": "stdout",
     "output_type": "stream",
     "text": [
      "Best parameters: {'C': 0.1623776739188721, 'epsilon': 0.00545559478116852}\n",
      "Training score: 0.75\n",
      "Test score: 0.32\n"
     ]
    },
    {
     "name": "stderr",
     "output_type": "stream",
     "text": [
      "/home/pmarion/anaconda3/envs/introML/lib/python3.7/site-packages/sklearn/model_selection/_search.py:814: DeprecationWarning: The default of the `iid` parameter will change from True to False in version 0.22 and will be removed in 0.24. This will change numeric results when test-set sizes are unequal.\n",
      "  DeprecationWarning)\n"
     ]
    }
   ],
   "source": [
    "from sklearn.svm import SVR\n",
    "from sklearn.model_selection import GridSearchCV\n",
    "\n",
    "epsilons = np.logspace(-3, -1, 20, base=10)\n",
    "Cs = np.logspace(-5, 5, 20, base=10)\n",
    "param_grid = dict(C=Cs, epsilon=epsilons)\n",
    "clf = GridSearchCV(SVR(kernel='precomputed'), param_grid=param_grid, refit=True, cv=5)\n",
    "clf.fit(K_train, y_train)\n",
    "\n",
    "print('Best parameters: %s' %clf.best_params_)\n",
    "print('Training score: %0.2f' % clf.score(K_train, y_train))\n",
    "print('Test score: %0.2f' % clf.score(K_test, y_test))"
   ]
  },
  {
   "cell_type": "markdown",
   "metadata": {},
   "source": [
    ">Compare to regularized regression with kernels."
   ]
  },
  {
   "cell_type": "code",
   "execution_count": 13,
   "metadata": {},
   "outputs": [
    {
     "name": "stdout",
     "output_type": "stream",
     "text": [
      "Best parameters: {'alpha': 0.18329807108324356}\n",
      "Training score: 0.92\n",
      "Test score: 0.28\n"
     ]
    },
    {
     "name": "stderr",
     "output_type": "stream",
     "text": [
      "/home/pmarion/anaconda3/envs/introML/lib/python3.7/site-packages/sklearn/model_selection/_search.py:814: DeprecationWarning: The default of the `iid` parameter will change from True to False in version 0.22 and will be removed in 0.24. This will change numeric results when test-set sizes are unequal.\n",
      "  DeprecationWarning)\n"
     ]
    }
   ],
   "source": [
    "scores_train = []\n",
    "scores_test = []\n",
    "alphas = np.logspace(-2, 1, 20, base=10)\n",
    "param_grid = dict(alpha=alphas)\n",
    "clf = GridSearchCV(KernelRidge(kernel='precomputed'), param_grid=param_grid, refit=True, cv=5)\n",
    "clf.fit(K_train, y_train)\n",
    "\n",
    "print('Best parameters: %s' %clf.best_params_)\n",
    "print('Training score: %0.2f' % clf.score(K_train, y_train))\n",
    "print('Test score: %0.2f' % clf.score(K_test, y_test))"
   ]
  },
  {
   "cell_type": "markdown",
   "metadata": {},
   "source": [
    "# Duality gap <a id=\"part5\"></a>\n"
   ]
  },
  {
   "cell_type": "code",
   "execution_count": 14,
   "metadata": {},
   "outputs": [
    {
     "name": "stdout",
     "output_type": "stream",
     "text": [
      "Digits dataset:\n",
      "X shape: (449, 64)\n",
      "Labels: -1 1\n"
     ]
    }
   ],
   "source": [
    "# Dataset\n",
    "import numpy as np\n",
    "from sklearn.datasets import load_digits\n",
    "\n",
    "X, Y = load_digits(return_X_y=True)\n",
    "Y[Y<5] = 1  # Class 1: digits 1, …, 4\n",
    "Y[Y>4] = -1  # Class -1: digits 5, …, 9\n",
    "\n",
    "ind = np.random.permutation(X.shape[0])[:X.shape[0]//4]\n",
    "X = X[ind]\n",
    "Y = Y[ind]\n",
    "\n",
    "print(\"Digits dataset:\")\n",
    "print(\"X shape:\", X.shape)\n",
    "print(\"Labels:\", Y.min(), Y.max())"
   ]
  },
  {
   "cell_type": "markdown",
   "metadata": {},
   "source": [
    ">After being fitted, the object [SVC](http://scikit-learn.org/stable/modules/generated/sklearn.svm.SVC.html) has many interesting attributes:\n",
    "- `coef_` (1 x #features): is the vector defining the Riesz representation (primal coefficients);\n",
    "- `intercept_` (1): is the model intercept;\n",
    "- `support_` (#support vectors): is the array of indexes of the support vectors;\n",
    "- `dual_coef_` (1 x #support vectors): is the array of non-zero signed dual variables (that is $y_i \\alpha_i$).\n",
    "\n",
    ">Write a function, called `primal_dual(clf, X_train, y_train)`, that given a classifier object, a data matrix, and a label array, fits the classifier and returns the tuple `(primal, dual)` of primal and dual objective values.\n",
    "Check, on the dataset previously loaded, that the primal and the dual objectives are close to each other."
   ]
  },
  {
   "cell_type": "code",
   "execution_count": 15,
   "metadata": {},
   "outputs": [
    {
     "name": "stdout",
     "output_type": "stream",
     "text": [
      "(102.53706052212854, 102.53003918792322)\n"
     ]
    }
   ],
   "source": [
    "from sklearn.svm import SVC\n",
    "\n",
    "def primal_dual(clf, X_train, y_train):\n",
    "    clf.fit(X, Y)\n",
    "    Y_pred = clf.decision_function(X_train)\n",
    "    loss = 1-Y*Y_pred\n",
    "    primal = 0.5 * np.linalg.norm(clf.coef_)**2 + clf.C * np.sum(loss[loss>0])\n",
    "    dual = np.sum(Y[clf.support_]*clf.dual_coef_[0]) - 0.5 * np.dot(clf.dual_coef_, np.dot(np.matmul(X[clf.support_], X[clf.support_].T), clf.dual_coef_.T))[0][0]\n",
    "    return (primal, dual)\n",
    "\n",
    "print(primal_dual(SVC(kernel='linear'), X, Y))"
   ]
  },
  {
   "cell_type": "markdown",
   "metadata": {},
   "source": [
    ">How does the duality gap (difference between primal and dual objectives) behave with respect to the optimization tolerance (parameter `tol` of [SVC](http://scikit-learn.org/stable/modules/generated/sklearn.svm.SVC.html))?\n",
    "To anwser, plot the gap with respect to the tolerance in x-log-scale."
   ]
  },
  {
   "cell_type": "code",
   "execution_count": 16,
   "metadata": {},
   "outputs": [
    {
     "data": {
      "image/png": "[encoded data removed]",
      "text/plain": [
       "<Figure size 432x288 with 1 Axes>"
      ]
     },
     "metadata": {
      "needs_background": "light"
     },
     "output_type": "display_data"
    }
   ],
   "source": [
    "from sklearn.svm import SVC\n",
    "primals = []\n",
    "duals = []\n",
    "tols = np.logspace(-5, -1, 10, base=10)\n",
    "\n",
    "for tol in tols:\n",
    "    primal, dual = primal_dual(SVC(kernel='linear', C=0.01, tol=tol), X, Y)\n",
    "    primals.append(primal)\n",
    "    duals.append(dual)\n",
    "\n",
    "plt.xscale('log')\n",
    "plt.yscale('log')\n",
    "plt.plot(tols, np.array(primals)-np.array(duals), label='Duality gap')\n",
    "plt.legend()\n",
    "plt.show()"
   ]
  },
  {
   "cell_type": "code",
   "execution_count": null,
   "metadata": {},
   "outputs": [],
   "source": []
  }
 ],
 "metadata": {
  "kernelspec": {
   "display_name": "Python 3",
   "language": "python",
   "name": "python3"
  },
  "language_info": {
   "codemirror_mode": {
    "name": "ipython",
    "version": 3
   },
   "file_extension": ".py",
   "mimetype": "text/x-python",
   "name": "python",
   "nbconvert_exporter": "python",
   "pygments_lexer": "ipython3",
   "version": "3.7.3"
  }
 },
 "nbformat": 4,
 "nbformat_minor": 4
}
