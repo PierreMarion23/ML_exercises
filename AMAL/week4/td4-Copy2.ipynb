{
 "cells": [
  {
   "cell_type": "markdown",
   "metadata": {},
   "source": [
    "# AMAL - TP 4 - Réseaux récurrents"
   ]
  },
  {
   "cell_type": "code",
   "execution_count": 1,
   "metadata": {},
   "outputs": [
    {
     "name": "stderr",
     "output_type": "stream",
     "text": [
      "WARNING:root:This caffe2 python run does not have GPU support. Will run in CPU only mode.\n"
     ]
    }
   ],
   "source": [
    "import numpy as np\n",
    "import torch\n",
    "from datamaestro import prepare_dataset \n",
    "from torch.utils.tensorboard import SummaryWriter\n",
    "import time\n",
    "import csv\n",
    "import pandas as pd\n",
    "import os\n",
    "from matplotlib import pyplot as plt"
   ]
  },
  {
   "cell_type": "code",
   "execution_count": 2,
   "metadata": {},
   "outputs": [
    {
     "data": {
      "text/plain": [
       "<torch.autograd.anomaly_mode.set_detect_anomaly at 0x7fec3b6f07b8>"
      ]
     },
     "execution_count": 2,
     "metadata": {},
     "output_type": "execute_result"
    }
   ],
   "source": [
    "torch.autograd.set_detect_anomaly(True)"
   ]
  },
  {
   "cell_type": "markdown",
   "metadata": {},
   "source": [
    "## Exercice 1"
   ]
  },
  {
   "cell_type": "code",
   "execution_count": 11,
   "metadata": {},
   "outputs": [],
   "source": [
    "class RNN_new(torch.nn.Module):\n",
    "    def __init__(self, dim, latent, batch):\n",
    "        super(RNN_new, self).__init__()\n",
    "        \n",
    "        self.Wi = torch.nn.Linear(dim, latent, bias=False)\n",
    "        self.Wh = torch.nn.Linear(latent, latent)\n",
    "        self.latent = latent\n",
    "        self.h = torch.zeros(batch, latent, requires_grad=True)\n",
    "        \n",
    "    def one_step(self, x, h):\n",
    "        return torch.nn.Tanh()(self.Wi(x) + self.Wh(h)) \n",
    "    \n",
    "    def forward(self, x):\n",
    "        length, batch = x.shape[0], x.shape[1] \n",
    "        hs = []\n",
    "        hs.append(self.one_step(x[0], self.h))\n",
    "        for i in range(1, length):\n",
    "            hs.append(self.one_step(x[i], hs[-1]))\n",
    "        return hs[-1]\n",
    "       # return torch.cat(hs, dim=0)"
   ]
  },
  {
   "cell_type": "code",
   "execution_count": 5,
   "metadata": {},
   "outputs": [],
   "source": [
    "class RNN(torch.nn.Module):\n",
    "    def __init__(self, dim, latent, batch):\n",
    "        super(RNN, self).__init__()\n",
    "        \n",
    "        self.Wi = torch.nn.Linear(dim, latent, bias=False)\n",
    "        \n",
    "   \n",
    "    def forward(self, x):\n",
    "        return torch.nn.Tanh()(self.Wi(x))[0]"
   ]
  },
  {
   "cell_type": "markdown",
   "metadata": {},
   "source": [
    "Test:"
   ]
  },
  {
   "cell_type": "code",
   "execution_count": 5,
   "metadata": {},
   "outputs": [],
   "source": [
    "n_cities = 2\n",
    "dim = 2\n",
    "batch = 16\n",
    "latent = 20\n",
    "length = 100"
   ]
  },
  {
   "cell_type": "code",
   "execution_count": 6,
   "metadata": {},
   "outputs": [],
   "source": [
    "temp_data = pd.read_csv('tempAMAL_train.csv')\n",
    "temp_data = temp_data.iloc[:,1: 1+n_cities]\n",
    "data = np.asarray(temp_data)\n",
    "cols = temp_data.columns\n",
    "\n",
    "n_times = data.shape[0]\n",
    "data[np.isnan(data)] = np.mean(data[~np.isnan(data)])\n",
    "#data = data / 280\n",
    "#data *= 10 * n_times/ (np.linalg.norm(data)*length)\n",
    "data = (data - np.min(data)) / (np.max(data) - np.min(data))"
   ]
  },
  {
   "cell_type": "code",
   "execution_count": 7,
   "metadata": {},
   "outputs": [],
   "source": [
    "increment = np.repeat(np.arange(0, length), batch).reshape((length, batch))"
   ]
  },
  {
   "cell_type": "code",
   "execution_count": 12,
   "metadata": {},
   "outputs": [],
   "source": [
    "model = torch.nn.Sequential(\n",
    "        RNN_new(dim, latent, batch),\n",
    "        torch.nn.Linear(latent, n_cities)\n",
    "   #     torch.nn.Tanh() # à changer ?\n",
    ")"
   ]
  },
  {
   "cell_type": "code",
   "execution_count": 13,
   "metadata": {},
   "outputs": [
    {
     "name": "stdout",
     "output_type": "stream",
     "text": [
      "0.505\n"
     ]
    }
   ],
   "source": [
    "def test_model(n_test):\n",
    "    p_true = 0\n",
    "\n",
    "    for i in range(n_test):\n",
    "        with torch.no_grad():\n",
    "            random_cities = np.random.randint(0, n_cities, size=(batch))\n",
    "            random_times = np.random.randint(0, n_times-length-dim, size=(batch))\n",
    "            x_numpy = np.zeros((length, batch, dim))\n",
    "            for k in range(dim):\n",
    "                x_numpy[:, :, k] = data[np.repeat(np.reshape(random_times+k, (1, batch)), length, axis=0)+increment, random_cities]\n",
    "            x = torch.from_numpy(x_numpy).float()\n",
    "            predicted_cities = model(x).detach().numpy()\n",
    "            ok = np.sum(np.argmax(predicted_cities, axis=1) == random_cities) / batch\n",
    "            p_true += ok\n",
    "\n",
    "    print(p_true / n_test)\n",
    "    \n",
    "test_model(100)"
   ]
  },
  {
   "cell_type": "code",
   "execution_count": 14,
   "metadata": {},
   "outputs": [],
   "source": [
    "#optim = torch.optim.SGD(params=model.parameters(),lr=EPS)\n",
    "optim = torch.optim.Adam(params=[x for x in model.parameters()] + [model[0].h], lr=1e-3,betas=(0.9, 0.999), eps=1e-08, weight_decay=0, amsgrad=False)\n",
    "loss = torch.nn.CrossEntropyLoss()"
   ]
  },
  {
   "cell_type": "code",
   "execution_count": 15,
   "metadata": {},
   "outputs": [
    {
     "data": {
      "text/plain": [
       "143.94961763382815"
      ]
     },
     "execution_count": 15,
     "metadata": {},
     "output_type": "execute_result"
    }
   ],
   "source": [
    "n_train = 1000\n",
    "batch * length * dim * n_train / (data.shape[0]*data.shape[1])"
   ]
  },
  {
   "cell_type": "code",
   "execution_count": null,
   "metadata": {},
   "outputs": [],
   "source": [
    "writer = SummaryWriter()\n",
    "losses = []\n",
    "for i in range(n_train):\n",
    "    # each time: we see batch * length data\n",
    "    optim.zero_grad()\n",
    "    random_cities = np.random.randint(0, n_cities, size=(batch))\n",
    "    random_times = np.random.randint(0, n_times-length-dim, size=(batch))\n",
    "    x_numpy = np.zeros((length, batch, dim))\n",
    "    for k in range(dim):\n",
    "        x_numpy[:, :, k] = data[np.repeat(np.reshape(random_times+k, (1, batch)), length, axis=0)+increment, random_cities]\n",
    "    x = torch.from_numpy(x_numpy).float()\n",
    "    l = loss(model(x), torch.from_numpy(random_cities))\n",
    "    l.backward()\n",
    "    optim.step()\n",
    "    writer.add_scalar('Loss/train', l, i)\n",
    "    losses.append(l)"
   ]
  },
  {
   "cell_type": "code",
   "execution_count": 20,
   "metadata": {},
   "outputs": [
    {
     "data": {
      "text/plain": [
       "tensor(0.6925, grad_fn=<NllLossBackward>)"
      ]
     },
     "execution_count": 20,
     "metadata": {},
     "output_type": "execute_result"
    }
   ],
   "source": [
    "l"
   ]
  },
  {
   "cell_type": "code",
   "execution_count": 21,
   "metadata": {},
   "outputs": [
    {
     "data": {
      "text/plain": [
       "[<matplotlib.lines.Line2D at 0x7f0881cd76a0>]"
      ]
     },
     "execution_count": 21,
     "metadata": {},
     "output_type": "execute_result"
    },
    {
     "data": {
      "image/png": "[encoded data removed]",
      "text/plain": [
       "<Figure size 432x288 with 1 Axes>"
      ]
     },
     "metadata": {
      "needs_background": "light"
     },
     "output_type": "display_data"
    }
   ],
   "source": [
    "plt.plot(np.cumsum(losses))"
   ]
  },
  {
   "cell_type": "code",
   "execution_count": 22,
   "metadata": {},
   "outputs": [
    {
     "name": "stdout",
     "output_type": "stream",
     "text": [
      "tensor([[ 0.0000e+00,  0.0000e+00],\n",
      "        [ 0.0000e+00,  0.0000e+00],\n",
      "        [ 0.0000e+00,  0.0000e+00],\n",
      "        [-2.4261e-40, -6.8690e-40],\n",
      "        [ 0.0000e+00,  0.0000e+00],\n",
      "        [ 0.0000e+00,  0.0000e+00],\n",
      "        [ 0.0000e+00,  0.0000e+00],\n",
      "        [ 0.0000e+00,  0.0000e+00]])\n",
      "tensor([[ 1.3365,  1.9567],\n",
      "        [ 0.9305,  0.6971],\n",
      "        [-0.0466, -0.7798],\n",
      "        [ 3.0520, -0.3530],\n",
      "        [-1.9174, -1.1763],\n",
      "        [ 1.2350,  0.1727],\n",
      "        [-1.6149, -1.4955],\n",
      "        [-1.9559, -1.2249]], requires_grad=True)\n"
     ]
    }
   ],
   "source": [
    "print(model[0].h.grad)\n",
    "print(model[0].h)"
   ]
  },
  {
   "cell_type": "code",
   "execution_count": 23,
   "metadata": {},
   "outputs": [
    {
     "name": "stdout",
     "output_type": "stream",
     "text": [
      "0.4967375\n"
     ]
    }
   ],
   "source": [
    "test_model(100)"
   ]
  },
  {
   "cell_type": "markdown",
   "metadata": {},
   "source": [
    "## Exercice 2"
   ]
  },
  {
   "cell_type": "code",
   "execution_count": 66,
   "metadata": {},
   "outputs": [],
   "source": [
    "n_cities = 2\n",
    "dim = 1\n",
    "batch = 8\n",
    "latent = 5\n",
    "length = 10"
   ]
  },
  {
   "cell_type": "code",
   "execution_count": 67,
   "metadata": {},
   "outputs": [],
   "source": [
    "increment = np.repeat(np.arange(0, length), batch).reshape((length, batch))"
   ]
  },
  {
   "cell_type": "code",
   "execution_count": 68,
   "metadata": {},
   "outputs": [],
   "source": [
    "class RNN_new(torch.nn.Module):\n",
    "    def __init__(self, dim, latent, batch):\n",
    "        super(RNN_new, self).__init__()\n",
    "        \n",
    "        self.Wi = torch.nn.Linear(dim, latent, bias=False)\n",
    "        self.Wh = torch.nn.Linear(latent, latent)\n",
    "        self.latent = latent\n",
    "        self.h = torch.zeros(batch, latent, requires_grad=True)\n",
    "        \n",
    "    def one_step(self, x, h):\n",
    "        return torch.nn.Tanh()(self.Wi(x) + self.Wh(h)) \n",
    "    \n",
    "    def forward(self, x):\n",
    "        length, batch = x.shape[0], x.shape[1] \n",
    "        hs = []\n",
    "        hs.append(self.one_step(x[0], self.h))\n",
    "        for i in range(1, length):\n",
    "            hs.append(self.one_step(x[i], hs[-1]))\n",
    "        return torch.cat(hs, dim=0)"
   ]
  },
  {
   "cell_type": "code",
   "execution_count": 70,
   "metadata": {},
   "outputs": [],
   "source": [
    "model = torch.nn.Sequential(\n",
    "        RNN_new(dim, latent, batch),\n",
    "        torch.nn.Linear(latent, 1),\n",
    "        torch.nn.Sigmoid()\n",
    ")"
   ]
  },
  {
   "cell_type": "code",
   "execution_count": 71,
   "metadata": {},
   "outputs": [],
   "source": [
    "optim = torch.optim.Adam(params=[x for x in model.parameters()] + [model[0].h], lr=1e-3,betas=(0.9, 0.999), eps=1e-08, weight_decay=0, amsgrad=False)\n",
    "loss = torch.nn.MSELoss()"
   ]
  },
  {
   "cell_type": "code",
   "execution_count": 77,
   "metadata": {},
   "outputs": [
    {
     "name": "stdout",
     "output_type": "stream",
     "text": [
      "tensor(0.0360)\n"
     ]
    }
   ],
   "source": [
    "n_test = 1000\n",
    "p_true = 0\n",
    "l = 0\n",
    "\n",
    "for i in range(n_test):\n",
    "    with torch.no_grad():\n",
    "        random_cities = np.random.randint(0, n_cities, size=(batch))\n",
    "        random_times = np.random.randint(0, n_times-length-dim, size=(batch))\n",
    "        x_numpy = np.zeros((length, batch, dim))\n",
    "        true_temp = np.zeros((length, batch, dim))\n",
    "        for k in range(dim):\n",
    "            x_numpy[:, :, k] = data[np.repeat(np.reshape(random_times+k, (1, batch)), length, axis=0)+increment, random_cities]\n",
    "            true_temp[:, :, k] = data[np.repeat(np.reshape(random_times+k+1, (1, batch)), length, axis=0)+increment, random_cities]\n",
    "        x = torch.from_numpy(x_numpy).float()\n",
    "        predicted_temp = model(x)\n",
    "        l += loss(predicted_temp, torch.from_numpy(true_temp.reshape((length*batch, 1))).float())\n",
    "        \n",
    "print(l/n_test)"
   ]
  },
  {
   "cell_type": "code",
   "execution_count": 78,
   "metadata": {},
   "outputs": [
    {
     "data": {
      "text/plain": [
       "7.197480881691408"
      ]
     },
     "execution_count": 78,
     "metadata": {},
     "output_type": "execute_result"
    }
   ],
   "source": [
    "n_train = 2000\n",
    "batch * length * dim * n_train / (data.shape[0]*data.shape[1])"
   ]
  },
  {
   "cell_type": "code",
   "execution_count": 80,
   "metadata": {},
   "outputs": [],
   "source": [
    "writer = SummaryWriter()\n",
    "losses = []\n",
    "for i in range(n_train):\n",
    "    # each time: we see batch * length data\n",
    "    optim.zero_grad()\n",
    "    random_cities = np.random.randint(0, n_cities, size=(batch))\n",
    "    random_times = np.random.randint(0, n_times-length-dim, size=(batch))\n",
    "    x_numpy = np.zeros((length, batch, dim))\n",
    "    true_temp = np.zeros((length, batch, dim))\n",
    "    for k in range(dim):\n",
    "        x_numpy[:, :, k] = data[np.repeat(np.reshape(random_times+k, (1, batch)), length, axis=0)+increment, random_cities]\n",
    "        true_temp[:, :, k] = data[np.repeat(np.reshape(random_times+k+1, (1, batch)), length, axis=0)+increment, random_cities]\n",
    "    x = torch.from_numpy(x_numpy).float()\n",
    "    l = loss(model(x), torch.from_numpy(true_temp.reshape((length*batch, 1))).float())\n",
    "    l.backward()\n",
    "    optim.step()\n",
    "    writer.add_scalar('Loss/train', l, i)\n",
    "    losses.append(l)"
   ]
  },
  {
   "cell_type": "code",
   "execution_count": 81,
   "metadata": {},
   "outputs": [
    {
     "data": {
      "text/plain": [
       "[<matplotlib.lines.Line2D at 0x7fb4448771d0>]"
      ]
     },
     "execution_count": 81,
     "metadata": {},
     "output_type": "execute_result"
    },
    {
     "data": {
      "image/png": "[encoded data removed]",
      "text/plain": [
       "<Figure size 432x288 with 1 Axes>"
      ]
     },
     "metadata": {
      "needs_background": "light"
     },
     "output_type": "display_data"
    }
   ],
   "source": [
    "plt.plot(np.cumsum(losses))"
   ]
  },
  {
   "cell_type": "code",
   "execution_count": 82,
   "metadata": {},
   "outputs": [
    {
     "data": {
      "text/plain": [
       "tensor([[-3.7373e-05],\n",
       "        [-3.5135e-04],\n",
       "        [-3.8532e-03],\n",
       "        [-2.0195e-04],\n",
       "        [ 2.4737e-03]])"
      ]
     },
     "execution_count": 82,
     "metadata": {},
     "output_type": "execute_result"
    }
   ],
   "source": [
    "model[0].Wi.weight.grad"
   ]
  },
  {
   "cell_type": "code",
   "execution_count": 83,
   "metadata": {},
   "outputs": [
    {
     "data": {
      "text/plain": [
       "Parameter containing:\n",
       "tensor([[-0.4823],\n",
       "        [-1.1931],\n",
       "        [-2.2775],\n",
       "        [-1.1259],\n",
       "        [ 2.1225]], requires_grad=True)"
      ]
     },
     "execution_count": 83,
     "metadata": {},
     "output_type": "execute_result"
    }
   ],
   "source": [
    "model[0].Wi.weight"
   ]
  },
  {
   "cell_type": "code",
   "execution_count": 85,
   "metadata": {},
   "outputs": [
    {
     "name": "stdout",
     "output_type": "stream",
     "text": [
      "tensor(0.0009)\n",
      "tensor(0.0006)\n"
     ]
    }
   ],
   "source": [
    "n_test = 1000\n",
    "p_true = 0\n",
    "l = 0\n",
    "l_dummy = 0\n",
    "\n",
    "for i in range(n_test):\n",
    "    with torch.no_grad():\n",
    "        random_cities = np.random.randint(0, n_cities, size=(batch))\n",
    "        random_times = np.random.randint(0, n_times-length-dim, size=(batch))\n",
    "        x_numpy = np.zeros((length, batch, dim))\n",
    "        true_temp = np.zeros((length, batch, dim))\n",
    "        for k in range(dim):\n",
    "            x_numpy[:, :, k] = data[np.repeat(np.reshape(random_times+k, (1, batch)), length, axis=0)+increment, random_cities]\n",
    "            true_temp[:, :, k] = data[np.repeat(np.reshape(random_times+k+1, (1, batch)), length, axis=0)+increment, random_cities]\n",
    "        x = torch.from_numpy(x_numpy).float()\n",
    "        predicted_temp = model(x)\n",
    "        l += loss(model(x), torch.from_numpy(true_temp.reshape((length*batch, 1))).float())\n",
    "        l_dummy += loss(x, torch.from_numpy(true_temp).float())\n",
    "        \n",
    "print(l/n_test)\n",
    "print(l_dummy/n_test)"
   ]
  },
  {
   "cell_type": "code",
   "execution_count": null,
   "metadata": {},
   "outputs": [],
   "source": []
  }
 ],
 "metadata": {
  "kernelspec": {
   "display_name": "Python 3",
   "language": "python",
   "name": "python3"
  },
  "language_info": {
   "codemirror_mode": {
    "name": "ipython",
    "version": 3
   },
   "file_extension": ".py",
   "mimetype": "text/x-python",
   "name": "python",
   "nbconvert_exporter": "python",
   "pygments_lexer": "ipython3",
   "version": "3.7.3"
  }
 },
 "nbformat": 4,
 "nbformat_minor": 4
}
