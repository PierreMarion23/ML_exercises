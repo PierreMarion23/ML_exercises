{
 "cells": [
  {
   "cell_type": "markdown",
   "metadata": {},
   "source": [
    "# AMAL - TP 3 - Highway Networks"
   ]
  },
  {
   "cell_type": "code",
   "execution_count": 1,
   "metadata": {},
   "outputs": [
    {
     "name": "stderr",
     "output_type": "stream",
     "text": [
      "WARNING:root:This caffe2 python run does not have GPU support. Will run in CPU only mode.\n"
     ]
    }
   ],
   "source": [
    "import numpy as np\n",
    "import torch\n",
    "from datamaestro import prepare_dataset \n",
    "from torch.utils.tensorboard import SummaryWriter\n",
    "import time"
   ]
  },
  {
   "cell_type": "code",
   "execution_count": 2,
   "metadata": {},
   "outputs": [],
   "source": [
    "class HighwayLayer(torch.nn.Module):\n",
    "    \"This layer has same input and output dimension. To change dimension, use a normal layer.\"\n",
    "    def __init__(self, dim):\n",
    "        super(HighwayLayer, self).__init__()\n",
    "        \n",
    "        self.H = torch.nn.Linear(dim, dim)\n",
    "        self.T = torch.nn.Linear(dim, dim)\n",
    "    \n",
    "    def forward(self, x):\n",
    "        t_x = torch.nn.functional.relu(self.T(x))\n",
    "        return t_x * torch.nn.functional.relu(self.H(x)) + (1 - t_x) * x"
   ]
  },
  {
   "cell_type": "code",
   "execution_count": 3,
   "metadata": {},
   "outputs": [
    {
     "data": {
      "text/plain": [
       "tensor([-2.7197,  0.4942, -0.0831, -0.5866,  0.3759], grad_fn=<AddBackward0>)"
      ]
     },
     "execution_count": 3,
     "metadata": {},
     "output_type": "execute_result"
    }
   ],
   "source": [
    "dim = 5\n",
    "x = torch.randn(dim, requires_grad=True,dtype=torch.float)\n",
    "h_layer = HighwayLayer(dim)\n",
    "h_layer.forward(x)"
   ]
  },
  {
   "cell_type": "code",
   "execution_count": null,
   "metadata": {},
   "outputs": [],
   "source": []
  }
 ],
 "metadata": {
  "kernelspec": {
   "display_name": "Python 3",
   "language": "python",
   "name": "python3"
  },
  "language_info": {
   "codemirror_mode": {
    "name": "ipython",
    "version": 3
   },
   "file_extension": ".py",
   "mimetype": "text/x-python",
   "name": "python",
   "nbconvert_exporter": "python",
   "pygments_lexer": "ipython3",
   "version": "3.7.3"
  }
 },
 "nbformat": 4,
 "nbformat_minor": 4
}
