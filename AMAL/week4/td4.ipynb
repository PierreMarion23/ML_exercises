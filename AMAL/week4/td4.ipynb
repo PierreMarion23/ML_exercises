{
 "cells": [
  {
   "cell_type": "markdown",
   "metadata": {},
   "source": [
    "# AMAL - TP 4 - Réseaux récurrents"
   ]
  },
  {
   "cell_type": "markdown",
   "metadata": {},
   "source": [
    "<span style=\"color:red\">Bonjour, comme indiqué ce matin, le code ne fonctionne pas. Je l'uploade afin que vous puissez faire un retour et que je comprenne les erreurs. Je le complèterai ensuite. En particulier, comme je n'arrive pas à faire diminuer l'erreur d'apprentissage, je n'ai pas encore séparé le dataset en train / validation / test. Merci !</span>"
   ]
  },
  {
   "cell_type": "code",
   "execution_count": 1,
   "metadata": {},
   "outputs": [
    {
     "name": "stderr",
     "output_type": "stream",
     "text": [
      "WARNING:root:This caffe2 python run does not have GPU support. Will run in CPU only mode.\n"
     ]
    }
   ],
   "source": [
    "import numpy as np\n",
    "import torch\n",
    "from datamaestro import prepare_dataset \n",
    "from torch.utils.tensorboard import SummaryWriter\n",
    "import time\n",
    "import csv\n",
    "import pandas as pd\n",
    "import os\n",
    "from matplotlib import pyplot as plt"
   ]
  },
  {
   "cell_type": "code",
   "execution_count": 2,
   "metadata": {},
   "outputs": [
    {
     "data": {
      "text/plain": [
       "<torch.autograd.anomaly_mode.set_detect_anomaly at 0x7f76f0160ac8>"
      ]
     },
     "execution_count": 2,
     "metadata": {},
     "output_type": "execute_result"
    }
   ],
   "source": [
    "torch.autograd.set_detect_anomaly(True)"
   ]
  },
  {
   "cell_type": "markdown",
   "metadata": {},
   "source": [
    "## Exercice 1"
   ]
  },
  {
   "cell_type": "code",
   "execution_count": 9,
   "metadata": {},
   "outputs": [],
   "source": [
    "class RNN(torch.nn.Module):\n",
    "    def __init__(self, dim, latent, batch):\n",
    "        super(RNN, self).__init__()\n",
    "        \n",
    "        self.Wi = torch.nn.Linear(dim, latent, bias=False)\n",
    "        self.Wh = torch.nn.Linear(latent, latent)\n",
    "        self.latent = latent\n",
    "        self.h = torch.zeros(batch, latent, requires_grad=True)\n",
    "        \n",
    "    def one_step(self, x, h):\n",
    "        return torch.nn.Tanh()(self.Wi(x) + self.Wh(h)) \n",
    "    \n",
    "    def forward(self, x):\n",
    "        length, batch = x.shape[0], x.shape[1] \n",
    "        hs = []\n",
    "        hs.append(self.one_step(x[0], self.h))\n",
    "        for i in range(1, length):\n",
    "            hs.append(self.one_step(x[i], hs[-1]))\n",
    "        return hs[-1]    # pour cet exercice, hs[-1] suffit. Je généraliserai pour les exercices suivants.\n",
    "       # return torch.cat(hs, dim=0)"
   ]
  },
  {
   "cell_type": "markdown",
   "metadata": {},
   "source": [
    "Je fais juste le test avec 2 villes pour l'instant"
   ]
  },
  {
   "cell_type": "code",
   "execution_count": 4,
   "metadata": {},
   "outputs": [],
   "source": [
    "n_cities = 2\n",
    "dim = 1\n",
    "batch = 16\n",
    "latent = 20\n",
    "length = 100"
   ]
  },
  {
   "cell_type": "code",
   "execution_count": 5,
   "metadata": {},
   "outputs": [],
   "source": [
    "temp_data = pd.read_csv('tempAMAL_train.csv')\n",
    "temp_data = temp_data.iloc[:,1: 1+n_cities]\n",
    "data = np.asarray(temp_data)\n",
    "cols = temp_data.columns\n",
    "\n",
    "n_times = data.shape[0]\n",
    "data[np.isnan(data)] = np.mean(data[~np.isnan(data)])\n",
    "data = (data - np.min(data)) / (np.max(data) - np.min(data))"
   ]
  },
  {
   "cell_type": "code",
   "execution_count": 6,
   "metadata": {},
   "outputs": [],
   "source": [
    "increment = np.repeat(np.arange(0, length), batch).reshape((length, batch))"
   ]
  },
  {
   "cell_type": "code",
   "execution_count": 10,
   "metadata": {},
   "outputs": [],
   "source": [
    "model = torch.nn.Sequential(\n",
    "        RNN(dim, latent, batch),\n",
    "        torch.nn.Linear(latent, n_cities)\n",
    "   #     torch.nn.Sigmoid() \n",
    ")"
   ]
  },
  {
   "cell_type": "code",
   "execution_count": 11,
   "metadata": {},
   "outputs": [
    {
     "name": "stdout",
     "output_type": "stream",
     "text": [
      "0.49875\n"
     ]
    }
   ],
   "source": [
    "def test_model(n_test):\n",
    "    p_true = 0\n",
    "\n",
    "    for i in range(n_test):\n",
    "        with torch.no_grad():\n",
    "            random_cities = np.random.randint(0, n_cities, size=(batch))\n",
    "            random_times = np.random.randint(0, n_times-length-dim, size=(batch))\n",
    "            x_numpy = np.zeros((length, batch, dim))\n",
    "            for k in range(dim):\n",
    "                x_numpy[:, :, k] = data[np.repeat(np.reshape(random_times+k, (1, batch)), length, axis=0)+increment, random_cities]\n",
    "            x = torch.from_numpy(x_numpy).float()\n",
    "            predicted_cities = model(x).detach().numpy()\n",
    "            ok = np.sum(np.argmax(predicted_cities, axis=1) == random_cities) / batch\n",
    "            p_true += ok\n",
    "\n",
    "    print(p_true / n_test)\n",
    "    \n",
    "test_model(100)"
   ]
  },
  {
   "cell_type": "code",
   "execution_count": 12,
   "metadata": {},
   "outputs": [],
   "source": [
    "#optim = torch.optim.SGD(params=model.parameters(),lr=EPS)\n",
    "optim = torch.optim.Adam(params=[x for x in model.parameters()] + [model[0].h], lr=1e-3,betas=(0.9, 0.999), eps=1e-08, weight_decay=0, amsgrad=False)\n",
    "loss = torch.nn.CrossEntropyLoss()"
   ]
  },
  {
   "cell_type": "code",
   "execution_count": 13,
   "metadata": {},
   "outputs": [
    {
     "data": {
      "text/plain": [
       "7.197480881691408"
      ]
     },
     "execution_count": 13,
     "metadata": {},
     "output_type": "execute_result"
    }
   ],
   "source": [
    "n_train = 100\n",
    "batch * length * dim * n_train / (data.shape[0]*data.shape[1])"
   ]
  },
  {
   "cell_type": "code",
   "execution_count": 14,
   "metadata": {},
   "outputs": [],
   "source": [
    "writer = SummaryWriter()\n",
    "losses = []\n",
    "for i in range(n_train):\n",
    "    # each time: we see batch * length data\n",
    "    optim.zero_grad()\n",
    "    random_cities = np.random.randint(0, n_cities, size=(batch))\n",
    "    random_times = np.random.randint(0, n_times-length-dim, size=(batch))\n",
    "    x_numpy = np.zeros((length, batch, dim))\n",
    "    for k in range(dim):\n",
    "        x_numpy[:, :, k] = data[np.repeat(np.reshape(random_times+k, (1, batch)), length, axis=0)+increment, random_cities]\n",
    "    x = torch.from_numpy(x_numpy).float()\n",
    "    l = loss(model(x), torch.from_numpy(random_cities))\n",
    "    l.backward()\n",
    "    optim.step()\n",
    "    writer.add_scalar('Loss/train', l, i)\n",
    "    losses.append(l)"
   ]
  },
  {
   "cell_type": "code",
   "execution_count": 15,
   "metadata": {},
   "outputs": [
    {
     "data": {
      "text/plain": [
       "[<matplotlib.lines.Line2D at 0x7f76af94f908>]"
      ]
     },
     "execution_count": 15,
     "metadata": {},
     "output_type": "execute_result"
    },
    {
     "data": {
      "image/png": "[encoded data removed]",
      "text/plain": [
       "<Figure size 432x288 with 1 Axes>"
      ]
     },
     "metadata": {
      "needs_background": "light"
     },
     "output_type": "display_data"
    }
   ],
   "source": [
    "plt.plot(np.cumsum(losses))"
   ]
  },
  {
   "cell_type": "code",
   "execution_count": 18,
   "metadata": {},
   "outputs": [
    {
     "name": "stdout",
     "output_type": "stream",
     "text": [
      "tensor([[-0.0022],\n",
      "        [-0.0093],\n",
      "        [-0.0184],\n",
      "        [ 0.0336],\n",
      "        [ 0.0009],\n",
      "        [-0.0120],\n",
      "        [-0.0073],\n",
      "        [ 0.0204],\n",
      "        [-0.0212],\n",
      "        [ 0.0010],\n",
      "        [-0.0165],\n",
      "        [-0.0010],\n",
      "        [-0.0012],\n",
      "        [ 0.0028],\n",
      "        [ 0.0030],\n",
      "        [-0.0270],\n",
      "        [-0.0157],\n",
      "        [ 0.0063],\n",
      "        [ 0.0013],\n",
      "        [-0.0121]])\n",
      "Parameter containing:\n",
      "tensor([[-0.6528],\n",
      "        [ 0.0549],\n",
      "        [-0.8539],\n",
      "        [-0.4859],\n",
      "        [ 0.8753],\n",
      "        [-0.7983],\n",
      "        [-0.7484],\n",
      "        [-0.1982],\n",
      "        [ 0.5107],\n",
      "        [ 0.8995],\n",
      "        [ 0.9396],\n",
      "        [ 0.1030],\n",
      "        [-0.6228],\n",
      "        [-0.4308],\n",
      "        [-0.0502],\n",
      "        [-0.7215],\n",
      "        [ 0.1179],\n",
      "        [-0.2919],\n",
      "        [-0.7547],\n",
      "        [ 0.1588]], requires_grad=True)\n"
     ]
    }
   ],
   "source": [
    "print(model[0].Wi.weight.grad)\n",
    "print(model[0].Wi.weight)"
   ]
  },
  {
   "cell_type": "code",
   "execution_count": 19,
   "metadata": {},
   "outputs": [
    {
     "name": "stdout",
     "output_type": "stream",
     "text": [
      "0.515625\n"
     ]
    }
   ],
   "source": [
    "test_model(100)"
   ]
  },
  {
   "cell_type": "markdown",
   "metadata": {},
   "source": [
    "## Exercice 2"
   ]
  },
  {
   "cell_type": "markdown",
   "metadata": {},
   "source": [
    "J'ai codé des choses mais ce n'est pas la peine de les reviewer tant que l'exercice 1 ne fonctionne pas."
   ]
  }
 ],
 "metadata": {
  "kernelspec": {
   "display_name": "Python 3",
   "language": "python",
   "name": "python3"
  },
  "language_info": {
   "codemirror_mode": {
    "name": "ipython",
    "version": 3
   },
   "file_extension": ".py",
   "mimetype": "text/x-python",
   "name": "python",
   "nbconvert_exporter": "python",
   "pygments_lexer": "ipython3",
   "version": "3.7.3"
  }
 },
 "nbformat": 4,
 "nbformat_minor": 4
}
