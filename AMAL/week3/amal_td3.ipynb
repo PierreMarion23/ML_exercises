{
 "cells": [
  {
   "cell_type": "markdown",
   "metadata": {},
   "source": [
    "## AMAL - TP3 : Implémentation de module, Gestion de données, Checkpointing et GPU"
   ]
  },
  {
   "cell_type": "markdown",
   "metadata": {},
   "source": [
    "Quand j'ai commmencé le TP, le module datamaestro ne fonctionnait pas donc je vais chercher les données par une autre source (package mlxtend)."
   ]
  },
  {
   "cell_type": "code",
   "execution_count": 1,
   "metadata": {},
   "outputs": [
    {
     "name": "stderr",
     "output_type": "stream",
     "text": [
      "WARNING:root:This caffe2 python run does not have GPU support. Will run in CPU only mode.\n"
     ]
    }
   ],
   "source": [
    "from matplotlib import pyplot as plt\n",
    "import torch\n",
    "import torchvision\n",
    "from mlxtend.data import loadlocal_mnist\n",
    "from torch.utils.tensorboard import SummaryWriter\n",
    "import numpy as np\n",
    "from pathlib import Path\n",
    "import time"
   ]
  },
  {
   "cell_type": "code",
   "execution_count": 2,
   "metadata": {},
   "outputs": [],
   "source": [
    "torch.manual_seed(12)\n",
    "torch.cuda.manual_seed(12)"
   ]
  },
  {
   "cell_type": "code",
   "execution_count": 3,
   "metadata": {},
   "outputs": [],
   "source": [
    "device = torch.device('cuda' if torch.cuda.is_available() else 'cpu')"
   ]
  },
  {
   "cell_type": "code",
   "execution_count": 4,
   "metadata": {},
   "outputs": [],
   "source": [
    "BATCH_SIZE = 32\n",
    "EPS = 0.5\n",
    "NB_EPOCH = 20\n",
    "COMPRESSED_DIM = 40\n",
    "ORIGINAL_DIM = 784\n",
    "savepath = Path(\"model.plt\")"
   ]
  },
  {
   "cell_type": "code",
   "execution_count": 5,
   "metadata": {},
   "outputs": [],
   "source": [
    "train_images, train_labels = loadlocal_mnist(\n",
    "        images_path='train-images.idx3-ubyte', \n",
    "        labels_path='train-labels.idx1-ubyte')"
   ]
  },
  {
   "cell_type": "code",
   "execution_count": 6,
   "metadata": {},
   "outputs": [],
   "source": [
    "test_images, test_labels = loadlocal_mnist(\n",
    "        images_path='t10k-images.idx3-ubyte', \n",
    "        labels_path='t10k-labels.idx1-ubyte')"
   ]
  },
  {
   "cell_type": "code",
   "execution_count": 7,
   "metadata": {},
   "outputs": [
    {
     "data": {
      "image/png": "[encoded data removed]",
      "text/plain": [
       "<Figure size 432x288 with 1 Axes>"
      ]
     },
     "metadata": {
      "needs_background": "light"
     },
     "output_type": "display_data"
    },
    {
     "name": "stdout",
     "output_type": "stream",
     "text": [
      "Label: 5\n"
     ]
    }
   ],
   "source": [
    "# un exemple d'image\n",
    "plt.imshow(train_images[0].reshape((28, 28)), cmap='gray')\n",
    "plt.show()\n",
    "print('Label: %d' %train_labels[0])"
   ]
  },
  {
   "cell_type": "code",
   "execution_count": 8,
   "metadata": {},
   "outputs": [],
   "source": [
    "class MonDataset(torch.utils.data.Dataset):\n",
    "    \n",
    "    def __init__(self, x, y):\n",
    "        self.x = torch.from_numpy(x.astype(float) / 255).float().to(device)\n",
    "        self.y = torch.from_numpy(y.astype(float) / 255).float().to(device)\n",
    "    \n",
    "    def __getitem__(self, index): \n",
    "        return self.x[index], self.y[index] \n",
    "    \n",
    "    def __len__(self):\n",
    "        return len(self.x)"
   ]
  },
  {
   "cell_type": "code",
   "execution_count": 9,
   "metadata": {},
   "outputs": [],
   "source": [
    "dataset_train = MonDataset(train_images, train_labels)\n",
    "dataset_test = MonDataset(test_images, test_labels)\n",
    "data_loader = torch.utils.data.DataLoader(dataset_train, shuffle=True, batch_size=BATCH_SIZE) \n",
    "data_loader_test = torch.utils.data.DataLoader(dataset_test, shuffle=True, batch_size=1000) "
   ]
  },
  {
   "cell_type": "code",
   "execution_count": 10,
   "metadata": {},
   "outputs": [],
   "source": [
    "class Autoencodeur(torch.nn.Module):\n",
    "    def __init__(self, shape, dim_compression, relu=False):\n",
    "        super(Autoencodeur, self).__init__()\n",
    "        \n",
    "        self.lin1 = torch.nn.Linear(shape, dim_compression)\n",
    "        self.lin2 = torch.nn.Linear(dim_compression, shape)\n",
    "        self.lin2.weight = torch.nn.Parameter(self.lin1.weight.T)\n",
    "        self.relu = relu\n",
    "    \n",
    "    def forward(self, train_x):\n",
    "        if self.relu:\n",
    "            encoder = torch.nn.functional.relu(self.lin1(train_x))\n",
    "        else:\n",
    "            encoder = self.lin1(train_x)\n",
    "        decoder = torch.sigmoid(self.lin2(encoder))\n",
    "        return decoder\n",
    "                      "
   ]
  },
  {
   "cell_type": "code",
   "execution_count": 11,
   "metadata": {},
   "outputs": [],
   "source": [
    "class State :\n",
    "    def __init__ (self, model , optim ):\n",
    "        self.model = model\n",
    "        self.optim = optim\n",
    "        self.epoch, self.iteration = 0, 0"
   ]
  },
  {
   "cell_type": "code",
   "execution_count": 12,
   "metadata": {},
   "outputs": [],
   "source": [
    "if savepath.is_file():\n",
    "    with savepath.open(\"rb\") as fp :\n",
    "        state = torch.load(fp)\n",
    "else:\n",
    "    autoencoder = Autoencodeur(ORIGINAL_DIM, COMPRESSED_DIM).to(device)\n",
    "    optim = torch.optim.SGD(params=[autoencoder.lin1.weight, autoencoder.lin1.bias, autoencoder.lin2.bias],lr=EPS)\n",
    "    state = State(autoencoder, optim)\n",
    "\n",
    "loss = torch.nn.BCELoss()"
   ]
  },
  {
   "cell_type": "code",
   "execution_count": 13,
   "metadata": {},
   "outputs": [
    {
     "name": "stdout",
     "output_type": "stream",
     "text": [
      "Beginning epoch 1\n"
     ]
    },
    {
     "name": "stderr",
     "output_type": "stream",
     "text": [
      "/home/pmarion/anaconda3/envs/pytorch/lib/python3.7/site-packages/torch/serialization.py:256: UserWarning: Couldn't retrieve source code for container of type Autoencodeur. It won't be checked for correctness upon loading.\n",
      "  \"type \" + obj.__name__ + \". It won't be checked \"\n"
     ]
    },
    {
     "name": "stdout",
     "output_type": "stream",
     "text": [
      "Beginning epoch 2\n",
      "Beginning epoch 3\n",
      "Beginning epoch 4\n",
      "Beginning epoch 5\n",
      "Beginning epoch 6\n",
      "Beginning epoch 7\n",
      "Beginning epoch 8\n",
      "Beginning epoch 9\n",
      "Beginning epoch 10\n",
      "Beginning epoch 11\n",
      "Beginning epoch 12\n",
      "Beginning epoch 13\n",
      "Beginning epoch 14\n",
      "Beginning epoch 15\n",
      "Beginning epoch 16\n",
      "Beginning epoch 17\n",
      "Beginning epoch 18\n",
      "Beginning epoch 19\n",
      "Beginning epoch 20\n",
      "Training time: 131.0399558544159\n"
     ]
    },
    {
     "data": {
      "image/png": "[encoded data removed]",
      "text/plain": [
       "<Figure size 432x288 with 16 Axes>"
      ]
     },
     "metadata": {},
     "output_type": "display_data"
    }
   ],
   "source": [
    "t = time.time()\n",
    "writer = SummaryWriter()\n",
    "for epoch in range(state.epoch, NB_EPOCH):\n",
    "    print('Beginning epoch %d' %(epoch+1))\n",
    "    \n",
    "    for x,y in data_loader:\n",
    "        state.optim.zero_grad()\n",
    "        l = loss(state.model.forward(x), x) #Calcul du cout\n",
    "        l.backward()\n",
    "        state.optim.step()\n",
    "        state.iteration += 1\n",
    "        writer.add_scalar('Loss/train', l, state.iteration)\n",
    "\n",
    "    with savepath.open(\"wb\") as fp :\n",
    "        state.epoch = epoch + 1\n",
    "        torch.save(state, fp)\n",
    "        \n",
    "    with torch.no_grad():\n",
    "        x_test,y_test = next(iter(data_loader_test))\n",
    "        writer.add_scalar('Loss/test', loss(state.model.forward(x_test), x_test), state.iteration)\n",
    "print('Training time: ' + str(time.time()-t))   \n",
    "        \n",
    "fig, axs = plt.subplots(nrows=2, ncols=8, subplot_kw={'xticks': [], 'yticks': []})\n",
    "i = 0\n",
    "image_original = np.zeros((8, 3, 28, 28))\n",
    "image_transformed = np.zeros((8, 3, 28, 28))\n",
    "for x,y in data_loader:\n",
    "    xhat = state.model.forward(x)\n",
    "    for j in range(3):\n",
    "        image_original[i][j] = (x[0].cpu().detach().numpy().reshape((28, 28)) * 255).astype(int)\n",
    "        image_transformed[i][j] = (xhat[0].cpu().detach().numpy().reshape((28, 28)) * 255).astype(int)\n",
    "    axs[0, i].imshow(image_original[i][0], cmap='gray')\n",
    "    axs[1, i].imshow(image_transformed[i][0], cmap='gray')\n",
    "    i += 1\n",
    "    if i == 8:\n",
    "        break\n",
    "plt.subplots_adjust(top = 0.4)\n",
    "plt.show()\n",
    "     \n",
    "writer.add_images('original_images', image_original, state.iteration)\n",
    "writer.add_images('transformed_images', image_transformed, state.iteration)\n",
    "writer.close()"
   ]
  },
  {
   "cell_type": "code",
   "execution_count": null,
   "metadata": {},
   "outputs": [],
   "source": []
  }
 ],
 "metadata": {
  "kernelspec": {
   "display_name": "Python 3",
   "language": "python",
   "name": "python3"
  },
  "language_info": {
   "codemirror_mode": {
    "name": "ipython",
    "version": 3
   },
   "file_extension": ".py",
   "mimetype": "text/x-python",
   "name": "python",
   "nbconvert_exporter": "python",
   "pygments_lexer": "ipython3",
   "version": "3.7.3"
  }
 },
 "nbformat": 4,
 "nbformat_minor": 4
}
