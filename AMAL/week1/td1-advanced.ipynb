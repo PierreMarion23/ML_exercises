{
 "cells": [
  {
   "cell_type": "markdown",
   "metadata": {},
   "source": [
    "# AMAL - TP 1 - Définition de fonctions en pyTorch"
   ]
  },
  {
   "cell_type": "code",
   "execution_count": 91,
   "metadata": {},
   "outputs": [],
   "source": [
    "import numpy as np\n",
    "import torch\n",
    "from torch.autograd import Function\n",
    "from torch.autograd import gradcheck\n",
    "from datamaestro import prepare_dataset \n",
    "from torch.utils.tensorboard import SummaryWriter\n",
    "import time\n",
    "from matplotlib import pyplot as plt"
   ]
  },
  {
   "cell_type": "markdown",
   "metadata": {},
   "source": [
    "## Implémentation & test des classes Pytorch "
   ]
  },
  {
   "cell_type": "code",
   "execution_count": 67,
   "metadata": {},
   "outputs": [],
   "source": [
    "class Context:\n",
    "    \"\"\"Very simplified context object\"\"\"\n",
    "    def __init__(self):\n",
    "        self._saved_tensors = ()\n",
    "    def save_for_backward(self, *args):\n",
    "        self._saved_tensors = args\n",
    "    @property\n",
    "    def saved_tensors(self):\n",
    "        return self._saved_tensors"
   ]
  },
  {
   "cell_type": "markdown",
   "metadata": {},
   "source": [
    "On commence par implémenter le cas unidimensionnel avant d'implémenter le cas multi-dimensionnel. Pour chaque classe, on la teste juste après sa définition."
   ]
  },
  {
   "cell_type": "code",
   "execution_count": 68,
   "metadata": {},
   "outputs": [],
   "source": [
    "class Linear1(Function):\n",
    "    \"\"\"Implementation of f(x, w, b) = <x, w> + b\"\"\"\n",
    "    @staticmethod\n",
    "    def forward(ctx,x, w, b):\n",
    "        ## Calcul la sortie du module\n",
    "        ctx.save_for_backward(x,w)\n",
    "        return torch.dot(x, w) + b\n",
    "\n",
    "    @staticmethod\n",
    "    def backward(ctx, grad_output):\n",
    "        ## Calcul du gradient du module par rapport a chaque groupe d'entrées\n",
    "        x,w = ctx.saved_tensors\n",
    "        return grad_output * w , grad_output * x, grad_output"
   ]
  },
  {
   "cell_type": "code",
   "execution_count": 69,
   "metadata": {},
   "outputs": [
    {
     "data": {
      "text/plain": [
       "True"
      ]
     },
     "execution_count": 69,
     "metadata": {},
     "output_type": "execute_result"
    }
   ],
   "source": [
    "def test_linear1():\n",
    "    ## test de la fonction\n",
    "    estimator = Linear1()\n",
    "    ctx_estimator = Context()\n",
    "    x = torch.randn(5,requires_grad=True,dtype=torch.float64)\n",
    "    w = torch.randn(5,requires_grad=True,dtype=torch.float64)\n",
    "    b = torch.randn(1,requires_grad=True,dtype=torch.float64)\n",
    "    output = estimator.forward(ctx_estimator,x,w, b)\n",
    "\n",
    "    estimator_grad = estimator.backward(ctx_estimator,1)\n",
    "\n",
    "    ## Pour tester le gradient \n",
    "    estimator_check = Linear1.apply\n",
    "    return torch.autograd.gradcheck(estimator_check,(x,w, b))\n",
    "\n",
    "test_linear1()"
   ]
  },
  {
   "cell_type": "code",
   "execution_count": 70,
   "metadata": {},
   "outputs": [],
   "source": [
    "class LinearBatch(Function):\n",
    "    \"\"\"Implementation of f(X, w, b) = X.dot(w) + b\"\"\"\n",
    "    @staticmethod\n",
    "    def forward(ctx, X, w, b):\n",
    "        ## Calcul la sortie du module\n",
    "        ctx.save_for_backward(X,w)\n",
    "        return torch.mm(X, torch.transpose(w, 0, 1)) + b\n",
    "\n",
    "    @staticmethod\n",
    "    def backward(ctx, grad_output):\n",
    "        ## Calcul du gradient du module par rapport a chaque groupe d'entrées\n",
    "        X, w = ctx.saved_tensors\n",
    "        return torch.mm(grad_output, w) , torch.mm(torch.transpose(grad_output, 0, 1), X), torch.sum(grad_output, 0)"
   ]
  },
  {
   "cell_type": "code",
   "execution_count": 71,
   "metadata": {},
   "outputs": [
    {
     "data": {
      "text/plain": [
       "True"
      ]
     },
     "execution_count": 71,
     "metadata": {},
     "output_type": "execute_result"
    }
   ],
   "source": [
    "b_size = 10\n",
    "def test_linearBatch():\n",
    "    ## Test de la fonction \n",
    "    estimator = LinearBatch()\n",
    "    ctx_estimator = Context()\n",
    "    x = torch.randn(b_size, 5,requires_grad=True,dtype=torch.float64)\n",
    "    w = torch.randn(1, 5,requires_grad=True,dtype=torch.float64)\n",
    "    b = torch.randn(1,requires_grad=True,dtype=torch.float64)\n",
    "    output = estimator.forward(ctx_estimator,x,w, b)\n",
    "\n",
    "    grad_output = torch.randn(b_size, 1,requires_grad=True,dtype=torch.float64)\n",
    "    estimator_grad = estimator.backward(ctx_estimator, grad_output)\n",
    "\n",
    "    ## Pour tester le gradient \n",
    "    estimator_check = LinearBatch.apply\n",
    "    return torch.autograd.gradcheck(estimator_check,(x,w, b))\n",
    "\n",
    "test_linearBatch()"
   ]
  },
  {
   "cell_type": "code",
   "execution_count": 72,
   "metadata": {},
   "outputs": [],
   "source": [
    "class MSE(Function):\n",
    "    \"\"\"Implementation of f(yhat, y) = ||yhat-y||^2\"\"\"\n",
    "    @staticmethod\n",
    "    def forward(ctx, yhat, y):\n",
    "        ## Calcul la sortie du module\n",
    "        ctx.save_for_backward(yhat,y)\n",
    "        return torch.norm(yhat-y, p=2)**2\n",
    "\n",
    "    @staticmethod\n",
    "    def backward(ctx, grad_output):\n",
    "        ## Calcul du gradient du module par rapport a chaque groupe d'entrées\n",
    "        yhat,y = ctx.saved_tensors\n",
    "        return 2 * grad_output * (yhat-y) ,  -2 * grad_output * (yhat-y)"
   ]
  },
  {
   "cell_type": "code",
   "execution_count": 73,
   "metadata": {},
   "outputs": [
    {
     "data": {
      "text/plain": [
       "True"
      ]
     },
     "execution_count": 73,
     "metadata": {},
     "output_type": "execute_result"
    }
   ],
   "source": [
    "def test_MSE():\n",
    "    mse = MSE()\n",
    "    ctx_mse = Context()\n",
    "    y = torch.randn(2,requires_grad=True,dtype=torch.float64)\n",
    "    yhat = torch.randn(2,requires_grad=True,dtype=torch.float64)\n",
    "    output = mse.forward(ctx_mse,yhat,y)\n",
    "    mse_grad = mse.backward(ctx_mse,1)\n",
    "    ## Pour tester le gradient \n",
    "    mse_check = mse.apply\n",
    "    return torch.autograd.gradcheck(mse_check,(yhat, y))\n",
    "\n",
    "test_MSE()"
   ]
  },
  {
   "cell_type": "markdown",
   "metadata": {},
   "source": [
    "## Implémentation de l'algorithme de descente de gradient"
   ]
  },
  {
   "cell_type": "markdown",
   "metadata": {},
   "source": [
    "La fonction `run_gradient_descent` permet d'implémenter les trois variantes de descente de gradient :\n",
    "+ Gradient batch: `n_batch` = 1\n",
    "+ Gradient stochastique: `n_batch` = N où N est le nombre de lignes de données\n",
    "+ Gradient mini-batch: 1 < `n_batch` < N"
   ]
  },
  {
   "cell_type": "code",
   "execution_count": 81,
   "metadata": {},
   "outputs": [],
   "source": [
    "def run_gradient_descent(data, nb_iteration, n_batch, writer=False, eps=0.05):\n",
    "    \n",
    "    N = data.shape[0]   # nombre de données\n",
    "    n_attribute = data.shape[1]-1\n",
    "    \n",
    "    if writer:\n",
    "        writer = SummaryWriter(log_dir='runs/nb_batch=' + str(n_batch) + 'nb_pass=' + str(nb_iteration/n_batch) + '_timestamp=' + str(int(time.time())))\n",
    "        \n",
    "    # Initialisation aléatoire des paramètres w et b\n",
    "    w = torch.randn(1, n_attribute,requires_grad=True,dtype=torch.float64)\n",
    "    b = torch.randn(1,requires_grad=True,dtype=torch.float64)\n",
    "    params = [torch.cat((w[0], b), 0).detach().numpy()]\n",
    "    \n",
    "   # eps = 0.05 # Pas de la descente de gradient\n",
    "    \n",
    "    estimator = LinearBatch()\n",
    "    ctx_estimator = Context()\n",
    "    mse = MSE()\n",
    "    ctx_mse = Context()\n",
    "\n",
    "    L_train = 0     # perte pour la partie train\n",
    "    n_train = N/2   # on apprend sur la première moitié du data set\n",
    "    for k in range(nb_iteration):        \n",
    "        # Choix des lignes des données qui servent pour cette itération\n",
    "        if n_batch == N: # stochastic \n",
    "            idx = [np.random.randint(0, N/2)]\n",
    "        else:   # batch or mini-batch\n",
    "            idx_min = int(N/n_batch * k) % N\n",
    "            idx_max = int(N/n_batch * (k+1)) % N\n",
    "            if idx_min < idx_max:\n",
    "                idx = range(idx_min, idx_max)\n",
    "            else:\n",
    "                idx = list(range(idx_min, N)) + list(range(N, idx_max))\n",
    "            \n",
    "        X = torch.from_numpy(data[idx, :-1])\n",
    "        y = torch.from_numpy(data[idx][: , [-1]])\n",
    "        L_train = (k*L_train + mse.forward(ctx_mse, estimator.forward(ctx_estimator, X, w, b), y)) / (k+1)    # update L_train\n",
    "        estimator_grad = estimator.backward(ctx_estimator, mse.backward(ctx_mse, 1)[0])\n",
    "        w = w - eps * estimator_grad[1]*n_batch/N\n",
    "        b = b - eps * estimator_grad[2]*n_batch/N\n",
    "        if k % 10 == 0 and writer:\n",
    "            # Pour comparer les différente méthodes, on compte le nombre de lignes de données utilisées à chaque itération\n",
    "            writer.add_scalar('Loss/train', L_train, k*len(idx))\n",
    "        params.append(torch.cat((w[0], b), 0).detach().numpy())\n",
    "\n",
    "    \n",
    "    L_test = 0  # perte pour la partie test\n",
    "    for k in range(int(N/2)):     # on teste sur la seconde moitié du data set\n",
    "        x = torch.from_numpy(data[[int(N/2) + k], :-1])\n",
    "        y = torch.from_numpy(data[[int(N/2) + k]][: , [-1]])\n",
    "        L_test = (k*L_test + mse.forward(ctx_mse, estimator.forward(ctx_estimator, x, w, b), y)) / (k+1)\n",
    "        if writer:\n",
    "            writer.add_scalar('Loss/test', L_test, k)\n",
    "    \n",
    "    print('Test loss: ' + str(L_test.item()))\n",
    "    if writer:\n",
    "        writer.close()\n",
    "    return params"
   ]
  },
  {
   "cell_type": "markdown",
   "metadata": {},
   "source": [
    "## Test avec les données de Boston Housing"
   ]
  },
  {
   "cell_type": "code",
   "execution_count": 3,
   "metadata": {},
   "outputs": [],
   "source": [
    "## Pour telecharger le dataset Boston\n",
    "ds = prepare_dataset(\"edu.uci.boston\")\n",
    "fields, data = ds.files.data() \n",
    "N = data.shape[0]"
   ]
  },
  {
   "cell_type": "code",
   "execution_count": 4,
   "metadata": {},
   "outputs": [],
   "source": [
    "# To remove ill-conditioning\n",
    "np.random.shuffle(data)\n",
    "data = data / data.max(axis=0)"
   ]
  },
  {
   "cell_type": "code",
   "execution_count": 12,
   "metadata": {},
   "outputs": [
    {
     "name": "stdout",
     "output_type": "stream",
     "text": [
      "Test loss: 0.05085223297024502\n",
      "Test loss: 0.02533272106179461\n",
      "Test loss: 0.02806293613450215\n"
     ]
    }
   ],
   "source": [
    "# On compare les trois variantes (batch / stochastic / mini-batch) en utilisant à chaque fois au total `n_pass` fois les données\n",
    "# Le nombre d'itérations n'est donc pas le même selon les variantes\n",
    "n_pass = 100\n",
    "run_gradient_descent(data, n_pass, 1, writer=True)    # batch\n",
    "run_gradient_descent(data, n_pass*N, N, writer=True)  # stochastic\n",
    "n_batch = 10\n",
    "run_gradient_descent(data, n_pass*n_batch, n_batch, writer=True)   # mini-batch"
   ]
  },
  {
   "cell_type": "markdown",
   "metadata": {},
   "source": [
    "On obtient les courbes suivantes sur Tensorboard:"
   ]
  },
  {
   "cell_type": "code",
   "execution_count": 1,
   "metadata": {},
   "outputs": [],
   "source": [
    "#from IPython.display import Image\n",
    "#Image(\"Screenshot.png\", width=800)"
   ]
  },
  {
   "cell_type": "markdown",
   "metadata": {},
   "source": [
    "On observe plusieurs choses intéressantes :\n",
    "+ il n'y a pas suffisamment de données de test pour que l'erreur de test converge\n",
    "+ à nombre de lectures des données égales, et sur le jeu de test présenté, les variantes stochastique (en bleu) et mini-batch (en rouge) obtiennent des meilleurs scores que la variante batch (orange)\n",
    "+ les courbes des erreurs d'apprentissage nous apprennent que l'erreur d'apprentissage est extrêmement élevée au début pour les variantes batch et mini-batch. Cela signifie que le pas de la descente de gradient est trop important aux premières itérations dans les cas batch et mini-batch.\n",
    "\n",
    "Pour faire une comparaison plus pertinente entre les méthodes, il faudrait :\n",
    "+ avoir un échantillon de test plus important\n",
    "+ implémenter une règle pour le pas de la descente de gradient (exact line search ou backtracking line search)"
   ]
  },
  {
   "cell_type": "markdown",
   "metadata": {},
   "source": [
    "## Beyond TD 1"
   ]
  },
  {
   "cell_type": "code",
   "execution_count": 26,
   "metadata": {},
   "outputs": [],
   "source": [
    "y_train = data[:int(N/2), -1]\n",
    "y_test = data[int(N/2):, -1]\n",
    "\n",
    "X_train = np.copy(data[:int(N/2)])\n",
    "X_test = np.copy(data[int(N/2):])\n",
    "X_train[:, -1] = np.array([1]*(len(X_train)))   # intersect\n",
    "X_test[:, -1] = np.array([1]*(len(X_test)))   # intersect"
   ]
  },
  {
   "cell_type": "code",
   "execution_count": 35,
   "metadata": {},
   "outputs": [
    {
     "name": "stdout",
     "output_type": "stream",
     "text": [
      "[-0.12124156  0.09306904  0.00865278  0.05062763 -0.2709271   0.61562745\n",
      "  0.04136049 -0.3080575   0.2122641  -0.26512489 -0.34867652  0.08418512\n",
      " -0.55249033  0.70761243]\n",
      "0.010262223869462876\n"
     ]
    }
   ],
   "source": [
    "w_opt = np.dot(np.linalg.inv(np.matmul(X_train.T, X_train)), np.dot(X_train.T, y_train))\n",
    "print(w_opt)\n",
    "print(np.linalg.norm(y_test - np.dot(X_test, w_opt))**2 / len(y_test))"
   ]
  },
  {
   "cell_type": "code",
   "execution_count": 36,
   "metadata": {},
   "outputs": [
    {
     "name": "stdout",
     "output_type": "stream",
     "text": [
      "[-0.19507824  0.08807515  0.03062547  0.06280629 -0.37075672  0.80275829\n",
      " -0.03358862 -0.38372498  0.10163644 -0.14623922 -0.46613527  0.04489945\n",
      " -0.25080694  0.71028909]\n",
      "0.008296176297098966\n"
     ]
    }
   ],
   "source": [
    "w_cheated = np.dot(np.linalg.inv(np.matmul(X_test.T, X_test)), np.dot(X_test.T, y_test))\n",
    "print(w_cheated)\n",
    "print(np.linalg.norm(y_test - np.dot(X_test, w_cheated))**2 / len(y_test))"
   ]
  },
  {
   "cell_type": "code",
   "execution_count": 105,
   "metadata": {},
   "outputs": [
    {
     "name": "stdout",
     "output_type": "stream",
     "text": [
      "Test loss: 0.010350310269422857\n"
     ]
    }
   ],
   "source": [
    "n_pass = 100\n",
    "n_batch = 506\n",
    "params = run_gradient_descent(data, n_pass*n_batch, n_batch, writer=True, eps=0.1)"
   ]
  },
  {
   "cell_type": "code",
   "execution_count": 123,
   "metadata": {},
   "outputs": [],
   "source": [
    "wsum = np.cumsum(np.array(params), axis=0)\n",
    "wsum /= np.array(range(1, n_pass*n_batch+2))[:, np.newaxis]"
   ]
  },
  {
   "cell_type": "code",
   "execution_count": 129,
   "metadata": {},
   "outputs": [
    {
     "name": "stdout",
     "output_type": "stream",
     "text": [
      "0.010207056957685066\n"
     ]
    }
   ],
   "source": [
    "print(np.linalg.norm(y_test - np.dot(X_test, wsum[-1]))**2 / len(y_test))"
   ]
  },
  {
   "cell_type": "code",
   "execution_count": 106,
   "metadata": {},
   "outputs": [
    {
     "data": {
      "image/png": "[encoded data removed]",
      "text/plain": [
       "<Figure size 432x288 with 1 Axes>"
      ]
     },
     "metadata": {
      "needs_background": "light"
     },
     "output_type": "display_data"
    }
   ],
   "source": [
    "plt.plot([np.linalg.norm(w-w_opt)**2 for w in params])\n",
    "plt.yscale('log')\n",
    "plt.show()"
   ]
  },
  {
   "cell_type": "code",
   "execution_count": 126,
   "metadata": {},
   "outputs": [
    {
     "data": {
      "image/png": "[encoded data removed]",
      "text/plain": [
       "<Figure size 432x288 with 1 Axes>"
      ]
     },
     "metadata": {
      "needs_background": "light"
     },
     "output_type": "display_data"
    }
   ],
   "source": [
    "plt.plot([np.linalg.norm(w-w_opt)**2 for w in wsum])\n",
    "plt.yscale('log')\n",
    "plt.show()"
   ]
  },
  {
   "cell_type": "code",
   "execution_count": 102,
   "metadata": {},
   "outputs": [
    {
     "data": {
      "image/png": "[encoded data removed]",
      "text/plain": [
       "<Figure size 432x288 with 1 Axes>"
      ]
     },
     "metadata": {
      "needs_background": "light"
     },
     "output_type": "display_data"
    }
   ],
   "source": [
    "plt.plot([np.linalg.norm(w-w_opt)**2 for w in params])\n",
    "plt.yscale('log')\n",
    "plt.show()"
   ]
  },
  {
   "cell_type": "code",
   "execution_count": null,
   "metadata": {},
   "outputs": [],
   "source": []
  }
 ],
 "metadata": {
  "kernelspec": {
   "display_name": "Python 3",
   "language": "python",
   "name": "python3"
  },
  "language_info": {
   "codemirror_mode": {
    "name": "ipython",
    "version": 3
   },
   "file_extension": ".py",
   "mimetype": "text/x-python",
   "name": "python",
   "nbconvert_exporter": "python",
   "pygments_lexer": "ipython3",
   "version": "3.7.3"
  }
 },
 "nbformat": 4,
 "nbformat_minor": 4
}
