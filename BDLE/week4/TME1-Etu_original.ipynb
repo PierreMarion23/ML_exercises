{
 "cells": [
  {
   "cell_type": "markdown",
   "metadata": {},
   "source": [
    "Author: Mohamed-Amine Baazizi\n",
    "Affiliation: LIP6 - Faculté des Sciences - Sorbonne Université\n",
    "Email: mohamed-amine.baazizi@lip6.fr"
   ]
  },
  {
   "cell_type": "markdown",
   "metadata": {},
   "source": [
    "# Prise en main de Scala (30 mn)"
   ]
  },
  {
   "cell_type": "markdown",
   "metadata": {},
   "source": [
    "Cet exercice illustre les différentes structures de contrôle de Scala présentées en cours. \n",
    "Il permet de comprendre le paradigme fonctionnel : seules les fonctions `map, reduce, flatten, filter, flatMap` sont autorisées.\n",
    "\n",
    "Temps consillé : 30 mn"
   ]
  },
  {
   "cell_type": "markdown",
   "metadata": {},
   "source": [
    "## Question 1"
   ]
  },
  {
   "cell_type": "markdown",
   "metadata": {},
   "source": [
    "Définir trois fonctions qui prennent en entrée une liste d'entiers `liste` et réalisent les opérations suivantes:\n",
    "* `maxEntiers` retourne le plus grand des entiers de `liste` \n",
    "* `scEntiers` retourne la somme des carrés des entiers de `liste`\n",
    "* `moyEntiers` retourne la moyenne des entiers de `liste`\n",
    "\n",
    "Tester votre réponses en invoquant ces fonctions sur `listeEntiers` définie comme suit"
   ]
  },
  {
   "cell_type": "code",
   "execution_count": null,
   "metadata": {},
   "outputs": [],
   "source": [
    "val listeEntiers = List.range(1,11)"
   ]
  },
  {
   "cell_type": "code",
   "execution_count": null,
   "metadata": {},
   "outputs": [],
   "source": [
    "def maxEntiers(liste: ... ) = \n",
    "...\n",
    "..."
   ]
  },
  {
   "cell_type": "markdown",
   "metadata": {},
   "source": [
    "## Question 2"
   ]
  },
  {
   "cell_type": "markdown",
   "metadata": {},
   "source": [
    "Soit une liste chaine de caractères construite à l'aide de l'instruction suivante."
   ]
  },
  {
   "cell_type": "code",
   "execution_count": null,
   "metadata": {},
   "outputs": [],
   "source": [
    "val listeTemp = List(\"7,2010,04,27,75\", \"12,2009,01,31,78\", \"41,2009,03,25,95\", \"2,2008,04,28,76\", \"7,2010,02,32,91\")\n"
   ]
  },
  {
   "cell_type": "markdown",
   "metadata": {},
   "source": [
    "Chaque élément représente un enregistrement fictif de températures avec le format (station, année, mois, température, code_département). On voudrais calculer pour, l'année 2009, le maximum et la moyenne de ses températures.\n",
    "Compléter l'instruction suivante qui permet les transformations et les conversions de type nécessaires pour l'évaluation de ces deux calculs. \n"
   ]
  },
  {
   "cell_type": "code",
   "execution_count": null,
   "metadata": {},
   "outputs": [],
   "source": [
    "val temp2009 = listeTemp. \n",
    "\n",
    "println(\"max des temps \" + maxEntiers(temp2009))\n",
    "\n",
    "println(\"moy des temps \" + moyEntiers(temp2009))"
   ]
  },
  {
   "cell_type": "markdown",
   "metadata": {},
   "source": [
    "## Question 3"
   ]
  },
  {
   "cell_type": "markdown",
   "metadata": {},
   "source": [
    "Soit une liste chaine de caractères construite à l'aide de l'instruction suivante."
   ]
  },
  {
   "cell_type": "code",
   "execution_count": null,
   "metadata": {},
   "outputs": [],
   "source": [
    "val melange = List(\"1233,100,3,20171010\", \"1224,22,4,20171009\", \"100,lala,comedie\", \"22,loup,documentaire\")"
   ]
  },
  {
   "cell_type": "markdown",
   "metadata": {},
   "source": [
    "Deux types d'éléments existent : ceux de la forme (userID, movieID, rating, timestamp) et ceux de la forme (movieID, title, genre). Le domaine des userID est [1000, 2000] et celui des movieID est [0, 100].\n",
    "\n",
    "Il est demandé de construire à partir de `melange` deux listes distinctes :\n",
    "\n",
    "* `notes` contenant les éléments de la forme (userID, movieID, rating, timestamp) et dont le type est (Int, String, Int, Int) \n",
    "* `films` contenant les éléments de la forme (movieID, title, genre) et dont le type est (Int, String, String)."
   ]
  },
  {
   "cell_type": "code",
   "execution_count": null,
   "metadata": {},
   "outputs": [],
   "source": [
    "val notes = melange. ...\n",
    "val films = melange. ..."
   ]
  },
  {
   "cell_type": "markdown",
   "metadata": {},
   "source": [
    "## Question 4"
   ]
  },
  {
   "cell_type": "markdown",
   "metadata": {},
   "source": [
    "Soit une liste personnes contenant des tuples ayant trois attributs décrivant des personnes :\n",
    "\n",
    "* le premier attribut est le nom de la personne;\n",
    "* le second attribut est le type de la personne : etudiant (etu), enseignant (ens) ou inconnu (nan);\n",
    "* la troisième attribut est l'année d'inscription (s'il s'agit d'un étudiant) ou les années d'ancienneté pour les enseignants."
   ]
  },
  {
   "cell_type": "code",
   "execution_count": null,
   "metadata": {},
   "outputs": [],
   "source": [
    "val personnes = List((\"Joe\", \"etu\", 3), (\"Lee\", \"etu\", 4), (\"Sara\", \"ens\", 10), (\"John\", \"ens\", 5), (\"Bill\", \"nan\",20))"
   ]
  },
  {
   "cell_type": "markdown",
   "metadata": {},
   "source": [
    "Définir une classe `Etu(nom:String, annee:Int)` et une classe `Ens(nom:String, annee:Int)`\n",
    "\n",
    "Transformer la liste `personnes` en une liste d'objets de la classe `Etu` ou `Ens` encapsulant les information des tuples en entrée. Par exemple, le tuple `(\"Joe\", \"etu\", 3)` devra être transformé en un objet `Etu(\"Joe\", 3)`.\n",
    "\n",
    "Attention Les personnes de type inconnu ne doivent être dans le résultat!\n",
    "\n",
    "Utiliser le pattern matching pour répondre à cette question.\n",
    "\n"
   ]
  },
  {
   "cell_type": "code",
   "execution_count": null,
   "metadata": {},
   "outputs": [],
   "source": []
  },
  {
   "cell_type": "markdown",
   "metadata": {},
   "source": [
    "# Prise en main de Spark RDD"
   ]
  },
  {
   "cell_type": "markdown",
   "metadata": {},
   "source": [
    "Prendre le temps de lire la documentation Spark sur l'utilisation des RDD\n",
    "https://spark.apache.org/docs/latest/rdd-programming-guide.html\n",
    "\n",
    "et sur l'API RDD\n",
    "https://spark.apache.org/docs/2.1.1/api/scala/index.html#org.apache.spark.rdd.RDD"
   ]
  },
  {
   "cell_type": "markdown",
   "metadata": {},
   "source": [
    "## Préparation datasets"
   ]
  },
  {
   "cell_type": "markdown",
   "metadata": {},
   "source": [
    "Créer un répertoire dans votre dossier `tmp` en tapant\n",
    "\n",
    "`mkdir -p /tmp/BDLE/dataset`\n",
    "\n",
    "* Pour le dataset `wordcount` copier en tapant\n",
    "\n",
    " `cp /Infos/bd/spark/bdle/2015/data/wordcount.txt.bz2 /tmp/BDLE/dataset` \n",
    " \n",
    " `cd /tmp/BDLE/dataset`\n",
    " \n",
    " `bunzip2 wordcount.txt.bz2`\n",
    "  \n",
    "  Vérifier que vous avez bien le fichier `wordcount.txt`\n",
    "\n",
    "\n",
    "* Pour le dataset `books` copier en tapant\n",
    "\n",
    "    `cp -r /Infos/bd/spark/dataset/Books /tmp/BDLE/dataset`\n",
    "\n",
    "    `cd /tmp/BDLE/dataset/Books`\n",
    "    \n",
    "     Vérifier que vous avez bien les fichiers \n",
    "     \n",
    "     `books.csv`  `ratings.csv`\tet `users.csv`\n"
   ]
  },
  {
   "cell_type": "markdown",
   "metadata": {},
   "source": [
    "## Exercice 1 (30 mn) "
   ]
  },
  {
   "cell_type": "markdown",
   "metadata": {},
   "source": [
    "Cet exercice utilise le dataset `wordcount`\n",
    "\n",
    "Exécuter la commande suivante pour le charger dans la valeur `data` et tester que le chargement marche bien en lisant les 10 premieres lignes. "
   ]
  },
  {
   "cell_type": "code",
   "execution_count": null,
   "metadata": {},
   "outputs": [],
   "source": [
    "val path = \"/tmp/BDLE/dataset/\" \n",
    "val data = sc.textFile(path + \"wordcount.txt\")\n",
    "\n",
    "data.take(10)"
   ]
  },
  {
   "cell_type": "markdown",
   "metadata": {},
   "source": [
    "*Remarque* pour partitionner une chaîne de caractères en utilisant le point (.) comme délimiteur à l'aide de la méthode `split()`, il faut protéger le point avec deux backslahs comme suit `split(\"\\\\.\")`"
   ]
  },
  {
   "cell_type": "markdown",
   "metadata": {},
   "source": [
    "#### Q1. Structurer le contenu de data de sorte à obtenir un tableau de tableaux de chaines de caractères. Ce dernier devra être stocké dans une nouvelle variable nommée list."
   ]
  },
  {
   "cell_type": "code",
   "execution_count": null,
   "metadata": {},
   "outputs": [],
   "source": [
    "val list = data.\n",
    "\n",
    "list.take(10)"
   ]
  },
  {
   "cell_type": "markdown",
   "metadata": {},
   "source": [
    "#### Q2. Afficher les 100 premiers éléments de la 3e colonne de `list`."
   ]
  },
  {
   "cell_type": "code",
   "execution_count": null,
   "metadata": {},
   "outputs": [],
   "source": [
    "val q2 = list. \n",
    "\n",
    "q2.take(100)"
   ]
  },
  {
   "cell_type": "markdown",
   "metadata": {},
   "source": [
    "#### Q3. Transformer le contenu de `list` en une liste de paires `(mot, nb)` où `mot` correspond à la première colonne de `list` et `nb` sa troisième colonne."
   ]
  },
  {
   "cell_type": "code",
   "execution_count": null,
   "metadata": {},
   "outputs": [],
   "source": [
    "val q3 = list.\n",
    "\n",
    "q2.take(10)"
   ]
  },
  {
   "cell_type": "markdown",
   "metadata": {},
   "source": [
    "#### Q4. Grouper les paires par l'attribut `mot` et additionner leur nombres respectifs."
   ]
  },
  {
   "cell_type": "code",
   "execution_count": null,
   "metadata": {},
   "outputs": [],
   "source": [
    "val q4 = q3.\n"
   ]
  },
  {
   "cell_type": "markdown",
   "metadata": {},
   "source": [
    "#### Q5. Reprendre les questions Q3 et Q4 en calculant `mot` différemment : \n",
    "\n",
    "désormais, `mot` doit correspondre au préfixe du premier sous-élément de chaque élément de `list`, \n",
    "\n",
    "Exemple\n",
    "* pour `en.d`, mot doit être `en`\n",
    "* pour `fr.d`, mot doit être `fr`, etc. \n",
    "\n",
    "Comparer les résultats avec ceux obtenus précédemment."
   ]
  },
  {
   "cell_type": "code",
   "execution_count": null,
   "metadata": {},
   "outputs": [],
   "source": [
    "val q5 ="
   ]
  },
  {
   "cell_type": "markdown",
   "metadata": {},
   "source": [
    "## Exercice 2 (60 mn) \n"
   ]
  },
  {
   "cell_type": "markdown",
   "metadata": {},
   "source": [
    "Pour cet exercice, on utilise le jeux de données Books qui renseigne sur des livres (books.csv), des utilsateurs (users.csv) et des notes réalisées par les utilsateurs (ratings.csv).\n",
    "\n",
    "Les schémas des tables sont \n",
    "\n",
    "* `Users (userid: Number, country: Text, age: Number)`\n",
    "* `Books (bookid: Number, titlewords: Number, authorwords: Number, year: Number, publisher: Number)`\n",
    "* `Ratings (userid: Number, bookid: Number, rating: Number)`"
   ]
  },
  {
   "cell_type": "code",
   "execution_count": null,
   "metadata": {},
   "outputs": [],
   "source": [
    "val path = \"/tmp/BDLE/dataset/Books/\" \n",
    "\n",
    "val books_data = sc.textFile(path + \"books.csv\")\n",
    "val users_data = sc.textFile(path + \"users.csv\")\n",
    "val ratings_data = sc.textFile(path + \"ratings.csv\")\n",
    "\n",
    "\n",
    "books_data.take(10)\n",
    "users_data.take(10)\n",
    "ratings_data.take(10)"
   ]
  },
  {
   "cell_type": "markdown",
   "metadata": {},
   "source": [
    "### Préparation"
   ]
  },
  {
   "cell_type": "markdown",
   "metadata": {},
   "source": [
    "Afin de formater les données, créer une classe pour chaque table puis charger les données de chaque fichier dans une RDD content des objets de la classe.  "
   ]
  },
  {
   "cell_type": "code",
   "execution_count": null,
   "metadata": {},
   "outputs": [],
   "source": [
    "class Users(userid: Int, country: String, age: Int)\n",
    "//a compléter\n",
    "class Books (...) \n",
    "class Rating(...)"
   ]
  },
  {
   "cell_type": "markdown",
   "metadata": {},
   "source": [
    "Pour chaque table, créer une RDD contenant des objets de la classe lui correspondant. Compléter les instructions ci-dessous."
   ]
  },
  {
   "cell_type": "code",
   "execution_count": null,
   "metadata": {},
   "outputs": [],
   "source": [
    "val books = books_data.map(x=>x.split(\",\")).map{case(u,c,a)=>User(u.toInt,c,a.toInt)}\n",
    "books.take(10)\n",
    "\n",
    "val users = users_data. ...\n",
    "users.take(10)\n",
    "\n",
    "val ratings = ratings_data. ...\n",
    "notes.take(10)"
   ]
  },
  {
   "cell_type": "markdown",
   "metadata": {},
   "source": [
    "Exprimer les requêtes ci-dessous en opérateurs RDD"
   ]
  },
  {
   "cell_type": "markdown",
   "metadata": {},
   "source": [
    "### Requêtes sur une seule table"
   ]
  },
  {
   "cell_type": "markdown",
   "metadata": {},
   "source": [
    "#### Identifiants d'utilisateurs du pays 'france'"
   ]
  },
  {
   "cell_type": "code",
   "execution_count": null,
   "metadata": {},
   "outputs": [],
   "source": [
    "val s0 = users.\n",
    "s0.take(10)"
   ]
  },
  {
   "cell_type": "markdown",
   "metadata": {},
   "source": [
    "#### Identifiants des livres dont la date est 2000"
   ]
  },
  {
   "cell_type": "code",
   "execution_count": null,
   "metadata": {},
   "outputs": [],
   "source": [
    "val s1 = books. "
   ]
  },
  {
   "cell_type": "markdown",
   "metadata": {},
   "source": [
    "#### Identifiants des livres notés plus que 3"
   ]
  },
  {
   "cell_type": "code",
   "execution_count": null,
   "metadata": {},
   "outputs": [],
   "source": [
    "val s2 = notes."
   ]
  },
  {
   "cell_type": "markdown",
   "metadata": {},
   "source": [
    "### Requêtes d'agrégation"
   ]
  },
  {
   "cell_type": "markdown",
   "metadata": {},
   "source": [
    "#### Nombres d'utilisateurs par pays, triés par ordre décroissant de ce nombre"
   ]
  },
  {
   "cell_type": "code",
   "execution_count": null,
   "metadata": {},
   "outputs": [],
   "source": [
    "val q1 = users."
   ]
  },
  {
   "cell_type": "markdown",
   "metadata": {},
   "source": [
    "#### Pays qui a le plus grand nombre d'utilisateurs. Il n y a pas d'ex aequo"
   ]
  },
  {
   "cell_type": "code",
   "execution_count": null,
   "metadata": {},
   "outputs": [],
   "source": [
    "val q2 = "
   ]
  },
  {
   "cell_type": "markdown",
   "metadata": {},
   "source": [
    "#### Année avec le plus grand nombre de livres édités. Il n y a pas d'ex aequo"
   ]
  },
  {
   "cell_type": "code",
   "execution_count": null,
   "metadata": {},
   "outputs": [],
   "source": [
    "val q3 = books. "
   ]
  },
  {
   "cell_type": "markdown",
   "metadata": {},
   "source": [
    "### Requêtes avec jointure"
   ]
  },
  {
   "cell_type": "markdown",
   "metadata": {},
   "source": [
    "#### Les éditeurs de livres ayant été notés par des utilisateurs habitant en France"
   ]
  },
  {
   "cell_type": "code",
   "execution_count": null,
   "metadata": {},
   "outputs": [],
   "source": []
  },
  {
   "cell_type": "markdown",
   "metadata": {},
   "source": [
    "#### Les éditeurs de livres n'ayant pas été notés par des utilisateurs habitant en France"
   ]
  },
  {
   "cell_type": "code",
   "execution_count": null,
   "metadata": {},
   "outputs": [],
   "source": []
  },
  {
   "cell_type": "markdown",
   "metadata": {},
   "source": [
    "#### Pour chaque livre, la moyenne d'age des utilisateurs qui l'ont noté"
   ]
  },
  {
   "cell_type": "code",
   "execution_count": null,
   "metadata": {},
   "outputs": [],
   "source": []
  }
 ],
 "metadata": {
  "kernelspec": {
   "display_name": "spylon-kernel",
   "language": "scala",
   "name": "spylon-kernel"
  },
  "language_info": {
   "codemirror_mode": "text/x-scala",
   "file_extension": ".scala",
   "help_links": [
    {
     "text": "MetaKernel Magics",
     "url": "https://metakernel.readthedocs.io/en/latest/source/README.html"
    }
   ],
   "mimetype": "text/x-scala",
   "name": "scala",
   "pygments_lexer": "scala",
   "version": "0.4.1"
  }
 },
 "nbformat": 4,
 "nbformat_minor": 2
}
