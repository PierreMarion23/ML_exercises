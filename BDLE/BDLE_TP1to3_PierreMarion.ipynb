{
  "nbformat": 4,
  "nbformat_minor": 0,
  "metadata": {
    "kernelspec": {
      "display_name": "Python 3",
      "language": "python",
      "name": "python3"
    },
    "language_info": {
      "codemirror_mode": {
        "name": "ipython",
        "version": 3
      },
      "file_extension": ".py",
      "mimetype": "text/x-python",
      "name": "python",
      "nbconvert_exporter": "python",
      "pygments_lexer": "ipython3",
      "version": "3.7.3"
    },
    "colab": {
      "name": "BDLE_TP1to3_PierreMarion.ipynb",
      "provenance": [],
      "collapsed_sections": [],
      "toc_visible": true
    }
  },
  "cells": [
    {
      "cell_type": "markdown",
      "metadata": {
        "id": "_jwpNz1D-yhY",
        "colab_type": "text"
      },
      "source": [
        "# BDLE : TP 1 à 3"
      ]
    },
    {
      "cell_type": "markdown",
      "metadata": {
        "id": "PkC9iJU9oBWj",
        "colab_type": "text"
      },
      "source": [
        "## Préparation de la base de données"
      ]
    },
    {
      "cell_type": "code",
      "metadata": {
        "id": "NbU-sE5pqw0f",
        "colab_type": "code",
        "outputId": "28835aa8-90ff-4ed9-9163-ac4ae4de16de",
        "colab": {
          "base_uri": "https://localhost:8080/",
          "height": 121
        }
      },
      "source": [
        "import os\n",
        "from matplotlib import pyplot as plt\n",
        "import numpy as np\n",
        "import re\n",
        "\n",
        "# choisir un mode d'execution: colaboratory, local ou ppti\n",
        "\n",
        "EXECUTION='colaboratory'\n",
        "\n",
        "\n",
        "# Pour le mode local\n",
        "# IL FAUT LANCER JUPYTER NOTEBOOK EN LOCAL ET CHOISIR ENVIRONNEMENT LOCAL EN HAUT A DROITE\n",
        "# \n",
        "# Assurez-vous que l'extension jupyter_http_over_ws Jupyter est activée et à jour sur votre machine.\n",
        "# pip install --upgrade jupyter_http_over_ws>=0.0.1a3 && jupyter serv e port 8888 et qu'il accepte les requêtes du site https://colab.research.google.com.\n",
        "# jupyter notebook   --NotebookApp.allow_origin='https://colab.research.google.com'   --port=8888   --NotebookApp.port_retries=0\n",
        "# voir aussi https://research.google.com/colaboratory/local-runtimes.html\n",
        "# \n",
        "#EXECUTION='local'\n",
        "\n",
        "# EXECUTION EN SALLE PPTI\n",
        "#EXECUTION='ppti'\n",
        "\n",
        "print('EXECUTION', EXECUTION)\n",
        "\n",
        "SPARK_VERSION=\"2.4.4\"\n",
        "\n",
        "if EXECUTION == 'colaboratory':\n",
        "  HOME=\"/content\"\n",
        "  DATASET_DIR=\"/content\"\n",
        "  os.environ[\"JAVA_HOME\"] = \"/usr/lib/jvm/java-8-openjdk-amd64\"\n",
        "  !ls -ld {os.environ[\"JAVA_HOME\"]}\n",
        "  #os.environ[\"SPARK_HOME\"] = f\"{HOME}/spark-{SPARK_VERSION}-bin-hadoop2.7\"\n",
        "  os.environ[\"SPARK_HOME\"] = \"{}/spark-{}-bin-hadoop2.7\".format(HOME, SPARK_VERSION)\n",
        "\n",
        "elif EXECUTION == 'local':\n",
        "  HOME=os.environ[\"HOME\"]\n",
        "  DATASET_DIR=\"{}/dataset\".format(HOME)\n",
        "  os.environ[\"JAVA_HOME\"] = \"/usr/lib/jvm/java-8-openjdk-amd64\"\n",
        "  # si pyspark deja installé par \"conda\"\n",
        "  # os.environ[\"SPARK_HOME\"] = \"{}/anaconda3/bin/spark-{}-bin-hadoop2.7\".format(HOME, SPARK_VERSION)\n",
        "  # si on installe spark directement\n",
        "  os.environ[\"SPARK_HOME\"] = \"{}/spark-{}-bin-hadoop2.7\".format(HOME, SPARK_VERSION)\n",
        "\n",
        "elif EXECUTION == 'ppti':\n",
        "  HOME=os.environ[\"HOME\"]\n",
        "  DATASET_DIR=\"/Infos/bd/spark/dataset\"\n",
        "  os.environ[\"JAVA_HOME\"] = \"/usr/lib/jvm/java-8-openjdk-amd64\"\n",
        "  os.environ[\"SPARK_HOME\"] = \"/usr/local/spark-{}-bin-hadoop2.7\".format(SPARK_VERSION)\n",
        "else:\n",
        "    print(\"Valeur incorrecte pour la variable EXECUTION:\", EXECUTION)\n",
        "\n",
        "\n",
        "print('JAVA_HOME:', os.environ[\"JAVA_HOME\"] )\n",
        "print('SPARK_HOME:', os.environ[\"SPARK_HOME\"])\n",
        "print('DATASET_DIR:', DATASET_DIR)\n",
        "print('HOME:', HOME)"
      ],
      "execution_count": 1,
      "outputs": [
        {
          "output_type": "stream",
          "text": [
            "EXECUTION colaboratory\n",
            "drwxr-xr-x 7 root root 4096 Aug 27 16:12 /usr/lib/jvm/java-8-openjdk-amd64\n",
            "JAVA_HOME: /usr/lib/jvm/java-8-openjdk-amd64\n",
            "SPARK_HOME: /content/spark-2.4.4-bin-hadoop2.7\n",
            "DATASET_DIR: /content\n",
            "HOME: /content\n"
          ],
          "name": "stdout"
        }
      ]
    },
    {
      "cell_type": "markdown",
      "metadata": {
        "id": "-fCYt4aw4N3W",
        "colab_type": "text"
      },
      "source": [
        "### Téléchargements"
      ]
    },
    {
      "cell_type": "markdown",
      "metadata": {
        "id": "lGnhq33i30KW",
        "colab_type": "text"
      },
      "source": [
        "#### Spark"
      ]
    },
    {
      "cell_type": "code",
      "metadata": {
        "id": "fHPKVUL73yKH",
        "colab_type": "code",
        "outputId": "1b925ec0-3232-4655-a331-54d82a6873da",
        "colab": {
          "base_uri": "https://localhost:8080/",
          "height": 34
        }
      },
      "source": [
        "import os.path\n",
        "from os import path\n",
        "\n",
        "if EXECUTION == 'ppti':\n",
        "  print(\"on ne telecharge pas spark\")  \n",
        "else:\n",
        "  if (path.isdir(HOME+\"/spark-\"+SPARK_VERSION+\"-bin-hadoop2.7\")):\n",
        "    print(HOME+\"/spark-\"+SPARK_VERSION+\"-bin-hadoop2.7 exists.\")\n",
        "  else:\n",
        "    CLOSER_LOCATION = \"https://www.apache.org/dyn/closer.lua/spark/spark-{}/spark-{}-bin-hadoop2.7.tgz\".format(SPARK_VERSION, SPARK_VERSION)\n",
        "    # !wget http://mirror.ibcp.fr/pub/apache/spark/spark-{SPARK_VERSION}/spark-{SPARK_VERSION}-bin-hadoop2.7.tgz\n",
        "    !wget {CLOSER_LOCATION} -O suggest.html\n",
        "    !wget `grep \"suggest the following mirror\" -A2 suggest.html |grep -Po 'href=\"\\K[^\"]*'` -O {HOME}/spark-{SPARK_VERSION}-bin-hadoop2.7.tgz\n",
        "    !cd {HOME} && tar xzf spark-{SPARK_VERSION}-bin-hadoop2.7.tgz && rm spark-{SPARK_VERSION}-bin-hadoop2.7.tgz\n",
        "    !rm suggest.html\n",
        "    !echo \"spark installé dans {HOME}/spark-{SPARK_VERSION}-bin-hadoop2.7\"\n",
        "    !ls -ld {os.environ[\"SPARK_HOME\"]}\n",
        "    \n",
        "\n",
        "# Rmq: une autre méthode possible pour télécharger spark: est :  !pip install pyspark"
      ],
      "execution_count": 2,
      "outputs": [
        {
          "output_type": "stream",
          "text": [
            "/content/spark-2.4.4-bin-hadoop2.7 exists.\n"
          ],
          "name": "stdout"
        }
      ]
    },
    {
      "cell_type": "markdown",
      "metadata": {
        "id": "6c8lj2dj38Iu",
        "colab_type": "text"
      },
      "source": [
        "#### findspark"
      ]
    },
    {
      "cell_type": "code",
      "metadata": {
        "id": "VfohAIQv1UFK",
        "colab_type": "code",
        "outputId": "ca3dd7f5-ed15-41dc-a3ff-9c1cbbb725a8",
        "colab": {
          "base_uri": "https://localhost:8080/",
          "height": 34
        }
      },
      "source": [
        "if EXECUTION == 'ppti' :\n",
        "  !ls -l /Infos/bd/spark/python/findspark.py\n",
        "else :\n",
        "  !pip install findspark"
      ],
      "execution_count": 3,
      "outputs": [
        {
          "output_type": "stream",
          "text": [
            "Requirement already satisfied: findspark in /usr/local/lib/python3.6/dist-packages (1.3.0)\n"
          ],
          "name": "stdout"
        }
      ]
    },
    {
      "cell_type": "markdown",
      "metadata": {
        "id": "THe8u_Ho4w2z",
        "colab_type": "text"
      },
      "source": [
        "#### demarrer_spark_colab.py"
      ]
    },
    {
      "cell_type": "code",
      "metadata": {
        "id": "K_wTd3VO4zzA",
        "colab_type": "code",
        "outputId": "763e115c-df3c-4450-8a3f-4b9771f27af5",
        "colab": {
          "base_uri": "https://localhost:8080/",
          "height": 34
        }
      },
      "source": [
        "# URL du dossier PUBLIC_DATASET contenant des fichiers\n",
        "PUBLIC_DATASET=\"https://nuage.lip6.fr/s/PQM3RgR4FRnMPQ9/download?path=\"\n",
        "\n",
        "if EXECUTION == 'ppti' :\n",
        "  !ls -l /Infos/bd/spark/python/demarrer_spark.py\n",
        "else :\n",
        "  if (path.isfile(\"demarrer_spark.py\")):\n",
        "     print(\"demarrer_spark.py exists.\")\n",
        "  else:\n",
        "     !wget {PUBLIC_DATASET}/python/demarrer_spark.py -O demarrer_spark.py"
      ],
      "execution_count": 4,
      "outputs": [
        {
          "output_type": "stream",
          "text": [
            "demarrer_spark.py exists.\n"
          ],
          "name": "stdout"
        }
      ]
    },
    {
      "cell_type": "markdown",
      "metadata": {
        "id": "Xy2SS4Y05LlR",
        "colab_type": "text"
      },
      "source": [
        "#### IMDB"
      ]
    },
    {
      "cell_type": "code",
      "metadata": {
        "id": "KDq0NIVx1vRJ",
        "colab_type": "code",
        "outputId": "a84ed21f-facc-4f7f-8699-0f5b2c7849ec",
        "colab": {
          "base_uri": "https://localhost:8080/",
          "height": 34
        }
      },
      "source": [
        "if EXECUTION == 'ppti' :\n",
        "  !ls -ld {DATASET_DIR}/imdb/vldb2015\n",
        "  \n",
        "else :\n",
        "  if (path.isdir(DATASET_DIR+\"/imdb/vldb2015\")):\n",
        "    print(DATASET_DIR+\"/imdb/vldb2015 exists.\")\n",
        "  else:\n",
        "    !mkdir -p {DATASET_DIR}/imdb/vldb2015\n",
        "\n",
        "    # les donnees entières (1.18GO)\n",
        "    #!wget {PUBLIC_DATASET}/imdb/vldb2015/csvfiles.tgz -O imdb/vldb2015/csvfiles.tgz\n",
        "    #!cd imdb/vldb2015 && tar zxf csvfiles.tgz && rm csvfiles.tgz\n",
        "    #dir = 'imdb//vldb2015/csvfiles/'\n",
        "\n",
        "    ## Effacer dataset complet\n",
        "    #!cd \n",
        "    #!ls imdb\n",
        "    #!rm -rf imdb/csvfiles\n",
        "\n",
        "    # un sample basé sur 1% des films\n",
        "    !wget {PUBLIC_DATASET}/imdb/vldb2015/csvfiles_sample001.tgz -O {DATASET_DIR}/imdb/vldb2015/csvfiles_sample001.tgz\n",
        "    !cd {DATASET_DIR}/imdb/vldb2015 && tar zxf csvfiles_sample001.tgz && rm csvfiles_sample001.tgz\n",
        "    print(\"dataset téléchargé\")"
      ],
      "execution_count": 5,
      "outputs": [
        {
          "output_type": "stream",
          "text": [
            "/content/imdb/vldb2015 exists.\n"
          ],
          "name": "stdout"
        }
      ]
    },
    {
      "cell_type": "markdown",
      "metadata": {
        "id": "ejTe20jfGkfn",
        "colab_type": "text"
      },
      "source": [
        "#### Movielens"
      ]
    },
    {
      "cell_type": "code",
      "metadata": {
        "id": "s0dMfbcaAqTA",
        "colab_type": "code",
        "outputId": "ebb6dac0-f00e-403d-8800-ab01990e84be",
        "colab": {
          "base_uri": "https://localhost:8080/",
          "height": 34
        }
      },
      "source": [
        "if EXECUTION == 'ppti' :\n",
        "  !ls -ld {DATASET_DIR}/movielens\n",
        "else :\n",
        "  if (path.isdir(DATASET_DIR+\"/movielens\")):\n",
        "    print(DATASET_DIR+\"/movielens exists.\")\n",
        "  else:\n",
        "    !mkdir -p {DATASET_DIR}/movielens\n",
        "    !wget {PUBLIC_DATASET}/movielens/ml-latest-small.zip -O {DATASET_DIR}/movielens/ml-latest-small.zip\n",
        "    !cd {DATASET_DIR}/movielens && unzip ml-latest-small.zip  && rm ml-latest-small.zip\n",
        "    print(\"dataset movielens téléchargé\")"
      ],
      "execution_count": 6,
      "outputs": [
        {
          "output_type": "stream",
          "text": [
            "/content/movielens exists.\n"
          ],
          "name": "stdout"
        }
      ]
    },
    {
      "cell_type": "markdown",
      "metadata": {
        "id": "YTuBkS5z8Qaq",
        "colab_type": "text"
      },
      "source": [
        "télécharger la définition des tables imdb"
      ]
    },
    {
      "cell_type": "code",
      "metadata": {
        "id": "i4_PtZSK8VZv",
        "colab_type": "code",
        "outputId": "a9dfe43d-803f-415e-ab8d-9a725b906870",
        "colab": {
          "base_uri": "https://localhost:8080/",
          "height": 34
        }
      },
      "source": [
        "if EXECUTION == 'ppti':\n",
        "  !cp {DATASET_DIR}/imdb/vldb2015/tables_imdb.py tables_imdb.py\n",
        "else:\n",
        "  if (path.isfile(\"tables_imdb.py\")):\n",
        "    print(\"tables_imdb.py exists.\")\n",
        "  else:\n",
        "    !wget {PUBLIC_DATASET}/imdb/vldb2015/tables_imdb.py -O tables_imdb.py"
      ],
      "execution_count": 7,
      "outputs": [
        {
          "output_type": "stream",
          "text": [
            "tables_imdb.py exists.\n"
          ],
          "name": "stdout"
        }
      ]
    },
    {
      "cell_type": "markdown",
      "metadata": {
        "id": "r0YUKOgNj5To",
        "colab_type": "text"
      },
      "source": [
        "#### IMDB 2019"
      ]
    },
    {
      "cell_type": "code",
      "metadata": {
        "colab_type": "code",
        "outputId": "c36bcf2f-c7eb-4f15-9a0f-1320bdd2ea84",
        "id": "wPbyg8ehjocv",
        "colab": {
          "base_uri": "https://localhost:8080/",
          "height": 34
        }
      },
      "source": [
        "if EXECUTION == 'ppti' :\n",
        "  !ls -ld {DATASET_DIR}/imdb/complete\n",
        "  \n",
        "else :\n",
        "  if (path.isdir(DATASET_DIR+\"/imdb/complete\")):\n",
        "    print(DATASET_DIR+\"/imdb/complete exists.\")\n",
        "  else:\n",
        "    !mkdir -p {DATASET_DIR}/imdb/complete\n",
        "    # les donnees entières \n",
        "    # !wget https://datasets.imdbws.com/name.basics.tsv.gz -O imdb/complete/name.basics.tsv.gz\n",
        "    !wget https://datasets.imdbws.com/title.akas.tsv.gz -O imdb/complete/title.akas.tsv.gz\n",
        "    !wget https://datasets.imdbws.com/title.basics.tsv.gz -O imdb/complete/title.basics.tsv.gz\n",
        "    # !wget https://datasets.imdbws.com/title.crew.tsv.gz -O imdb/complete/title.crew.tsv.gz\n",
        "    # !wget https://datasets.imdbws.com/title.episode.tsv.gz -O imdb/complete/title.episode.tsv.gz\n",
        "    # !wget https://datasets.imdbws.com/title.principals.tsv.gz -O imdb/complete/title.principals.tsv.gz\n",
        "    !wget https://datasets.imdbws.com/title.ratings.tsv.gz -O imdb/complete/title.ratings.tsv.gz\n",
        "    !cd imdb/complete && gunzip *.gz \n",
        "    dir = 'imdb/complete/csvfiles/'\n",
        "\n",
        "    ## Effacer dataset complet\n",
        "    #!cd \n",
        "    #!ls imdb\n",
        "    #!rm -rf imdb/csvfiles\n",
        "\n",
        "    print(\"dataset téléchargé\")"
      ],
      "execution_count": 8,
      "outputs": [
        {
          "output_type": "stream",
          "text": [
            "/content/imdb/complete exists.\n"
          ],
          "name": "stdout"
        }
      ]
    },
    {
      "cell_type": "markdown",
      "metadata": {
        "id": "b48RFAkz0fIK",
        "colab_type": "text"
      },
      "source": [
        "### Démarrer la session spark"
      ]
    },
    {
      "cell_type": "code",
      "metadata": {
        "id": "UGN1-AH40fIM",
        "colab_type": "code",
        "outputId": "dfcf0764-6ffe-4cab-b590-61e64d020b45",
        "colab": {
          "base_uri": "https://localhost:8080/",
          "height": 243
        }
      },
      "source": [
        "from demarrer_spark import demarrer_spark\n",
        "\n",
        "spark = demarrer_spark()"
      ],
      "execution_count": 9,
      "outputs": [
        {
          "output_type": "stream",
          "text": [
            "les dossiers contenant les packages\n",
            "\n",
            "/env/python\n",
            "/usr/lib/python36.zip\n",
            "/usr/lib/python3.6\n",
            "/usr/lib/python3.6/lib-dynload\n",
            "/usr/local/lib/python3.6/dist-packages\n",
            "/usr/lib/python3/dist-packages\n",
            "/usr/local/lib/python3.6/dist-packages/IPython/extensions\n",
            "/root/.ipython\n",
            "findspark.init() initialise les variables d'environnement pour spark\n",
            "import fait\n",
            "session démarrée, son id est  local-1570728320298\n"
          ],
          "name": "stdout"
        }
      ]
    },
    {
      "cell_type": "markdown",
      "metadata": {
        "id": "Qn9y6Qmd0fIS",
        "colab_type": "text"
      },
      "source": [
        "### Définir l'accès aux fichiers de données"
      ]
    },
    {
      "cell_type": "markdown",
      "metadata": {
        "id": "VqsOkYFbOI2V",
        "colab_type": "text"
      },
      "source": [
        "#### Définition tables IMDB"
      ]
    },
    {
      "cell_type": "code",
      "metadata": {
        "id": "ZvjUlX4y05zt",
        "colab_type": "code",
        "outputId": "9e55739d-1050-4114-b271-2013864ebe60",
        "colab": {
          "base_uri": "https://localhost:8080/",
          "height": 34
        }
      },
      "source": [
        "from tables_imdb import lire_tables\n",
        "dir = \"{}/imdb/vldb2015/csvfiles_sample001/\".format(DATASET_DIR)\n",
        "\n",
        "title, kind_type, movie_info, info_type, cast_info, role_type, name,  \\\n",
        "person_info, movie_companies, company_name,company_type \\\n",
        "= lire_tables(spark, dir)\n",
        "\n",
        "print(\"tables définies\")"
      ],
      "execution_count": 10,
      "outputs": [
        {
          "output_type": "stream",
          "text": [
            "tables définies\n"
          ],
          "name": "stdout"
        }
      ]
    },
    {
      "cell_type": "code",
      "metadata": {
        "id": "6RX5z18g0fIV",
        "colab_type": "code",
        "outputId": "702dfb5c-578e-4b77-ec06-2877cd429a89",
        "colab": {
          "base_uri": "https://localhost:8080/",
          "height": 34
        }
      },
      "source": [
        "title.count()"
      ],
      "execution_count": 11,
      "outputs": [
        {
          "output_type": "execute_result",
          "data": {
            "text/plain": [
              "25084"
            ]
          },
          "metadata": {
            "tags": []
          },
          "execution_count": 11
        }
      ]
    },
    {
      "cell_type": "markdown",
      "metadata": {
        "id": "08B8e3fGGtW9",
        "colab_type": "text"
      },
      "source": [
        "#### Définition tables Movielens"
      ]
    },
    {
      "cell_type": "code",
      "metadata": {
        "id": "KNDGs4MoFhk_",
        "colab_type": "code",
        "outputId": "cac50480-fd1d-4a5c-c7b9-c1e2ec7ed87d",
        "colab": {
          "base_uri": "https://localhost:8080/",
          "height": 399
        }
      },
      "source": [
        "    #==============\n",
        "    # Ratings\n",
        "    #==============\n",
        "    schema_ratings = \"\"\"\n",
        "          userId INT, \n",
        "          movieId INT, \n",
        "          rating FLOAT, \n",
        "          timestamp INT\n",
        "        \"\"\"\n",
        "\n",
        "    ratings = spark.read.option(\"header\",\"true\").csv(path = DATASET_DIR+\"/movielens/ml-latest-small/ratings.csv\", schema = schema_ratings).persist()\n",
        "    ratings.createOrReplaceTempView(\"Ratings\")\n",
        "    #title.printSchema()\n",
        "\n",
        "    schema_links = \"\"\"\n",
        "          movieId INT, \n",
        "          imdbId INT, \n",
        "          tmdbId INT\n",
        "        \"\"\"\n",
        "\n",
        "    links = spark.read.option(\"header\",\"true\").csv(path = DATASET_DIR+\"/movielens/ml-latest-small/links.csv\", schema = schema_links).persist()\n",
        "    links.createOrReplaceTempView(\"Links\")\n",
        "\n",
        "\n",
        "ratings.show(5)\n",
        "links.show(5)\n",
        "\n",
        "\n",
        "# charger tags et movies ...\n"
      ],
      "execution_count": 12,
      "outputs": [
        {
          "output_type": "stream",
          "text": [
            "+------+-------+------+----------+\n",
            "|userId|movieId|rating| timestamp|\n",
            "+------+-------+------+----------+\n",
            "|     1|     31|   2.5|1260759144|\n",
            "|     1|   1029|   3.0|1260759179|\n",
            "|     1|   1061|   3.0|1260759182|\n",
            "|     1|   1129|   2.0|1260759185|\n",
            "|     1|   1172|   4.0|1260759205|\n",
            "+------+-------+------+----------+\n",
            "only showing top 5 rows\n",
            "\n",
            "+-------+------+------+\n",
            "|movieId|imdbId|tmdbId|\n",
            "+-------+------+------+\n",
            "|      1|114709|   862|\n",
            "|      2|113497|  8844|\n",
            "|      3|113228| 15602|\n",
            "|      4|114885| 31357|\n",
            "|      5|113041| 11862|\n",
            "+-------+------+------+\n",
            "only showing top 5 rows\n",
            "\n"
          ],
          "name": "stdout"
        }
      ]
    },
    {
      "cell_type": "code",
      "metadata": {
        "id": "XeyPNQYGMtRU",
        "colab_type": "code",
        "colab": {}
      },
      "source": [
        "# ratings.count()\n",
        "# links.printSchema()\n"
      ],
      "execution_count": 0,
      "outputs": []
    },
    {
      "cell_type": "markdown",
      "metadata": {
        "id": "KRGdHq9Rl_On",
        "colab_type": "text"
      },
      "source": [
        "#### Definition table IMDB Complete"
      ]
    },
    {
      "cell_type": "markdown",
      "metadata": {
        "id": "e-5_QAWoPGIB",
        "colab_type": "text"
      },
      "source": [
        "https://www.imdb.com/interfaces/"
      ]
    },
    {
      "cell_type": "code",
      "metadata": {
        "id": "8Qw-GoCKYqhY",
        "colab_type": "code",
        "outputId": "783a51ba-b9f2-4d39-b674-94612299ff77",
        "colab": {
          "base_uri": "https://localhost:8080/",
          "height": 660
        }
      },
      "source": [
        "    #==============\n",
        "    # Ratings\n",
        "    #==============\n",
        "    schema = \"\"\"\n",
        "          tconst STRING, \n",
        "          averageRating FLOAT, \n",
        "          numVotes INT\n",
        "        \"\"\"\n",
        "\n",
        "    imdb_ratings = spark.read.format(\"csv\").option(\"header\", \"true\").option(\"delimiter\", \"\\t\").schema(schema).load(DATASET_DIR+\"/imdb/complete/title.ratings.tsv\").persist()\n",
        "    imdb_ratings.createOrReplaceTempView(\"IMDB_Ratings\")\n",
        "    imdb_ratings.printSchema()\n",
        "\n",
        "    #==============\n",
        "    # AKAS\n",
        "    #==============\n",
        "    schema = \"\"\"\n",
        "          titleId STRING, \n",
        "          ordering INT, \n",
        "          title STRING,\n",
        "          region STRING,\n",
        "          language STRING,\n",
        "          types STRING,\n",
        "          attributes STRING,\n",
        "          isOriginalkTitle INT\n",
        "        \"\"\"\n",
        "\n",
        "    imdb_akas = spark.read.format(\"csv\").option(\"header\", \"true\").option(\"delimiter\", \"\\t\").schema(schema).load(DATASET_DIR+\"/imdb/complete/title.akas.tsv\").persist()\n",
        "    imdb_akas.createOrReplaceTempView(\"IMDB_Akas\")\n",
        "    imdb_akas.printSchema()\n",
        "\n",
        "    imdb_ratings.show(5)\n",
        "    imdb_akas.show(5)"
      ],
      "execution_count": 13,
      "outputs": [
        {
          "output_type": "stream",
          "text": [
            "root\n",
            " |-- tconst: string (nullable = true)\n",
            " |-- averageRating: float (nullable = true)\n",
            " |-- numVotes: integer (nullable = true)\n",
            "\n",
            "root\n",
            " |-- titleId: string (nullable = true)\n",
            " |-- ordering: integer (nullable = true)\n",
            " |-- title: string (nullable = true)\n",
            " |-- region: string (nullable = true)\n",
            " |-- language: string (nullable = true)\n",
            " |-- types: string (nullable = true)\n",
            " |-- attributes: string (nullable = true)\n",
            " |-- isOriginalkTitle: integer (nullable = true)\n",
            "\n",
            "+---------+-------------+--------+\n",
            "|   tconst|averageRating|numVotes|\n",
            "+---------+-------------+--------+\n",
            "|tt0000001|          5.6|    1538|\n",
            "|tt0000002|          6.1|     186|\n",
            "|tt0000003|          6.5|    1199|\n",
            "|tt0000004|          6.2|     114|\n",
            "|tt0000005|          6.1|    1912|\n",
            "+---------+-------------+--------+\n",
            "only showing top 5 rows\n",
            "\n",
            "+---------+--------+--------------------+------+--------+-----------+----------+----------------+\n",
            "|  titleId|ordering|               title|region|language|      types|attributes|isOriginalkTitle|\n",
            "+---------+--------+--------------------+------+--------+-----------+----------+----------------+\n",
            "|tt0000001|       1|Carmencita - span...|    HU|      \\N|imdbDisplay|        \\N|               0|\n",
            "|tt0000001|       2|          Καρμενσίτα|    GR|      \\N|         \\N|        \\N|               0|\n",
            "|tt0000001|       3|          Карменсита|    RU|      \\N|         \\N|        \\N|               0|\n",
            "|tt0000001|       4|          Carmencita|    US|      \\N|         \\N|        \\N|               0|\n",
            "|tt0000001|       5|          Carmencita|    \\N|      \\N|   original|        \\N|               1|\n",
            "+---------+--------+--------------------+------+--------+-----------+----------+----------------+\n",
            "only showing top 5 rows\n",
            "\n"
          ],
          "name": "stdout"
        }
      ]
    },
    {
      "cell_type": "markdown",
      "metadata": {
        "id": "ynROz_jrY_b4",
        "colab_type": "text"
      },
      "source": [
        ""
      ]
    },
    {
      "cell_type": "code",
      "metadata": {
        "colab_type": "code",
        "outputId": "9b3bf496-3b6e-411a-ca53-2f0206e92dcc",
        "id": "AmZaFZWNl91y",
        "colab": {
          "base_uri": "https://localhost:8080/",
          "height": 399
        }
      },
      "source": [
        "     \n",
        "   \n",
        "\n",
        "\n",
        "schema = \"\"\"\n",
        "      tconst STRING, \n",
        "      titleType STRING,\n",
        "      primaryTitle STRING,\n",
        "      originalTitle STRING,\n",
        "      isAdult INT,\n",
        "      startYear INT,\n",
        "      endYear INT,\n",
        "      runtimeMinutes INT,\n",
        "      genres STRING\n",
        "    \"\"\"\n",
        "\n",
        "imdb_basics = spark.read.format(\"csv\").option(\"header\", \"true\").option(\"delimiter\", \"\\t\").schema(schema).load(DATASET_DIR+\"/imdb/complete/title.basics.tsv\").persist()\n",
        "imdb_basics.createOrReplaceTempView(\"IMDB_Basics\")\n",
        "imdb_basics.printSchema()\n",
        "\n",
        "\n",
        "imdb_basics.show(5)\n",
        "\n",
        "   \n",
        "    "
      ],
      "execution_count": 14,
      "outputs": [
        {
          "output_type": "stream",
          "text": [
            "root\n",
            " |-- tconst: string (nullable = true)\n",
            " |-- titleType: string (nullable = true)\n",
            " |-- primaryTitle: string (nullable = true)\n",
            " |-- originalTitle: string (nullable = true)\n",
            " |-- isAdult: integer (nullable = true)\n",
            " |-- startYear: integer (nullable = true)\n",
            " |-- endYear: integer (nullable = true)\n",
            " |-- runtimeMinutes: integer (nullable = true)\n",
            " |-- genres: string (nullable = true)\n",
            "\n",
            "+------+---------+------------+-------------+-------+---------+-------+--------------+------+\n",
            "|tconst|titleType|primaryTitle|originalTitle|isAdult|startYear|endYear|runtimeMinutes|genres|\n",
            "+------+---------+------------+-------------+-------+---------+-------+--------------+------+\n",
            "|  null|     null|        null|         null|   null|     null|   null|          null|  null|\n",
            "|  null|     null|        null|         null|   null|     null|   null|          null|  null|\n",
            "|  null|     null|        null|         null|   null|     null|   null|          null|  null|\n",
            "|  null|     null|        null|         null|   null|     null|   null|          null|  null|\n",
            "|  null|     null|        null|         null|   null|     null|   null|          null|  null|\n",
            "+------+---------+------------+-------------+-------+---------+-------+--------------+------+\n",
            "only showing top 5 rows\n",
            "\n"
          ],
          "name": "stdout"
        }
      ]
    },
    {
      "cell_type": "markdown",
      "metadata": {
        "id": "6YrojdI8p5Lr",
        "colab_type": "text"
      },
      "source": [
        "## TP 1 : Premières analyses"
      ]
    },
    {
      "cell_type": "markdown",
      "metadata": {
        "id": "nAtcFy8dqKEK",
        "colab_type": "text"
      },
      "source": [
        "### Les sociétés de production"
      ]
    },
    {
      "cell_type": "markdown",
      "metadata": {
        "id": "cE2UuWR9qLUa",
        "colab_type": "text"
      },
      "source": [
        "#### Nombre de sociétés de production"
      ]
    },
    {
      "cell_type": "code",
      "metadata": {
        "id": "iDPudxXIp-Z-",
        "colab_type": "code",
        "colab": {
          "base_uri": "https://localhost:8080/",
          "height": 121
        },
        "outputId": "91e0a19b-6c90-4658-8166-ec49a6c56591"
      },
      "source": [
        "spark.sql(\"\"\"SELECT count(*) FROM Company_name\"\"\").show()"
      ],
      "execution_count": 15,
      "outputs": [
        {
          "output_type": "stream",
          "text": [
            "+--------+\n",
            "|count(1)|\n",
            "+--------+\n",
            "|   11470|\n",
            "+--------+\n",
            "\n"
          ],
          "name": "stdout"
        }
      ]
    },
    {
      "cell_type": "markdown",
      "metadata": {
        "id": "cDcESKSVqO0O",
        "colab_type": "text"
      },
      "source": [
        "#### Les caractéristiques des sociétés de production"
      ]
    },
    {
      "cell_type": "code",
      "metadata": {
        "id": "noort1oDqQZ0",
        "colab_type": "code",
        "colab": {
          "base_uri": "https://localhost:8080/",
          "height": 173
        },
        "outputId": "c51a6716-4cd2-40c3-a454-e74eb2d71c3d"
      },
      "source": [
        "company_type.show(truncate = False)"
      ],
      "execution_count": 16,
      "outputs": [
        {
          "output_type": "stream",
          "text": [
            "+---+-------------------------+\n",
            "|id |kind                     |\n",
            "+---+-------------------------+\n",
            "|1  |distributors             |\n",
            "|2  |production companies     |\n",
            "|3  |special effects companies|\n",
            "|4  |miscellaneous companies  |\n",
            "+---+-------------------------+\n",
            "\n"
          ],
          "name": "stdout"
        }
      ]
    },
    {
      "cell_type": "markdown",
      "metadata": {
        "id": "RfzIOWBaqTEL",
        "colab_type": "text"
      },
      "source": [
        "#### Nombre de films par type de sociétés de production"
      ]
    },
    {
      "cell_type": "code",
      "metadata": {
        "id": "uGvUIqTIqYmQ",
        "colab_type": "code",
        "colab": {
          "base_uri": "https://localhost:8080/",
          "height": 139
        },
        "outputId": "f239736d-d35c-4d41-a8bc-88cdff416c90"
      },
      "source": [
        "r = spark.sql(\"\"\"\n",
        "SELECT kind, count(*) as nb_of_films\n",
        "FROM Movie_Companies \n",
        "JOIN Company_Type on Movie_Companies.company_type_id = Company_Type.id\n",
        "group by kind \n",
        "order by nb_of_films desc\n",
        "\"\"\")\n",
        "r.show()\n"
      ],
      "execution_count": 17,
      "outputs": [
        {
          "output_type": "stream",
          "text": [
            "+--------------------+-----------+\n",
            "|                kind|nb_of_films|\n",
            "+--------------------+-----------+\n",
            "|production companies|      13345|\n",
            "|        distributors|      12732|\n",
            "+--------------------+-----------+\n",
            "\n"
          ],
          "name": "stdout"
        }
      ]
    },
    {
      "cell_type": "markdown",
      "metadata": {
        "id": "1E1uwnSZqU4i",
        "colab_type": "text"
      },
      "source": [
        "#### Nombre de films pour les plus grosses sociétés"
      ]
    },
    {
      "cell_type": "code",
      "metadata": {
        "id": "MKGWNh4xqbOg",
        "colab_type": "code",
        "colab": {
          "base_uri": "https://localhost:8080/",
          "height": 469
        },
        "outputId": "58a8a887-7120-4744-eeb5-a94ac73947fe"
      },
      "source": [
        "nb_films_per_societies = spark.sql(\"\"\"\n",
        "SELECT name, count(*) as nb_of_films\n",
        "FROM Movie_Companies \n",
        "JOIN Company_Type on Movie_Companies.company_type_id = Company_Type.id\n",
        "JOIN Company_name on Company_name.id = Movie_Companies.company_id\n",
        "GROUP BY Company_name.name\n",
        "ORDER BY nb_of_films desc\n",
        "\"\"\")\n",
        "nb_films_per_societies.persist()\n",
        "nb_films_per_societies.show(truncate = False)"
      ],
      "execution_count": 18,
      "outputs": [
        {
          "output_type": "stream",
          "text": [
            "+--------------------------------------+-----------+\n",
            "|name                                  |nb_of_films|\n",
            "+--------------------------------------+-----------+\n",
            "|Columbia Broadcasting System (CBS)    |633        |\n",
            "|National Broadcasting Company (NBC)   |469        |\n",
            "|American Broadcasting Company (ABC)   |343        |\n",
            "|British Broadcasting Corporation (BBC)|284        |\n",
            "|Warner Home Video                     |193        |\n",
            "|ABS-CBN                               |143        |\n",
            "|General Film Company                  |134        |\n",
            "|Pathé Frères                          |131        |\n",
            "|Paramount Pictures                    |102        |\n",
            "|Universal Pictures                    |100        |\n",
            "|Metro-Goldwyn-Mayer (MGM)             |99         |\n",
            "|Universal Film Manufacturing Company  |94         |\n",
            "|Warner Bros. Television               |91         |\n",
            "|Granada Television                    |83         |\n",
            "|Warner Bros                           |82         |\n",
            "|Zweites Deutsches Fernsehen (ZDF)     |69         |\n",
            "|RKO Radio Pictures                    |67         |\n",
            "|20th Century Fox Television           |65         |\n",
            "|Danmarks Radio (DR)                   |62         |\n",
            "|Universal TV                          |61         |\n",
            "+--------------------------------------+-----------+\n",
            "only showing top 20 rows\n",
            "\n"
          ],
          "name": "stdout"
        }
      ]
    },
    {
      "cell_type": "code",
      "metadata": {
        "id": "E1QgVlJ0qcdG",
        "colab_type": "code",
        "colab": {
          "base_uri": "https://localhost:8080/",
          "height": 295
        },
        "outputId": "a53d5c47-de70-45d2-86b4-07fcebbe493d"
      },
      "source": [
        "nb_films_per_societies_to_python = nb_films_per_societies.collect()\n",
        "\n",
        "tabNbFilms = [x.nb_of_films for x in nb_films_per_societies_to_python]\n",
        "\n",
        "plt.yscale('log')\n",
        "plt.plot(tabNbFilms) \n",
        "plt.xlabel('Company')\n",
        "plt.ylabel('nb films')\n",
        "plt.title('Nombre de films par société de production')\n",
        "plt.show()\n"
      ],
      "execution_count": 19,
      "outputs": [
        {
          "output_type": "display_data",
          "data": {
            "image/png": "[encoded data removed]",
            "text/plain": [
              "<Figure size 432x288 with 1 Axes>"
            ]
          },
          "metadata": {
            "tags": []
          }
        }
      ]
    },
    {
      "cell_type": "markdown",
      "metadata": {
        "id": "Wczi4A1vqlwQ",
        "colab_type": "text"
      },
      "source": [
        "#### Nombre de sociétés par type"
      ]
    },
    {
      "cell_type": "code",
      "metadata": {
        "id": "cI6kWWtQqnct",
        "colab_type": "code",
        "colab": {
          "base_uri": "https://localhost:8080/",
          "height": 139
        },
        "outputId": "a35221a7-fa20-4aa2-ac4f-c6100f74a845"
      },
      "source": [
        "spark.sql(\"\"\"\n",
        "SELECT kind, count(DISTINCT name) as nombre\n",
        "FROM Movie_Companies \n",
        "JOIN Company_Type on Movie_Companies.company_type_id = Company_Type.id\n",
        "JOIN Company_name on Company_name.id = Movie_Companies.company_id\n",
        "GROUP BY kind\n",
        "\"\"\").show(truncate = False)"
      ],
      "execution_count": 20,
      "outputs": [
        {
          "output_type": "stream",
          "text": [
            "+--------------------+------+\n",
            "|kind                |nombre|\n",
            "+--------------------+------+\n",
            "|production companies|7906  |\n",
            "|distributors        |4541  |\n",
            "+--------------------+------+\n",
            "\n"
          ],
          "name": "stdout"
        }
      ]
    },
    {
      "cell_type": "markdown",
      "metadata": {
        "id": "9NtZQNN1qrra",
        "colab_type": "text"
      },
      "source": [
        "### Les caractéristiques des films"
      ]
    },
    {
      "cell_type": "markdown",
      "metadata": {
        "id": "GLQ7L23zqxbc",
        "colab_type": "text"
      },
      "source": [
        "Nombre de caractéristiques différentes"
      ]
    },
    {
      "cell_type": "code",
      "metadata": {
        "id": "Xbs9XUnCqsl3",
        "colab_type": "code",
        "colab": {
          "base_uri": "https://localhost:8080/",
          "height": 121
        },
        "outputId": "02b3f010-3ddc-4a78-875f-f78e17d85783"
      },
      "source": [
        "spark.sql(\"SELECT count(*) FROM Info_type\").show()"
      ],
      "execution_count": 21,
      "outputs": [
        {
          "output_type": "stream",
          "text": [
            "+--------+\n",
            "|count(1)|\n",
            "+--------+\n",
            "|     113|\n",
            "+--------+\n",
            "\n"
          ],
          "name": "stdout"
        }
      ]
    },
    {
      "cell_type": "code",
      "metadata": {
        "id": "zm9ZMuzsq4Z5",
        "colab_type": "code",
        "colab": {
          "base_uri": "https://localhost:8080/",
          "height": 469
        },
        "outputId": "b71d57d6-7ffe-41fb-e99b-fb9f0dd9bfa3"
      },
      "source": [
        "info_type.show()"
      ],
      "execution_count": 22,
      "outputs": [
        {
          "output_type": "stream",
          "text": [
            "+---+------------------+\n",
            "| id|              info|\n",
            "+---+------------------+\n",
            "|  1|          runtimes|\n",
            "|  2|        color info|\n",
            "|  3|            genres|\n",
            "|  4|         languages|\n",
            "|  5|      certificates|\n",
            "|  6|         sound mix|\n",
            "|  7|         tech info|\n",
            "|  8|         countries|\n",
            "|  9|          taglines|\n",
            "| 10|          keywords|\n",
            "| 11|alternate versions|\n",
            "| 12|     crazy credits|\n",
            "| 13|             goofs|\n",
            "| 14|        soundtrack|\n",
            "| 15|            quotes|\n",
            "| 16|     release dates|\n",
            "| 17|            trivia|\n",
            "| 18|         locations|\n",
            "| 19|    mini biography|\n",
            "| 20|       birth notes|\n",
            "+---+------------------+\n",
            "only showing top 20 rows\n",
            "\n"
          ],
          "name": "stdout"
        }
      ]
    },
    {
      "cell_type": "markdown",
      "metadata": {
        "id": "NuUED2iuq7T9",
        "colab_type": "text"
      },
      "source": [
        "Proportion des films possédant chaque caractéristique"
      ]
    },
    {
      "cell_type": "code",
      "metadata": {
        "id": "XCUa2f0Uq_GF",
        "colab_type": "code",
        "colab": {
          "base_uri": "https://localhost:8080/",
          "height": 469
        },
        "outputId": "9fb41af4-2e4a-49b3-c55e-69a39dccf68c"
      },
      "source": [
        "spark.sql(\"\"\"SELECT Info_type.info, count(DISTINCT movie_id) as nb_films, (ROUND(count(DISTINCT movie_id) / (SELECT count(*) FROM Title), 3)) as proportion_films\n",
        "          FROM Movie_info\n",
        "          JOIN Info_type ON Movie_info.info_type_id = Info_type.id\n",
        "          GROUP BY Info_type.info\n",
        "          ORDER BY proportion_films DESC\n",
        "          \"\"\").show(truncate = False)"
      ],
      "execution_count": 23,
      "outputs": [
        {
          "output_type": "stream",
          "text": [
            "+---------------------+--------+----------------+\n",
            "|info                 |nb_films|proportion_films|\n",
            "+---------------------+--------+----------------+\n",
            "|release dates        |21819   |0.87            |\n",
            "|color info           |12576   |0.501           |\n",
            "|countries            |12478   |0.497           |\n",
            "|languages            |12281   |0.49            |\n",
            "|genres               |8735    |0.348           |\n",
            "|runtimes             |7626    |0.304           |\n",
            "|tech info            |4825    |0.192           |\n",
            "|sound mix            |4590    |0.183           |\n",
            "|locations            |3759    |0.15            |\n",
            "|plot                 |3014    |0.12            |\n",
            "|certificates         |2144    |0.085           |\n",
            "|trivia               |1329    |0.053           |\n",
            "|budget               |1197    |0.048           |\n",
            "|taglines             |1004    |0.04            |\n",
            "|quotes               |883     |0.035           |\n",
            "|copyright holder     |602     |0.024           |\n",
            "|goofs                |441     |0.018           |\n",
            "|filming dates        |393     |0.016           |\n",
            "|printed media reviews|279     |0.011           |\n",
            "|gross                |179     |0.007           |\n",
            "+---------------------+--------+----------------+\n",
            "only showing top 20 rows\n",
            "\n"
          ],
          "name": "stdout"
        }
      ]
    },
    {
      "cell_type": "markdown",
      "metadata": {
        "id": "2ZBGYTNBrC45",
        "colab_type": "text"
      },
      "source": [
        "Qu'est ce que 'color info'?"
      ]
    },
    {
      "cell_type": "code",
      "metadata": {
        "id": "458v4vhdrCN6",
        "colab_type": "code",
        "colab": {
          "base_uri": "https://localhost:8080/",
          "height": 139
        },
        "outputId": "24a215b3-cca0-4a15-b960-3b6c5b638f22"
      },
      "source": [
        "spark.sql(\"\"\"SELECT DISTINCT Movie_info.info\n",
        "          FROM Movie_info\n",
        "          JOIN Info_type ON Movie_info.info_type_id = Info_type.id\n",
        "          WHERE Info_type.info = 'color info'\n",
        "          \"\"\").show(truncate = False)"
      ],
      "execution_count": 24,
      "outputs": [
        {
          "output_type": "stream",
          "text": [
            "+---------------+\n",
            "|info           |\n",
            "+---------------+\n",
            "|Black and White|\n",
            "|Color          |\n",
            "+---------------+\n",
            "\n"
          ],
          "name": "stdout"
        }
      ]
    },
    {
      "cell_type": "markdown",
      "metadata": {
        "id": "iBIDBtjnrIzi",
        "colab_type": "text"
      },
      "source": [
        "#### Analyse des durées des films"
      ]
    },
    {
      "cell_type": "code",
      "metadata": {
        "id": "9mTtgdu2rM7e",
        "colab_type": "code",
        "colab": {
          "base_uri": "https://localhost:8080/",
          "height": 469
        },
        "outputId": "c6642a1a-8e4d-4c53-b2c0-8a6234550568"
      },
      "source": [
        "runtimes = spark.sql(\"\"\"SELECT Movie_info.info\n",
        "          FROM Movie_info\n",
        "          JOIN Info_type ON Movie_info.info_type_id = Info_type.id\n",
        "          WHERE Info_type.info = 'runtimes'\n",
        "          \"\"\")\n",
        "runtimes.show()\n",
        "t_runtimes = runtimes.collect()"
      ],
      "execution_count": 25,
      "outputs": [
        {
          "output_type": "stream",
          "text": [
            "+------------+\n",
            "|        info|\n",
            "+------------+\n",
            "|          90|\n",
            "|         110|\n",
            "|         113|\n",
            "|      USA:60|\n",
            "|  Germany:44|\n",
            "|          45|\n",
            "|          15|\n",
            "|          42|\n",
            "|          50|\n",
            "|     USA:220|\n",
            "|          45|\n",
            "|          30|\n",
            "|   Russia:44|\n",
            "|          15|\n",
            "|          25|\n",
            "|          30|\n",
            "|          60|\n",
            "|Argentina:90|\n",
            "|      USA:41|\n",
            "|          60|\n",
            "+------------+\n",
            "only showing top 20 rows\n",
            "\n"
          ],
          "name": "stdout"
        }
      ]
    },
    {
      "cell_type": "code",
      "metadata": {
        "id": "vwTK-OwyrTSM",
        "colab_type": "code",
        "colab": {
          "base_uri": "https://localhost:8080/",
          "height": 295
        },
        "outputId": "33996f89-f505-4421-c30c-478dbbb3e13b"
      },
      "source": [
        "tabRuntimes = [float(re.split(',| |\"',x.info.split(':')[-1])[0]) for x in t_runtimes]\n",
        "tabRuntimes.sort()\n",
        "plt.hist(tabRuntimes[:-20], bins=30) \n",
        "plt.xlabel('Durée')\n",
        "plt.ylabel('nb films')\n",
        "plt.title('Nombre de films par durée')\n",
        "plt.show()"
      ],
      "execution_count": 26,
      "outputs": [
        {
          "output_type": "display_data",
          "data": {
            "image/png": "[encoded data removed]",
            "text/plain": [
              "<Figure size 432x288 with 1 Axes>"
            ]
          },
          "metadata": {
            "tags": []
          }
        }
      ]
    },
    {
      "cell_type": "markdown",
      "metadata": {
        "id": "U6yLaFObrjdM",
        "colab_type": "text"
      },
      "source": [
        "## TP2: requêtes avec rollup et cube"
      ]
    },
    {
      "cell_type": "markdown",
      "metadata": {
        "id": "mUuemiEjrvIZ",
        "colab_type": "text"
      },
      "source": [
        "### Dates de naissance des personnes - ROLLUP"
      ]
    },
    {
      "cell_type": "markdown",
      "metadata": {
        "id": "n_HgAtyXsh1P",
        "colab_type": "text"
      },
      "source": [
        "#### Traitement préliminaire des données"
      ]
    },
    {
      "cell_type": "code",
      "metadata": {
        "id": "Vw0x64AMrx-1",
        "colab_type": "code",
        "colab": {
          "base_uri": "https://localhost:8080/",
          "height": 208
        },
        "outputId": "cf3c19c4-bf75-49a5-d348-d75ffceefc74"
      },
      "source": [
        "birth = spark.sql(\"\"\"\n",
        "select  n.name, p.info\n",
        "from Name n, Person_info p, Info_type i\n",
        "where n.id = p.person_id and p.info_type_id = i.id\n",
        "and i.info = 'birth date'\n",
        "\"\"\")\n",
        "birth.show(5,False)"
      ],
      "execution_count": 27,
      "outputs": [
        {
          "output_type": "stream",
          "text": [
            "+------------------+-----------------+\n",
            "|name              |info             |\n",
            "+------------------+-----------------+\n",
            "|5, Johnny         |7 September 1984 |\n",
            "|50 Cent           |6 July 1975      |\n",
            "|Aaker, Lee        |25 September 1943|\n",
            "|Aames, Willie     |15 July 1960     |\n",
            "|Abatantuono, Diego|20 May 1955      |\n",
            "+------------------+-----------------+\n",
            "only showing top 5 rows\n",
            "\n"
          ],
          "name": "stdout"
        }
      ]
    },
    {
      "cell_type": "markdown",
      "metadata": {
        "id": "j2w6zFnor8HJ",
        "colab_type": "text"
      },
      "source": [
        "On sépare les dates de naissance en liste [jour, mois, année] :"
      ]
    },
    {
      "cell_type": "code",
      "metadata": {
        "id": "khTTC3aXsCbo",
        "colab_type": "code",
        "colab": {
          "base_uri": "https://localhost:8080/",
          "height": 208
        },
        "outputId": "1d4c22e0-8ec8-4620-bf92-b3d23cb806b1"
      },
      "source": [
        "birthTab = spark.sql(\"\"\"\n",
        "select  n.name, split(p.info, ' ') as birth_date\n",
        "from Name n, Person_info p, Info_type i\n",
        "where n.id = p.person_id and p.info_type_id = i.id\n",
        "and i.info = 'birth date'\n",
        "\"\"\")\n",
        "birthTab.show(5,False)\n",
        "birthTab.createOrReplaceTempView('birthTab')"
      ],
      "execution_count": 28,
      "outputs": [
        {
          "output_type": "stream",
          "text": [
            "+------------------+---------------------+\n",
            "|name              |birth_date           |\n",
            "+------------------+---------------------+\n",
            "|5, Johnny         |[7, September, 1984] |\n",
            "|50 Cent           |[6, July, 1975]      |\n",
            "|Aaker, Lee        |[25, September, 1943]|\n",
            "|Aames, Willie     |[15, July, 1960]     |\n",
            "|Abatantuono, Diego|[20, May, 1955]      |\n",
            "+------------------+---------------------+\n",
            "only showing top 5 rows\n",
            "\n"
          ],
          "name": "stdout"
        }
      ]
    },
    {
      "cell_type": "markdown",
      "metadata": {
        "id": "ES5Y4ZPgsE2T",
        "colab_type": "text"
      },
      "source": [
        "On sépare dans différentes colonnes"
      ]
    },
    {
      "cell_type": "code",
      "metadata": {
        "id": "NSgUYr2xsHZ3",
        "colab_type": "code",
        "colab": {
          "base_uri": "https://localhost:8080/",
          "height": 312
        },
        "outputId": "c205b481-0b2f-40b8-e0f3-000959123fa8"
      },
      "source": [
        "birthDayMonthYear = spark.sql(\"\"\"\n",
        "select  name, concat_ws('', substring(element_at(birth_date, size(birth_date)), 0, 3), \"0's\") as decade,\n",
        "            trim(element_at(birth_date, size(birth_date))) as year, \n",
        "            trim(element_at(birth_date, size(birth_date)-1)) as month,\n",
        "            trim(element_at(birth_date, size(birth_date)-2)) as day\n",
        "from birthTab\n",
        "where size(birth_date) >=3\n",
        "\"\"\")\n",
        "birthDayMonthYear.createOrReplaceTempView('birthDayMonthYear')\n",
        "\n",
        "print(birthDayMonthYear.count())\n",
        "birthDayMonthYear.show(10,False)"
      ],
      "execution_count": 29,
      "outputs": [
        {
          "output_type": "stream",
          "text": [
            "67225\n",
            "+------------------+------+----+---------+---+\n",
            "|name              |decade|year|month    |day|\n",
            "+------------------+------+----+---------+---+\n",
            "|5, Johnny         |1980's|1984|September|7  |\n",
            "|50 Cent           |1970's|1975|July     |6  |\n",
            "|Aaker, Lee        |1940's|1943|September|25 |\n",
            "|Aames, Willie     |1960's|1960|July     |15 |\n",
            "|Abatantuono, Diego|1950's|1955|May      |20 |\n",
            "|Abbas, Abdullah   |1900's|1906|November |15 |\n",
            "|Abbas, Zaheer     |1940's|1947|July     |24 |\n",
            "|Abbott, Bud       |1890's|1895|October  |2  |\n",
            "|Abbott, Fredric   |1920's|1928|October  |16 |\n",
            "|Abbott, Philip    |1920's|1923|March    |21 |\n",
            "+------------------+------+----+---------+---+\n",
            "only showing top 10 rows\n",
            "\n"
          ],
          "name": "stdout"
        }
      ]
    },
    {
      "cell_type": "markdown",
      "metadata": {
        "id": "tVciDAEusVNa",
        "colab_type": "text"
      },
      "source": [
        "On remarque que les mois sont codés avec leur nom. Pour les afficher dans l'ordre, on les recodes avec leur numéro."
      ]
    },
    {
      "cell_type": "code",
      "metadata": {
        "id": "rIW2MvyZsLiW",
        "colab_type": "code",
        "colab": {
          "base_uri": "https://localhost:8080/",
          "height": 312
        },
        "outputId": "f6307420-d7f6-403d-9d77-4d1b9b3e1695"
      },
      "source": [
        "from pyspark import SparkContext\n",
        "sc =SparkContext.getOrCreate()\n",
        "newJson = '[{\"Month\":\"January\",\"Number\":\"01\"}, \\\n",
        "{\"Month\":\"February\",\"Number\":\"02\"}, \\\n",
        "{\"Month\":\"March\",\"Number\":\"03\"}, \\\n",
        "{\"Month\":\"April\",\"Number\":\"04\"}, \\\n",
        "{\"Month\":\"May\",\"Number\":\"05\"}, \\\n",
        "{\"Month\":\"June\",\"Number\":\"06\"}, \\\n",
        "{\"Month\":\"July\",\"Number\":\"07\"}, \\\n",
        "{\"Month\":\"August\",\"Number\":\"08\"}, \\\n",
        "{\"Month\":\"September\",\"Number\":\"09\"}, \\\n",
        "{\"Month\":\"October\",\"Number\":\"10\"}, \\\n",
        "{\"Month\":\"November\",\"Number\":\"11\"}, \\\n",
        "{\"Month\":\"December\",\"Number\":\"12\"}]'\n",
        "month2number = spark.read.json(sc.parallelize([newJson]))\n",
        "month2number.createOrReplaceTempView('month2number')\n",
        "month2number.show(truncate=False)"
      ],
      "execution_count": 30,
      "outputs": [
        {
          "output_type": "stream",
          "text": [
            "+---------+------+\n",
            "|Month    |Number|\n",
            "+---------+------+\n",
            "|January  |01    |\n",
            "|February |02    |\n",
            "|March    |03    |\n",
            "|April    |04    |\n",
            "|May      |05    |\n",
            "|June     |06    |\n",
            "|July     |07    |\n",
            "|August   |08    |\n",
            "|September|09    |\n",
            "|October  |10    |\n",
            "|November |11    |\n",
            "|December |12    |\n",
            "+---------+------+\n",
            "\n"
          ],
          "name": "stdout"
        }
      ]
    },
    {
      "cell_type": "markdown",
      "metadata": {
        "id": "K6CXXTCmslN0",
        "colab_type": "text"
      },
      "source": [
        "#### ROLLUP"
      ]
    },
    {
      "cell_type": "code",
      "metadata": {
        "id": "h307OkAKscpO",
        "colab_type": "code",
        "colab": {
          "base_uri": "https://localhost:8080/",
          "height": 486
        },
        "outputId": "23f0cc3c-3f96-48f7-9811-501e666570f3"
      },
      "source": [
        "r = spark.sql(\"\"\"\n",
        "select  decade, year, month2number.Number as num_month, count(*) as nb\n",
        "from birthDayMonthYear b, month2number\n",
        "where b.month = month2number.Month\n",
        "and year >= 1900 and year < 2000\n",
        "group by ROLLUP (decade, year, num_month)\n",
        "order by decade, year, num_month\n",
        "\"\"\")\n",
        "print(r.count())\n",
        "r.show()"
      ],
      "execution_count": 31,
      "outputs": [
        {
          "output_type": "stream",
          "text": [
            "1310\n",
            "+------+----+---------+-----+\n",
            "|decade|year|num_month|   nb|\n",
            "+------+----+---------+-----+\n",
            "|  null|null|     null|61626|\n",
            "|1900's|null|     null| 3282|\n",
            "|1900's|1900|     null|  280|\n",
            "|1900's|1900|       01|   28|\n",
            "|1900's|1900|       02|   22|\n",
            "|1900's|1900|       03|   26|\n",
            "|1900's|1900|       04|   20|\n",
            "|1900's|1900|       05|   21|\n",
            "|1900's|1900|       06|   19|\n",
            "|1900's|1900|       07|   19|\n",
            "|1900's|1900|       08|   25|\n",
            "|1900's|1900|       09|   28|\n",
            "|1900's|1900|       10|   27|\n",
            "|1900's|1900|       11|   25|\n",
            "|1900's|1900|       12|   20|\n",
            "|1900's|1901|     null|  296|\n",
            "|1900's|1901|       01|   32|\n",
            "|1900's|1901|       02|   28|\n",
            "|1900's|1901|       03|   22|\n",
            "|1900's|1901|       04|   19|\n",
            "+------+----+---------+-----+\n",
            "only showing top 20 rows\n",
            "\n"
          ],
          "name": "stdout"
        }
      ]
    },
    {
      "cell_type": "markdown",
      "metadata": {
        "id": "oWOT97rYspAX",
        "colab_type": "text"
      },
      "source": [
        "#### Nombre de personnes nées chaque année"
      ]
    },
    {
      "cell_type": "code",
      "metadata": {
        "id": "UFimAPFEsviP",
        "colab_type": "code",
        "colab": {
          "base_uri": "https://localhost:8080/",
          "height": 486
        },
        "outputId": "ee2bf4c5-34a9-41d4-ffe1-c8f080012f83"
      },
      "source": [
        "r = spark.sql(\"\"\"\n",
        "select  year, count(*) as nb\n",
        "from birthDayMonthYear b\n",
        "where year >= 1900 and year < 2000\n",
        "group by year\n",
        "order by year\n",
        "\"\"\")\n",
        "print(r.count())\n",
        "r.show()\n",
        "birth_years = r.collect()"
      ],
      "execution_count": 32,
      "outputs": [
        {
          "output_type": "stream",
          "text": [
            "100\n",
            "+----+---+\n",
            "|year| nb|\n",
            "+----+---+\n",
            "|1900|280|\n",
            "|1901|296|\n",
            "|1902|293|\n",
            "|1903|326|\n",
            "|1904|342|\n",
            "|1905|341|\n",
            "|1906|321|\n",
            "|1907|341|\n",
            "|1908|385|\n",
            "|1909|357|\n",
            "|1910|383|\n",
            "|1911|377|\n",
            "|1912|382|\n",
            "|1913|399|\n",
            "|1914|420|\n",
            "|1915|401|\n",
            "|1916|397|\n",
            "|1917|367|\n",
            "|1918|437|\n",
            "|1919|436|\n",
            "+----+---+\n",
            "only showing top 20 rows\n",
            "\n"
          ],
          "name": "stdout"
        }
      ]
    },
    {
      "cell_type": "code",
      "metadata": {
        "id": "PDAaTQ2bsyFc",
        "colab_type": "code",
        "colab": {
          "base_uri": "https://localhost:8080/",
          "height": 269
        },
        "outputId": "4a3b5272-4af8-4270-a100-eac86aad64db"
      },
      "source": [
        "plt.plot([int(x.year) for x in birth_years], [x.nb for x in birth_years])\n",
        "plt.show()"
      ],
      "execution_count": 33,
      "outputs": [
        {
          "output_type": "display_data",
          "data": {
            "image/png": "[encoded data removed]",
            "text/plain": [
              "<Figure size 432x288 with 1 Axes>"
            ]
          },
          "metadata": {
            "tags": []
          }
        }
      ]
    },
    {
      "cell_type": "markdown",
      "metadata": {
        "id": "d37xj88Xs1Nu",
        "colab_type": "text"
      },
      "source": [
        "### Budget en fonction du type, production year, size of cast - CUBE"
      ]
    },
    {
      "cell_type": "code",
      "metadata": {
        "id": "lEvFQIAWs0jT",
        "colab_type": "code",
        "colab": {
          "base_uri": "https://localhost:8080/",
          "height": 312
        },
        "outputId": "710dfa0b-1f7d-4fb6-d00e-7c9bb7d332b5"
      },
      "source": [
        "budget = spark.sql(\"\"\"\n",
        "\n",
        "select t.id, k.kind, concat(pow(10, floor(log10(count(c.id)))), '-', pow(10, 1+floor(log10(count(c.id))))) size_of_cast, t.production_year, cast(replace(regexp_extract(m.info, '([0-9,]+)', 1), ',' '') as int) as budget\n",
        "from Title t, Kind_Type k, Movie_info m, Info_type i, Cast_Info c\n",
        "where t.kind_id = k.id and t.id = m.movie_id and m.info_type_id = i.id and t.id = c.movie_id\n",
        "and i.info = 'budget'\n",
        "group by t.id, k.kind, t.production_year, m.info\n",
        "order by budget DESC\n",
        "\"\"\")\n",
        "budget.createOrReplaceTempView('budget')\n",
        "\n",
        "budget.show(10)\n",
        "budget.count() #1192"
      ],
      "execution_count": 34,
      "outputs": [
        {
          "output_type": "stream",
          "text": [
            "+-------+---------+------------+---------------+---------+\n",
            "|     id|     kind|size_of_cast|production_year|   budget|\n",
            "+-------+---------+------------+---------------+---------+\n",
            "| 237637|tv series|  10.0-100.0|           1979|300000000|\n",
            "|2510177|    movie|  10.0-100.0|           2001|160000000|\n",
            "|2457994|    movie|  10.0-100.0|           2011|150000000|\n",
            "|2418323|    movie|100.0-1000.0|           2009|100000000|\n",
            "|1974061|    movie|  10.0-100.0|           1997|100000000|\n",
            "|1635380|    movie|100.0-1000.0|           2000| 85000000|\n",
            "|2117152|    movie|  10.0-100.0|           2013| 80000000|\n",
            "|2436413|    movie|  10.0-100.0|           2012| 80000000|\n",
            "|1705432|    movie|    1.0-10.0|           2013| 75000000|\n",
            "|2409929|    movie|100.0-1000.0|           1997| 68000000|\n",
            "+-------+---------+------------+---------------+---------+\n",
            "only showing top 10 rows\n",
            "\n"
          ],
          "name": "stdout"
        },
        {
          "output_type": "execute_result",
          "data": {
            "text/plain": [
              "1192"
            ]
          },
          "metadata": {
            "tags": []
          },
          "execution_count": 34
        }
      ]
    },
    {
      "cell_type": "code",
      "metadata": {
        "id": "lIMe_Emts7dB",
        "colab_type": "code",
        "colab": {
          "base_uri": "https://localhost:8080/",
          "height": 990
        },
        "outputId": "e3dc5768-7766-432d-9c49-9a1bff73d5f4"
      },
      "source": [
        "budgetByMovieType_MovieSize_ProductionYear = spark.sql(\"\"\"\n",
        "\n",
        "select concat(substring(b.production_year, 0, 3), \"0's\") as decade, kind, size_of_cast, count(*) as nbMovies,\n",
        "      round(avg(budget),0) as avgBudget\n",
        "from Budget b\n",
        "where b.production_year > 1950\n",
        "group by CUBE(decade, kind, size_of_cast)\n",
        "order by decade, kind, size_of_cast \n",
        "\"\"\")\n",
        "\n",
        "\n",
        "budgetByMovieType_MovieSize_ProductionYear.show(50)"
      ],
      "execution_count": 35,
      "outputs": [
        {
          "output_type": "stream",
          "text": [
            "+------+-----------+------------+--------+-----------+\n",
            "|decade|       kind|size_of_cast|nbMovies|  avgBudget|\n",
            "+------+-----------+------------+--------+-----------+\n",
            "|  null|       null|        null|    1175|  2549630.0|\n",
            "|  null|       null|    1.0-10.0|     427|  1144899.0|\n",
            "|  null|       null|  10.0-100.0|     718|  2651119.0|\n",
            "|  null|       null|100.0-1000.0|      30|2.0114667E7|\n",
            "|  null|    episode|        null|      10|  2263000.0|\n",
            "|  null|    episode|    1.0-10.0|       3|    90000.0|\n",
            "|  null|    episode|  10.0-100.0|       7|  3194286.0|\n",
            "|  null|      movie|        null|     914|  2577977.0|\n",
            "|  null|      movie|    1.0-10.0|     298|  1009523.0|\n",
            "|  null|      movie|  10.0-100.0|     589|  2467051.0|\n",
            "|  null|      movie|100.0-1000.0|      27|2.2308889E7|\n",
            "|  null|   tv movie|        null|      67|   559858.0|\n",
            "|  null|   tv movie|    1.0-10.0|      35|   336400.0|\n",
            "|  null|   tv movie|  10.0-100.0|      31|   809242.0|\n",
            "|  null|   tv movie|100.0-1000.0|       1|   650000.0|\n",
            "|  null|  tv series|        null|      79|  6972884.0|\n",
            "|  null|  tv series|    1.0-10.0|      52|  3069744.0|\n",
            "|  null|  tv series|  10.0-100.0|      26| 1.503966E7|\n",
            "|  null|  tv series|100.0-1000.0|       1|   200000.0|\n",
            "|  null| video game|        null|       5|  1308000.0|\n",
            "|  null| video game|    1.0-10.0|       5|  1308000.0|\n",
            "|  null|video movie|        null|     100|   220062.0|\n",
            "|  null|video movie|    1.0-10.0|      34|   288921.0|\n",
            "|  null|video movie|  10.0-100.0|      65|   183582.0|\n",
            "|  null|video movie|100.0-1000.0|       1|   250000.0|\n",
            "|1950's|       null|        null|       2|   960000.0|\n",
            "|1950's|       null|  10.0-100.0|       1|   240000.0|\n",
            "|1950's|       null|100.0-1000.0|       1|  1680000.0|\n",
            "|1950's|      movie|        null|       2|   960000.0|\n",
            "|1950's|      movie|  10.0-100.0|       1|   240000.0|\n",
            "|1950's|      movie|100.0-1000.0|       1|  1680000.0|\n",
            "|1960's|       null|        null|       7|  1583857.0|\n",
            "|1960's|       null|    1.0-10.0|       2|   132500.0|\n",
            "|1960's|       null|  10.0-100.0|       5|  2164400.0|\n",
            "|1960's|      movie|        null|       6|  1806167.0|\n",
            "|1960's|      movie|    1.0-10.0|       1|    15000.0|\n",
            "|1960's|      movie|  10.0-100.0|       5|  2164400.0|\n",
            "|1960's|  tv series|        null|       1|   250000.0|\n",
            "|1960's|  tv series|    1.0-10.0|       1|   250000.0|\n",
            "|1970's|       null|        null|      32|1.1134227E7|\n",
            "|1970's|       null|    1.0-10.0|      12|    44729.0|\n",
            "|1970's|       null|  10.0-100.0|      20|1.7787925E7|\n",
            "|1970's|      movie|        null|      29|  1930250.0|\n",
            "|1970's|      movie|    1.0-10.0|      10|    21875.0|\n",
            "|1970's|      movie|  10.0-100.0|      19|  2934658.0|\n",
            "|1970's|   tv movie|        null|       1|   168000.0|\n",
            "|1970's|   tv movie|    1.0-10.0|       1|   168000.0|\n",
            "|1970's|  tv series|        null|       2|  1.50075E8|\n",
            "|1970's|  tv series|    1.0-10.0|       1|   150000.0|\n",
            "|1970's|  tv series|  10.0-100.0|       1|      3.0E8|\n",
            "+------+-----------+------------+--------+-----------+\n",
            "only showing top 50 rows\n",
            "\n"
          ],
          "name": "stdout"
        }
      ]
    },
    {
      "cell_type": "markdown",
      "metadata": {
        "id": "pfGUfG_RQ--H",
        "colab_type": "text"
      },
      "source": [
        "## TP 3 : Requêtes avec fenêtre"
      ]
    },
    {
      "cell_type": "markdown",
      "metadata": {
        "id": "o7tLxShLoY_F",
        "colab_type": "text"
      },
      "source": [
        "### Evolution du budget moyen par genre de film"
      ]
    },
    {
      "cell_type": "markdown",
      "metadata": {
        "id": "Rbuz34Mooejo",
        "colab_type": "text"
      },
      "source": [
        "Définition de la table de base"
      ]
    },
    {
      "cell_type": "code",
      "metadata": {
        "id": "FiSyZ9uGd7uw",
        "colab_type": "code",
        "outputId": "3d5f415a-0053-4809-e573-22dcb0413385",
        "colab": {
          "base_uri": "https://localhost:8080/",
          "height": 312
        }
      },
      "source": [
        "budget = spark.sql(\"\"\"\n",
        "\n",
        "select t.id, t.production_year, cast(replace(regexp_extract(m.info, '([0-9,]+)', 1), ',' '') as int) as budget\n",
        "from Title t, Kind_Type k, Movie_info m, Info_type i, Cast_Info c\n",
        "where t.kind_id = k.id and t.id = m.movie_id and m.info_type_id = i.id and t.id = c.movie_id\n",
        "and i.info = 'budget'\n",
        "group by t.id, k.kind, t.production_year, m.info\n",
        "order by budget DESC\n",
        "\"\"\")\n",
        "budget.createOrReplaceTempView('budget')\n",
        "\n",
        "budget.show(10)\n",
        "budget.count() #1192"
      ],
      "execution_count": 36,
      "outputs": [
        {
          "output_type": "stream",
          "text": [
            "+-------+---------------+---------+\n",
            "|     id|production_year|   budget|\n",
            "+-------+---------------+---------+\n",
            "| 237637|           1979|300000000|\n",
            "|2510177|           2001|160000000|\n",
            "|2457994|           2011|150000000|\n",
            "|2418323|           2009|100000000|\n",
            "|1974061|           1997|100000000|\n",
            "|1635380|           2000| 85000000|\n",
            "|2117152|           2013| 80000000|\n",
            "|2436413|           2012| 80000000|\n",
            "|1705432|           2013| 75000000|\n",
            "|2409929|           1997| 68000000|\n",
            "+-------+---------------+---------+\n",
            "only showing top 10 rows\n",
            "\n"
          ],
          "name": "stdout"
        },
        {
          "output_type": "execute_result",
          "data": {
            "text/plain": [
              "1192"
            ]
          },
          "metadata": {
            "tags": []
          },
          "execution_count": 36
        }
      ]
    },
    {
      "cell_type": "code",
      "metadata": {
        "id": "dW59eHBl3iNY",
        "colab_type": "code",
        "outputId": "b5666f43-300b-4a9f-c2b5-1ebca77eb291",
        "colab": {
          "base_uri": "https://localhost:8080/",
          "height": 469
        }
      },
      "source": [
        "r = spark.sql(\"\"\"\n",
        "select t.production_year, SUM(b.budget) as budget_total, m.info as genre, count(DISTINCT t.id) as nb_films\n",
        "  from  Title t, Movie_info m, Info_type i, budget b\n",
        "  where t.id = m.movie_id and m.info_type_id = i.id and t.id = b.id and t.production_year > 1930\n",
        "  and i.info = 'genres'\n",
        "  group by t.production_year, genre\n",
        "  order by production_year\n",
        "\"\"\")\n",
        "r.createOrReplaceTempView('budgetPerYearGenre')\n",
        "r.show()"
      ],
      "execution_count": 37,
      "outputs": [
        {
          "output_type": "stream",
          "text": [
            "+---------------+------------+--------+--------+\n",
            "|production_year|budget_total|   genre|nb_films|\n",
            "+---------------+------------+--------+--------+\n",
            "|           1931|      502000|   Drama|       1|\n",
            "|           1931|      502000|  Comedy|       1|\n",
            "|           1931|      502000| Romance|       1|\n",
            "|           1932|      408000|   Drama|       1|\n",
            "|           1933|      421496|  Comedy|       1|\n",
            "|           1933|      421496|   Drama|       1|\n",
            "|           1944|       75000|   Crime|       1|\n",
            "|           1944|       75000|  Horror|       1|\n",
            "|           1944|       75000|Thriller|       1|\n",
            "|           1944|       75000|   Drama|       1|\n",
            "|           1944|       75000| Mystery|       1|\n",
            "|           1944|       75000|  Comedy|       1|\n",
            "|           1945|     3500000|  Comedy|       1|\n",
            "|           1945|     3500000| Romance|       1|\n",
            "|           1945|     3500000|   Drama|       1|\n",
            "|           1949|     2600000| Romance|       1|\n",
            "|           1949|       10000|   Music|       1|\n",
            "|           1949|     3100000|   Drama|       2|\n",
            "|           1949|       10000|   Short|       1|\n",
            "|           1958|     1680000| History|       1|\n",
            "+---------------+------------+--------+--------+\n",
            "only showing top 20 rows\n",
            "\n"
          ],
          "name": "stdout"
        }
      ]
    },
    {
      "cell_type": "markdown",
      "metadata": {
        "id": "rqeFTFkWpD4A",
        "colab_type": "text"
      },
      "source": [
        "#### Les années et les genres avec le plus grand budget"
      ]
    },
    {
      "cell_type": "markdown",
      "metadata": {
        "id": "tiJT_UEypJCT",
        "colab_type": "text"
      },
      "source": [
        "Le gagnant est le genre biographique en 1979 avec un seul film !"
      ]
    },
    {
      "cell_type": "code",
      "metadata": {
        "id": "y26D0SdAMzl6",
        "colab_type": "code",
        "outputId": "41bc9e60-e12f-4ee6-bd23-19b5693f839c",
        "colab": {
          "base_uri": "https://localhost:8080/",
          "height": 469
        }
      },
      "source": [
        "r = spark.sql(\"\"\"\n",
        "select b.*, rank() over (order by budget_total desc) as classement\n",
        "from budgetPerYearGenre b\n",
        "where b.production_year > 1920\n",
        "\"\"\")\n",
        "r.show(20)"
      ],
      "execution_count": 38,
      "outputs": [
        {
          "output_type": "stream",
          "text": [
            "+---------------+------------+---------+--------+----------+\n",
            "|production_year|budget_total|    genre|nb_films|classement|\n",
            "+---------------+------------+---------+--------+----------+\n",
            "|           1979|   300000000|Biography|       1|         1|\n",
            "|           2001|   210000000|  Romance|       2|         2|\n",
            "|           1997|   168000000| Thriller|       2|         3|\n",
            "|           2001|   165065500|    Drama|       6|         4|\n",
            "|           2001|   160000000|  Musical|       1|         5|\n",
            "|           2011|   150040000|  Romance|       3|         6|\n",
            "|           2009|   150014800|    Crime|       7|         7|\n",
            "|           2009|   103549000|   Action|       7|         8|\n",
            "|           2009|   103069914|    Drama|      41|         9|\n",
            "|           2009|   101549000| Thriller|       9|        10|\n",
            "|           2000|   101023500|   Comedy|       5|        11|\n",
            "|           2013|   100880000|Adventure|       5|        12|\n",
            "|           2012|    97503110|   Action|       7|        13|\n",
            "|           2012|    93391460|   Comedy|      32|        14|\n",
            "|           2013|    85029000|   Comedy|      13|        15|\n",
            "|           2000|    85000000|Adventure|       1|        16|\n",
            "|           2000|    85000000|   Family|       1|        16|\n",
            "|           2007|    84400600|    Drama|      25|        18|\n",
            "|           2012|    81310110|   Horror|      16|        19|\n",
            "|           1997|    80000000|  Romance|       2|        20|\n",
            "+---------------+------------+---------+--------+----------+\n",
            "only showing top 20 rows\n",
            "\n"
          ],
          "name": "stdout"
        }
      ]
    },
    {
      "cell_type": "markdown",
      "metadata": {
        "id": "DAHwBiq6pPAd",
        "colab_type": "text"
      },
      "source": [
        "On va voir le nom du film : il s'agit de Cinema!!!, un film italien avec un budget de 300 000 000 de lires italiennes (soit environ 500 000 dollars...)"
      ]
    },
    {
      "cell_type": "code",
      "metadata": {
        "id": "ztHdbqe8NnWf",
        "colab_type": "code",
        "outputId": "15a75ad5-1040-4416-f25b-eb15f176364d",
        "colab": {
          "base_uri": "https://localhost:8080/",
          "height": 156
        }
      },
      "source": [
        "r=spark.sql(\"\"\"\n",
        "select t.title, t.production_year, cast(replace(regexp_extract(m.info, '([0-9,]+)', 1), ',' '') as int) as budget\n",
        "from Title t, Movie_info m, Info_type i\n",
        "where t.id = m.movie_id and m.info_type_id = i.id\n",
        "and i.info = 'budget' and t.production_year=='1979'\n",
        "order by budget DESC\n",
        "\"\"\")\n",
        "r.show()"
      ],
      "execution_count": 39,
      "outputs": [
        {
          "output_type": "stream",
          "text": [
            "+--------------------+---------------+---------+\n",
            "|               title|production_year|   budget|\n",
            "+--------------------+---------------+---------+\n",
            "|           Cinema!!!|           1979|300000000|\n",
            "|          L'umanoide|           1979|  7000000|\n",
            "|Freddy Hubbard Li...|           1979|   168000|\n",
            "+--------------------+---------------+---------+\n",
            "\n"
          ],
          "name": "stdout"
        }
      ]
    },
    {
      "cell_type": "markdown",
      "metadata": {
        "id": "75K5kTwjpbZ0",
        "colab_type": "text"
      },
      "source": [
        "#### Les années et les genres avec le plus de films"
      ]
    },
    {
      "cell_type": "code",
      "metadata": {
        "id": "QJ44uQqOPJyV",
        "colab_type": "code",
        "outputId": "7e2b40b7-8255-4f72-a2ae-7171b78ae109",
        "colab": {
          "base_uri": "https://localhost:8080/",
          "height": 469
        }
      },
      "source": [
        "r = spark.sql(\"\"\"\n",
        "select b.*, rank() over (order by nb_films desc) as classement\n",
        "from budgetPerYearGenre b\n",
        "where b.production_year > 1920\n",
        "\"\"\")\n",
        "r.show(20)"
      ],
      "execution_count": 40,
      "outputs": [
        {
          "output_type": "stream",
          "text": [
            "+---------------+------------+------+--------+----------+\n",
            "|production_year|budget_total| genre|nb_films|classement|\n",
            "+---------------+------------+------+--------+----------+\n",
            "|           2009|     2785736| Short|      72|         1|\n",
            "|           2011|     3469545| Short|      72|         1|\n",
            "|           2008|    36184130| Short|      70|         3|\n",
            "|           2012|      762427| Short|      64|         4|\n",
            "|           2010|    35872255| Short|      56|         5|\n",
            "|           2007|     3859850| Short|      50|         6|\n",
            "|           2010|    77327098| Drama|      44|         7|\n",
            "|           2006|     3443299| Short|      43|         8|\n",
            "|           2009|   103069914| Drama|      41|         9|\n",
            "|           2008|    51648830| Drama|      37|        10|\n",
            "|           2005|      452370| Short|      33|        11|\n",
            "|           2011|    75280200| Drama|      33|        11|\n",
            "|           2012|    93391460|Comedy|      32|        13|\n",
            "|           2010|    53857050|Comedy|      31|        14|\n",
            "|           2005|     7961425| Drama|      27|        15|\n",
            "|           2012|    63956756| Drama|      26|        16|\n",
            "|           2007|    84400600| Drama|      25|        17|\n",
            "|           2008|    13319100|Comedy|      25|        17|\n",
            "|           2011|     8252425|Comedy|      25|        17|\n",
            "|           2009|    53308269|Comedy|      23|        20|\n",
            "+---------------+------------+------+--------+----------+\n",
            "only showing top 20 rows\n",
            "\n"
          ],
          "name": "stdout"
        }
      ]
    },
    {
      "cell_type": "markdown",
      "metadata": {
        "id": "isTtJe-nomSY",
        "colab_type": "text"
      },
      "source": [
        "#### Moyennage du budget sur 15 années glissantes et visualisation"
      ]
    },
    {
      "cell_type": "code",
      "metadata": {
        "id": "24rknkyF4FWL",
        "colab_type": "code",
        "outputId": "73aaa823-257d-45ef-ddc9-21933c507a6c",
        "colab": {
          "base_uri": "https://localhost:8080/",
          "height": 469
        }
      },
      "source": [
        "r = spark.sql(\"\"\"\n",
        "select b.*,\n",
        "       0.067*SUM(budget_total) over (partition by genre order by production_year range between 7 preceding and 7 following) as budgetMoyenSur15ans\n",
        "from budgetPerYearGenre b\n",
        "where b.production_year > 1920\n",
        "\"\"\")\n",
        "r.show(20)\n",
        "budgetPerYearGenre = r.collect()"
      ],
      "execution_count": 41,
      "outputs": [
        {
          "output_type": "stream",
          "text": [
            "+---------------+------------+-------+--------+-------------------+\n",
            "|production_year|budget_total|  genre|nb_films|budgetMoyenSur15ans|\n",
            "+---------------+------------+-------+--------+-------------------+\n",
            "|           1944|       75000|  Crime|       1|           5025.000|\n",
            "|           1973|         750|  Crime|       1|           1725.250|\n",
            "|           1974|       25000|  Crime|       1|           1725.250|\n",
            "|           1994|     9100000|  Crime|       1|        1468238.000|\n",
            "|           1995|       11000|  Crime|       1|        1468238.000|\n",
            "|           1996|    12800000|  Crime|       2|        1537248.000|\n",
            "|           2000|        3000|  Crime|       1|        2754336.500|\n",
            "|           2003|     1030000|  Crime|       2|       12609091.800|\n",
            "|           2004|       60000|  Crime|       1|       11761943.800|\n",
            "|           2005|     4350000|  Crime|       4|       12522950.570|\n",
            "|           2006|    13755000|  Crime|       5|       12529885.070|\n",
            "|           2007|         500|  Crime|       1|       12543285.070|\n",
            "|           2008|     6002000|  Crime|       2|       12543084.070|\n",
            "|           2009|   150014800|  Crime|       7|       12543084.070|\n",
            "|           2010|      180100|  Crime|       3|       12543084.070|\n",
            "|           2011|      156000|  Crime|       3|       12474074.070|\n",
            "|           2012|    11358310|  Crime|       7|       12470054.070|\n",
            "|           2013|      103500|  Crime|       2|       12178604.070|\n",
            "|           2014|      200000|  Crime|       1|       11257019.070|\n",
            "|           1978|     4365000|Fantasy|       2|         761455.000|\n",
            "+---------------+------------+-------+--------+-------------------+\n",
            "only showing top 20 rows\n",
            "\n"
          ],
          "name": "stdout"
        }
      ]
    },
    {
      "cell_type": "code",
      "metadata": {
        "id": "PkaWk6f973Na",
        "colab_type": "code",
        "outputId": "8387bf8f-aec7-40e6-bdcb-76664bde6d76",
        "colab": {
          "base_uri": "https://localhost:8080/",
          "height": 607
        }
      },
      "source": [
        "genres = list(set([x.genre for x in budgetPerYearGenre]))\n",
        "plt.figure(figsize=(15, 10))\n",
        "#plt.yscale('log')\n",
        "for genre in genres:\n",
        "  for y in budgetPerYearGenre:\n",
        "    if int(y.production_year) >= 2010 and y.genre == genre and float(y.budgetMoyenSur15ans) >= 1e7:\n",
        "      X = [int(x.production_year) for x in budgetPerYearGenre if x.genre==genre]\n",
        "      Y = [float(x.budgetMoyenSur15ans) for x in budgetPerYearGenre if x.genre==genre]      \n",
        "      plt.plot(X, Y, label=genre)\n",
        "      break\n",
        "plt.legend()\n",
        "plt.title('Budgets lissés sur 15 années glissantes pour les genres principaux en fonction du temps')\n",
        "plt.show()"
      ],
      "execution_count": 42,
      "outputs": [
        {
          "output_type": "display_data",
          "data": {
            "image/png": "[encoded data removed]",
            "text/plain": [
              "<Figure size 1080x720 with 1 Axes>"
            ]
          },
          "metadata": {
            "tags": []
          }
        }
      ]
    },
    {
      "cell_type": "markdown",
      "metadata": {
        "id": "LkOND_R-pnD0",
        "colab_type": "text"
      },
      "source": [
        "### Les délais entre deux notes consécutives"
      ]
    },
    {
      "cell_type": "code",
      "metadata": {
        "id": "vqppWt4m8Mhw",
        "colab_type": "code",
        "outputId": "547eb894-4778-48c2-97bd-f6c3730ce758",
        "colab": {
          "base_uri": "https://localhost:8080/",
          "height": 330
        }
      },
      "source": [
        "userDelaiRating= spark.sql(\"\"\"\n",
        "select r.userId as u, (MAX(timestamp) over (partition by r.userId order by timestamp ROWS  between 1 preceding and current row) - MIN(timestamp) over (partition by r.userId order by timestamp ROWS  between 1 preceding and current row)) as delai, r.rating\n",
        "from Ratings r\n",
        "order by u\n",
        "\"\"\")\n",
        "userDelaiRating.show(12)\n",
        "userDelaiRating.createOrReplaceTempView('userDelaiRating')\n",
        "user_delai_rating = userDelaiRating.collect()"
      ],
      "execution_count": 43,
      "outputs": [
        {
          "output_type": "stream",
          "text": [
            "+---+-----+------+\n",
            "|  u|delai|rating|\n",
            "+---+-----+------+\n",
            "|  1|    3|   3.0|\n",
            "|  1|    4|   4.0|\n",
            "|  1|   28|   3.0|\n",
            "|  1|    4|   3.0|\n",
            "|  1|    4|   2.5|\n",
            "|  1|    4|   2.0|\n",
            "|  1|    3|   2.0|\n",
            "|  1|    0|   2.0|\n",
            "|  1|    5|   2.5|\n",
            "|  1|    8|   3.5|\n",
            "|  1|    6|   2.0|\n",
            "|  1|    5|   2.5|\n",
            "+---+-----+------+\n",
            "only showing top 12 rows\n",
            "\n"
          ],
          "name": "stdout"
        }
      ]
    },
    {
      "cell_type": "code",
      "metadata": {
        "id": "oyeeKMhEDhub",
        "colab_type": "code",
        "outputId": "6ce287d0-38f7-4c48-f47a-b91eec340d9d",
        "colab": {
          "base_uri": "https://localhost:8080/",
          "height": 390
        }
      },
      "source": [
        "plt.figure(figsize=(10, 6))\n",
        "plt.yscale('log')\n",
        "plt.ylim([5e-1, 1e4])\n",
        "plt.boxplot([[int(x.delai) for x in user_delai_rating if (float(x.rating)==r and int(x.delai) > 0)] for r in np.arange(0.5, 5.5, 0.5)], positions=np.arange(0.5, 5.5, 0.5), widths=0.3)\n",
        "plt.title('Répartition du délai précédent une évaluation, en fonction de la note attribuée')\n",
        "plt.show()"
      ],
      "execution_count": 44,
      "outputs": [
        {
          "output_type": "display_data",
          "data": {
            "image/png": "[encoded data removed]",
            "text/plain": [
              "<Figure size 720x432 with 1 Axes>"
            ]
          },
          "metadata": {
            "tags": []
          }
        }
      ]
    },
    {
      "cell_type": "code",
      "metadata": {
        "id": "XIN-hVc-JQsF",
        "colab_type": "code",
        "colab": {}
      },
      "source": [
        ""
      ],
      "execution_count": 0,
      "outputs": []
    }
  ]
}