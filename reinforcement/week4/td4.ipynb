{
 "cells": [
  {
   "cell_type": "markdown",
   "metadata": {},
   "source": [
    "## Reinforcement learning - TME 4 - DQN"
   ]
  },
  {
   "cell_type": "markdown",
   "metadata": {},
   "source": [
    "L'objectif du TME est d'implémenter les algorithmes de renforcement value-based étudiés en cours (Q-learning et ses variantes) et de les tester dans un framework classique (gym de open-ai, MDP GridWorld)."
   ]
  },
  {
   "cell_type": "code",
   "execution_count": 1,
   "metadata": {},
   "outputs": [],
   "source": [
    "from matplotlib import pyplot as plt\n",
    "\n",
    "import gym\n",
    "import gridworld\n",
    "from gym import wrappers, logger\n",
    "import numpy as np\n",
    "import copy\n",
    "import torch\n",
    "from torch import nn"
   ]
  },
  {
   "cell_type": "markdown",
   "metadata": {},
   "source": [
    "### Implémentation des algorithmes "
   ]
  },
  {
   "cell_type": "code",
   "execution_count": 2,
   "metadata": {},
   "outputs": [],
   "source": [
    "class RandomAgent(object):\n",
    "    \"\"\"The world's simplest agent!\"\"\"\n",
    "\n",
    "    def __init__(self, action_space):\n",
    "        self.action_space = action_space\n",
    "\n",
    "    def act(self, observation, reward, done):\n",
    "        return np.random.choice([0, 1])\n",
    "    \n",
    "    def learn(self, observation, reward, done):\n",
    "        return"
   ]
  },
  {
   "cell_type": "code",
   "execution_count": 3,
   "metadata": {},
   "outputs": [],
   "source": [
    "class NN(nn.Module):\n",
    "    def __init__(self, inSize, outSize, layers=[]):\n",
    "        super(NN, self).__init__()\n",
    "        self.layers = nn.ModuleList([])\n",
    "        for x in layers:\n",
    "            self.layers.append(nn.Linear(inSize, x))\n",
    "            inSize = x\n",
    "        self.layers.append(nn.Linear(inSize, outSize))\n",
    "        \n",
    "    def forward(self, x):\n",
    "        x = self.layers[0](x)\n",
    "        for i in range(1, len(self.layers)):\n",
    "            x = torch.nn.functional.leaky_relu(x)\n",
    "            x = self.layers[i](x)\n",
    "        return x"
   ]
  },
  {
   "cell_type": "markdown",
   "metadata": {},
   "source": [
    "Paramètres CartPole\n",
    "\n",
    "epsilon=0.01, epsilonDecay=0.99999\n",
    "gamma=0.999\n",
    "btachSize=100, capacity=100000\n",
    "ctarget=100\n",
    "layers=[200]\n",
    "lr=0.001\n",
    "\n",
    "LunarLander (convergence après environ 10000 episodes):\n",
    "epsilon=0.1, epsilonDecay=0.99999\n",
    "gamma=0.99\n",
    "btachSize=1, capacity=1\n",
    "ctarget=1000\n",
    "layers=[200]\n",
    "lr=0.0001\n",
    "\n",
    "  Pour Gridworld  (convergence après environ 2000 episodes sur plan0 avec rewards={0:-0.001,3:1,4:1,5:-1,6:-1}):\n",
    "epsilon=0.1, epsilonDecay=0.9999 (epsilon multiplié par epsilonDecay à chaque passage dans act)\n",
    "gamma=0.99\n",
    "batchSize=10, capacity=1000000\n",
    "ctarget=1000 (fréquence de mise à jour du réseau cible)\n",
    "layers=[30,30]\n",
    "lr=0.0001 (learning rate)"
   ]
  },
  {
   "cell_type": "code",
   "execution_count": 4,
   "metadata": {},
   "outputs": [],
   "source": [
    "class DQN(object):\n",
    "    \"\"\"Implementing a DQN learning agent\"\"\"\n",
    "\n",
    "    def __init__(self, env, params):\n",
    "        self.env = env\n",
    "        self.N = params['N']\n",
    "        self.D = torch.zeros((self.N, 4 + 1 + 1 + 4 + 1))\n",
    "        self.C = params['C']\n",
    "        self.batch = params['batch']\n",
    "        self.Q = NN(5, 1, params['layers'])\n",
    "        self.Qhat = NN(5, 1, params['layers'])\n",
    "        self.eps = params['eps']\n",
    "        self.epsDecay = params['epsDecay']\n",
    "        self.state = None\n",
    "        self.step = -1\n",
    "        self.gamma = params['gamma']\n",
    "        self.loss = torch.nn.SmoothL1Loss()\n",
    "        self.optim = torch.optim.Adam(params=self.Q.parameters(), lr=params['lr'])\n",
    "        \n",
    "    def act(self, observation, reward, done):\n",
    "        self.state = torch.from_numpy(observation).float()\n",
    "        if np.random.rand() < self.eps:\n",
    "            self.action = np.random.choice([0, 1])\n",
    "        else:\n",
    "            input0 = torch.cat((self.state, torch.tensor([0.])))\n",
    "            input1 = torch.cat((self.state, torch.tensor([1.])))\n",
    "            self.action = 0 if self.Q(input0) > self.Q(input1) else 1\n",
    "            \n",
    "        self.eps *= self.epsDecay\n",
    "        return self.action\n",
    "    \n",
    "    def learn(self, observation, reward, done):\n",
    "        self.step += 1\n",
    "        self.D[self.step % self.N] = torch.tensor(list(self.state) + [self.action, reward] + list(observation) + [int(done)])\n",
    "              \n",
    "        inputs = self.D[np.random.randint(0, min(self.N, self.step+1), self.batch)]\n",
    "        x = inputs[:, 0:5]\n",
    "        rewards = inputs[:, 5]\n",
    "        \n",
    "        input0 = torch.cat((inputs[:, 6:10], torch.zeros((self.batch, 1))), dim=1)\n",
    "        input1 = torch.cat((inputs[:, 6:10], torch.ones((self.batch, 1))), dim=1)\n",
    "        y = rewards + self.gamma * (1-inputs[:, -1]) * torch.max(torch.cat([self.Qhat(input0), self.Qhat(input1)], dim=1), dim=1)[0]\n",
    "        \n",
    "        self.optim.zero_grad()\n",
    "        l = self.loss(y, self.Q(x).flatten())\n",
    "        l.backward()\n",
    "        self.optim.step()\n",
    "        \n",
    "        if (self.step % self.C) == 0:\n",
    "            self.Qhat = copy.deepcopy(self.Q)\n",
    "        "
   ]
  },
  {
   "cell_type": "code",
   "execution_count": 5,
   "metadata": {
    "collapsed": true,
    "jupyter": {
     "outputs_hidden": true
    }
   },
   "outputs": [
    {
     "name": "stdout",
     "output_type": "stream",
     "text": [
      "Beginning parameters {'eps': 0.01, 'epsDecay': 0.99999, 'batch': 100, 'C': 100, 'lr': 0.005, 'layers': [200], 'gamma': 0.999, 'N': 100000}\n",
      "Beginning repeat 0\n",
      "Beginning repeat 1\n",
      "Beginning repeat 2\n",
      "Beginning repeat 3\n",
      "Beginning repeat 4\n",
      "Beginning repeat 5\n",
      "Beginning repeat 6\n",
      "Beginning repeat 7\n",
      "Beginning repeat 8\n",
      "Beginning repeat 9\n",
      "Beginning parameters {'eps': 0.01, 'epsDecay': 0.99999, 'batch': 100, 'C': 1, 'lr': 0.005, 'layers': [200], 'gamma': 0.999, 'N': 1}\n",
      "Beginning repeat 0\n",
      "Beginning repeat 1\n",
      "Beginning repeat 2\n",
      "Beginning repeat 3\n",
      "Beginning repeat 4\n",
      "Beginning repeat 5\n",
      "Beginning repeat 6\n",
      "Beginning repeat 7\n",
      "Beginning repeat 8\n",
      "Beginning repeat 9\n",
      "Beginning parameters {'eps': 0.01, 'epsDecay': 0.99999, 'batch': 100, 'C': 100, 'lr': 0.005, 'layers': [200], 'gamma': 0.999, 'N': 1}\n",
      "Beginning repeat 0\n",
      "Beginning repeat 1\n",
      "Beginning repeat 2\n",
      "Beginning repeat 3\n",
      "Beginning repeat 4\n",
      "Beginning repeat 5\n",
      "Beginning repeat 6\n",
      "Beginning repeat 7\n",
      "Beginning repeat 8\n",
      "Beginning repeat 9\n",
      "Beginning parameters {'eps': 0.01, 'epsDecay': 0.99999, 'batch': 100, 'C': 1, 'lr': 0.005, 'layers': [200], 'gamma': 0.999, 'N': 100000}\n",
      "Beginning repeat 0\n",
      "Beginning repeat 1\n",
      "Beginning repeat 2\n",
      "Beginning repeat 3\n",
      "Beginning repeat 4\n",
      "Beginning repeat 5\n",
      "Beginning repeat 6\n",
      "Beginning repeat 7\n",
      "Beginning repeat 8\n",
      "Beginning repeat 9\n",
      "Beginning parameters {'eps': 0.01, 'epsDecay': 0.99999, 'batch': 100, 'C': 100, 'lr': 0.005, 'layers': [50], 'gamma': 0.999, 'N': 100000}\n",
      "Beginning repeat 0\n",
      "Beginning repeat 1\n",
      "Beginning repeat 2\n",
      "Beginning repeat 3\n",
      "Beginning repeat 4\n",
      "Beginning repeat 5\n",
      "Beginning repeat 6\n",
      "Beginning repeat 7\n",
      "Beginning repeat 8\n",
      "Beginning repeat 9\n",
      "Beginning parameters {'eps': 0.01, 'epsDecay': 0.99999, 'batch': 100, 'C': 100, 'lr': 0.005, 'layers': [20], 'gamma': 0.999, 'N': 100000}\n",
      "Beginning repeat 0\n",
      "Beginning repeat 1\n",
      "Beginning repeat 2\n",
      "Beginning repeat 3\n",
      "Beginning repeat 4\n",
      "Beginning repeat 5\n",
      "Beginning repeat 6\n",
      "Beginning repeat 7\n",
      "Beginning repeat 8\n",
      "Beginning repeat 9\n",
      "Beginning parameters {'eps': 0.01, 'epsDecay': 0.99999, 'batch': 100, 'C': 100, 'lr': 0.005, 'layers': [5], 'gamma': 0.999, 'N': 100000}\n",
      "Beginning repeat 0\n",
      "Beginning repeat 1\n",
      "Beginning repeat 2\n",
      "Beginning repeat 3\n",
      "Beginning repeat 4\n",
      "Beginning repeat 5\n",
      "Beginning repeat 6\n",
      "Beginning repeat 7\n",
      "Beginning repeat 8\n",
      "Beginning repeat 9\n"
     ]
    }
   ],
   "source": [
    "env = gym.make('CartPole-v1')\n",
    "#env.seed(0)  # Initialise le seed du pseudo-random\n",
    "#np.random.seed(5)\n",
    "params1 = {'eps':0.01, 'epsDecay':0.99999, 'batch':100, 'C':100, 'lr':0.005, 'layers':[200], 'gamma':0.999, 'N':100000}\n",
    "params2 = {'eps':0.01, 'epsDecay':0.99999, 'batch':100, 'C':1, 'lr':0.005, 'layers':[200], 'gamma':0.999, 'N':1}\n",
    "params2bis = {'eps':0.01, 'epsDecay':0.99999, 'batch':100, 'C':100, 'lr':0.005, 'layers':[200], 'gamma':0.999, 'N':1}\n",
    "params2ter = {'eps':0.01, 'epsDecay':0.99999, 'batch':100, 'C':1, 'lr':0.005, 'layers':[200], 'gamma':0.999, 'N':100000}\n",
    "params3 = {'eps':0.01, 'epsDecay':0.99999, 'batch':100, 'C':100, 'lr':0.005, 'layers':[50], 'gamma':0.999, 'N':100000}\n",
    "params4 = {'eps':0.01, 'epsDecay':0.99999, 'batch':100, 'C':100, 'lr':0.005, 'layers':[20], 'gamma':0.999, 'N':100000}\n",
    "params5 = {'eps':0.01, 'epsDecay':0.99999, 'batch':100, 'C':100, 'lr':0.005, 'layers':[5], 'gamma':0.999, 'N':100000}\n",
    "\n",
    "n_params = 7\n",
    "n_repeats = 10\n",
    "n_iterations = 1000\n",
    "list_rsum = np.zeros((n_params, n_repeats, n_iterations))\n",
    "\n",
    "n_p = 0\n",
    "for p in [params1, params2, params2bis, params2ter, params3, params4, params5]:\n",
    "    print('Beginning parameters ' + str(p))\n",
    "    agent = DQN(env, p)\n",
    "\n",
    "    outdir = outdir = 'cartpole-v0/random-agent-results'\n",
    "    envm = wrappers.Monitor(env, directory=outdir, force=True, video_callable=False)\n",
    "    \n",
    "    for i in range(n_repeats):\n",
    "        print('Beginning repeat %d' % (i))\n",
    "        for j in range(n_iterations):\n",
    "            rsum = 0\n",
    "            obs = envm.reset()\n",
    "            reward = 0 \n",
    "            done = False \n",
    "\n",
    "            while True:\n",
    "                action = agent.act(obs, reward, done)\n",
    "                obs, reward, done, _ = envm.step(action)\n",
    "                agent.learn(obs, reward, done)\n",
    "                rsum += reward\n",
    "                if done:\n",
    "                    break\n",
    "            list_rsum[n_p, i, j]=rsum\n",
    "    env.close()\n",
    "    \n",
    "    n_p += 1\n",
    "    \n",
    "np.save(\"results_cartpole\", list_rsum)"
   ]
  },
  {
   "cell_type": "code",
   "execution_count": 4,
   "metadata": {},
   "outputs": [
    {
     "data": {
      "image/png": "[encoded data removed]",
      "text/plain": [
       "<Figure size 432x288 with 1 Axes>"
      ]
     },
     "metadata": {
      "needs_background": "light"
     },
     "output_type": "display_data"
    }
   ],
   "source": [
    "list_rsum = np.load(\"results_cartpole.npy\")\n",
    "plt.plot(np.cumsum(np.mean(list_rsum[0], axis=0)), label='With ER and TN')\n",
    "plt.plot(np.cumsum(np.mean(list_rsum[1], axis=0)), label='Without ER and TN')\n",
    "plt.plot(np.cumsum(np.mean(list_rsum[2], axis=0)), label='Without ER')\n",
    "plt.plot(np.cumsum(np.mean(list_rsum[3], axis=0)), label='Without TN')\n",
    "plt.legend()\n",
    "plt.title('Comparing different learning methods')\n",
    "plt.show()"
   ]
  },
  {
   "cell_type": "code",
   "execution_count": 5,
   "metadata": {},
   "outputs": [
    {
     "data": {
      "image/png": "[encoded data removed]",
      "text/plain": [
       "<Figure size 432x288 with 1 Axes>"
      ]
     },
     "metadata": {
      "needs_background": "light"
     },
     "output_type": "display_data"
    }
   ],
   "source": [
    "plt.plot(np.cumsum(np.mean(list_rsum[0], axis=0)), label='width=200')\n",
    "plt.plot(np.cumsum(np.mean(list_rsum[4], axis=0)), label='width=50')\n",
    "plt.plot(np.cumsum(np.mean(list_rsum[5], axis=0)), label='width=20')\n",
    "plt.plot(np.cumsum(np.mean(list_rsum[6], axis=0)), label='width=5')\n",
    "plt.legend()\n",
    "plt.show()"
   ]
  },
  {
   "cell_type": "code",
   "execution_count": 10,
   "metadata": {},
   "outputs": [
    {
     "data": {
      "text/plain": [
       "(10, 1000)"
      ]
     },
     "execution_count": 10,
     "metadata": {},
     "output_type": "execute_result"
    }
   ],
   "source": [
    "np.cumsum(list_rsum[0], axis=1).shape"
   ]
  },
  {
   "cell_type": "code",
   "execution_count": 19,
   "metadata": {},
   "outputs": [
    {
     "data": {
      "image/png": "[encoded data removed]",
      "text/plain": [
       "<Figure size 432x288 with 1 Axes>"
      ]
     },
     "metadata": {
      "needs_background": "light"
     },
     "output_type": "display_data"
    }
   ],
   "source": [
    "plt.plot(np.cumsum(list_rsum[6], axis=1).T)\n",
    "plt.show()"
   ]
  },
  {
   "cell_type": "code",
   "execution_count": 7,
   "metadata": {},
   "outputs": [
    {
     "data": {
      "text/plain": [
       "500000"
      ]
     },
     "execution_count": 7,
     "metadata": {},
     "output_type": "execute_result"
    }
   ],
   "source": [
    "500*1000"
   ]
  },
  {
   "cell_type": "code",
   "execution_count": null,
   "metadata": {},
   "outputs": [],
   "source": []
  }
 ],
 "metadata": {
  "kernelspec": {
   "display_name": "Python 3",
   "language": "python",
   "name": "python3"
  },
  "language_info": {
   "codemirror_mode": {
    "name": "ipython",
    "version": 3
   },
   "file_extension": ".py",
   "mimetype": "text/x-python",
   "name": "python",
   "nbconvert_exporter": "python",
   "pygments_lexer": "ipython3",
   "version": "3.7.3"
  }
 },
 "nbformat": 4,
 "nbformat_minor": 4
}
